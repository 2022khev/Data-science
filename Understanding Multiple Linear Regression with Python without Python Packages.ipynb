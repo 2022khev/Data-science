{
 "cells": [
  {
   "cell_type": "markdown",
   "id": "be6cc51b",
   "metadata": {},
   "source": [
    "$ \\hat{Y} = \\hat{\\beta}_{0} + \\sum \\limits _{j=1}^ {n} X_{j}\\hat{\\beta}_{j} $\n",
    "\n",
    "$  \\hat{Y} = \\hat{\\beta}_{0}  + \\hat{ \\beta}_{ TV} * {TV} + \\hat{ \\beta}_{ radio} * {radio}+  \\hat{ \\beta}_{newspaper} * {newspaper}$\n",
    "\n"
   ]
  },
  {
   "cell_type": "markdown",
   "id": "d010b1d8",
   "metadata": {},
   "source": [
    "$ \\hat{Y} = {({X}'X)}^{-1}{({X}'Y)} $"
   ]
  },
  {
   "cell_type": "code",
   "execution_count": 1,
   "id": "28ad3e35",
   "metadata": {},
   "outputs": [],
   "source": [
    "import pandas as pd\n",
    "import numpy as np\n",
    "\n",
    "import warnings\n",
    "warnings.simplefilter(\"ignore\")\n",
    "np.set_printoptions(precision=3)"
   ]
  },
  {
   "cell_type": "code",
   "execution_count": 2,
   "id": "b7d3e5ea",
   "metadata": {},
   "outputs": [
    {
     "data": {
      "text/html": [
       "<div>\n",
       "<style scoped>\n",
       "    .dataframe tbody tr th:only-of-type {\n",
       "        vertical-align: middle;\n",
       "    }\n",
       "\n",
       "    .dataframe tbody tr th {\n",
       "        vertical-align: top;\n",
       "    }\n",
       "\n",
       "    .dataframe thead th {\n",
       "        text-align: right;\n",
       "    }\n",
       "</style>\n",
       "<table border=\"1\" class=\"dataframe\">\n",
       "  <thead>\n",
       "    <tr style=\"text-align: right;\">\n",
       "      <th></th>\n",
       "      <th>Unnamed: 0</th>\n",
       "      <th>TV</th>\n",
       "      <th>radio</th>\n",
       "      <th>newspaper</th>\n",
       "      <th>sales</th>\n",
       "    </tr>\n",
       "  </thead>\n",
       "  <tbody>\n",
       "    <tr>\n",
       "      <th>0</th>\n",
       "      <td>1</td>\n",
       "      <td>230.1</td>\n",
       "      <td>37.8</td>\n",
       "      <td>69.2</td>\n",
       "      <td>22.1</td>\n",
       "    </tr>\n",
       "    <tr>\n",
       "      <th>1</th>\n",
       "      <td>2</td>\n",
       "      <td>44.5</td>\n",
       "      <td>39.3</td>\n",
       "      <td>45.1</td>\n",
       "      <td>10.4</td>\n",
       "    </tr>\n",
       "    <tr>\n",
       "      <th>2</th>\n",
       "      <td>3</td>\n",
       "      <td>17.2</td>\n",
       "      <td>45.9</td>\n",
       "      <td>69.3</td>\n",
       "      <td>9.3</td>\n",
       "    </tr>\n",
       "    <tr>\n",
       "      <th>3</th>\n",
       "      <td>4</td>\n",
       "      <td>151.5</td>\n",
       "      <td>41.3</td>\n",
       "      <td>58.5</td>\n",
       "      <td>18.5</td>\n",
       "    </tr>\n",
       "    <tr>\n",
       "      <th>4</th>\n",
       "      <td>5</td>\n",
       "      <td>180.8</td>\n",
       "      <td>10.8</td>\n",
       "      <td>58.4</td>\n",
       "      <td>12.9</td>\n",
       "    </tr>\n",
       "  </tbody>\n",
       "</table>\n",
       "</div>"
      ],
      "text/plain": [
       "   Unnamed: 0     TV  radio  newspaper  sales\n",
       "0           1  230.1   37.8       69.2   22.1\n",
       "1           2   44.5   39.3       45.1   10.4\n",
       "2           3   17.2   45.9       69.3    9.3\n",
       "3           4  151.5   41.3       58.5   18.5\n",
       "4           5  180.8   10.8       58.4   12.9"
      ]
     },
     "execution_count": 2,
     "metadata": {},
     "output_type": "execute_result"
    }
   ],
   "source": [
    "data =pd.read_csv(\"Advertising.csv\")\n",
    "data.head()"
   ]
  },
  {
   "cell_type": "code",
   "execution_count": 3,
   "id": "84619f55",
   "metadata": {},
   "outputs": [
    {
     "name": "stdout",
     "output_type": "stream",
     "text": [
      "(200, 4)\n",
      "(200,)\n"
     ]
    }
   ],
   "source": [
    "inputt = data[[\"TV\",\"radio\",\"newspaper\"]]\n",
    "cons = pd.DataFrame(np.ones(len(data)),columns=['Constant'])\n",
    "\n",
    "x = pd.concat([cons,inputt],axis=1)\n",
    "y = data.sales.values\n",
    "\n",
    "print(x.shape)\n",
    "print(y.shape)"
   ]
  },
  {
   "cell_type": "markdown",
   "id": "36043cf1",
   "metadata": {},
   "source": [
    "$ {({X}'X)}^{-1} $"
   ]
  },
  {
   "cell_type": "markdown",
   "id": "a6d779f9",
   "metadata": {},
   "source": [
    "${X} $"
   ]
  },
  {
   "cell_type": "code",
   "execution_count": 4,
   "id": "8015943a",
   "metadata": {},
   "outputs": [
    {
     "data": {
      "text/plain": [
       "matrix([[  1. , 230.1,  37.8,  69.2],\n",
       "        [  1. ,  44.5,  39.3,  45.1],\n",
       "        [  1. ,  17.2,  45.9,  69.3],\n",
       "        [  1. , 151.5,  41.3,  58.5],\n",
       "        [  1. , 180.8,  10.8,  58.4]])"
      ]
     },
     "execution_count": 4,
     "metadata": {},
     "output_type": "execute_result"
    }
   ],
   "source": [
    "x= np.matrix(x)\n",
    "x[:5]"
   ]
  },
  {
   "cell_type": "markdown",
   "id": "4c89e1a3",
   "metadata": {},
   "source": [
    "$ {X}' $"
   ]
  },
  {
   "cell_type": "code",
   "execution_count": 5,
   "id": "7dad6767",
   "metadata": {},
   "outputs": [],
   "source": [
    "xt = np.matrix.transpose(x)"
   ]
  },
  {
   "cell_type": "markdown",
   "id": "753208b9",
   "metadata": {},
   "source": [
    "$ {Y}_{i}$"
   ]
  },
  {
   "cell_type": "code",
   "execution_count": 6,
   "id": "f4a38f7c",
   "metadata": {},
   "outputs": [
    {
     "data": {
      "text/plain": [
       "matrix([[22.1],\n",
       "        [10.4],\n",
       "        [ 9.3],\n",
       "        [18.5],\n",
       "        [12.9]])"
      ]
     },
     "execution_count": 6,
     "metadata": {},
     "output_type": "execute_result"
    }
   ],
   "source": [
    "y = np.matrix(data['sales'].values).transpose()\n",
    "y[:5]"
   ]
  },
  {
   "cell_type": "markdown",
   "id": "d949f6f2",
   "metadata": {},
   "source": [
    "$ {({X}'X)}$"
   ]
  },
  {
   "cell_type": "code",
   "execution_count": 7,
   "id": "112709b2",
   "metadata": {},
   "outputs": [
    {
     "data": {
      "text/plain": [
       "matrix([[2.000e+02, 2.941e+04, 4.653e+03, 6.111e+03],\n",
       "        [2.941e+04, 5.791e+06, 6.981e+05, 9.196e+05],\n",
       "        [4.653e+03, 6.981e+05, 1.521e+05, 1.649e+05],\n",
       "        [6.111e+03, 9.196e+05, 1.649e+05, 2.811e+05]])"
      ]
     },
     "execution_count": 7,
     "metadata": {},
     "output_type": "execute_result"
    }
   ],
   "source": [
    "xt_x = np.matmul(xt,x)\n",
    "xt_x"
   ]
  },
  {
   "cell_type": "markdown",
   "id": "13baefa4",
   "metadata": {},
   "source": [
    "$ {({X}'Y)}$"
   ]
  },
  {
   "cell_type": "code",
   "execution_count": 8,
   "id": "7845a209",
   "metadata": {},
   "outputs": [
    {
     "data": {
      "text/plain": [
       "matrix([[  2804.5 ],\n",
       "        [482108.34],\n",
       "        [ 74126.39],\n",
       "        [ 90851.03]])"
      ]
     },
     "execution_count": 8,
     "metadata": {},
     "output_type": "execute_result"
    }
   ],
   "source": [
    "xt_y = np.matmul(xt,y)\n",
    "xt_y"
   ]
  },
  {
   "cell_type": "markdown",
   "id": "340868b8",
   "metadata": {},
   "source": [
    "$ \\hat{Y} = {({X}'X)}^{-1}{({X}'Y)} $"
   ]
  },
  {
   "cell_type": "code",
   "execution_count": 9,
   "id": "b8fabc73",
   "metadata": {},
   "outputs": [
    {
     "data": {
      "text/plain": [
       "matrix([[ 2.939e+00],\n",
       "        [ 4.576e-02],\n",
       "        [ 1.885e-01],\n",
       "        [-1.037e-03]])"
      ]
     },
     "execution_count": 9,
     "metadata": {},
     "output_type": "execute_result"
    }
   ],
   "source": [
    "betas = np.matmul(np.linalg.inv(xt_x),xt_y)\n",
    "betas"
   ]
  },
  {
   "cell_type": "markdown",
   "id": "5e9a7b7c",
   "metadata": {},
   "source": [
    "Intercept coeficients\n",
    "\n",
    "$ \\hat{\\beta}_{0}$"
   ]
  },
  {
   "cell_type": "code",
   "execution_count": 10,
   "id": "cb1d5761",
   "metadata": {},
   "outputs": [
    {
     "data": {
      "text/plain": [
       "matrix([[2.939]])"
      ]
     },
     "execution_count": 10,
     "metadata": {},
     "output_type": "execute_result"
    }
   ],
   "source": [
    "intercept = betas[0]\n",
    "intercept"
   ]
  },
  {
   "cell_type": "markdown",
   "id": "570919ab",
   "metadata": {},
   "source": [
    "Slope Coefficients\n",
    "\n",
    "$ \\hat{\\beta}_{TV}$ \n",
    "\n",
    "$ \\hat{\\beta}_{radio}$\n",
    "\n",
    "$ \\hat{\\beta}_{newspaper}$"
   ]
  },
  {
   "cell_type": "code",
   "execution_count": 11,
   "id": "a97820c1",
   "metadata": {},
   "outputs": [
    {
     "data": {
      "text/plain": [
       "matrix([[ 2.939e+00],\n",
       "        [ 4.576e-02],\n",
       "        [ 1.885e-01],\n",
       "        [-1.037e-03]])"
      ]
     },
     "execution_count": 11,
     "metadata": {},
     "output_type": "execute_result"
    }
   ],
   "source": [
    "coefficients = betas[0:]\n",
    "coefficients"
   ]
  },
  {
   "cell_type": "markdown",
   "id": "f5d6af74",
   "metadata": {},
   "source": [
    "$  \\hat{Y} = \\hat{\\beta}_{0}  + \\hat{ \\beta}_{ TV} * {TV} + \\hat{ \\beta}_{ radio} * {radio}+  \\hat{ \\beta}_{newspaper} * {newspaper}$\n",
    "\n",
    "$\\hat{Y} ={2.9272}  + {0.04576} * { TV} + { 0.1885} *{radio} - {0.001037} * {newspaper}$\n",
    "\n"
   ]
  },
  {
   "cell_type": "markdown",
   "id": "286a77f7",
   "metadata": {},
   "source": [
    "Standard Errors"
   ]
  },
  {
   "cell_type": "markdown",
   "id": "bc0cae8c",
   "metadata": {},
   "source": [
    "Step 1\n",
    "\n",
    "$ \\hat{Y} $"
   ]
  },
  {
   "cell_type": "code",
   "execution_count": 12,
   "id": "3ef0acbc",
   "metadata": {},
   "outputs": [
    {
     "data": {
      "text/plain": [
       "matrix([[20.524],\n",
       "        [12.338],\n",
       "        [12.308],\n",
       "        [17.598],\n",
       "        [13.189],\n",
       "        [12.478],\n",
       "        [11.73 ],\n",
       "        [12.123],\n",
       "        [ 3.727],\n",
       "        [12.551],\n",
       "        [ 7.032],\n",
       "        [17.285],\n",
       "        [10.577],\n",
       "        [ 8.826],\n",
       "        [18.434],\n",
       "        [20.819],\n",
       "        [12.824],\n",
       "        [23.225],\n",
       "        [ 9.952],\n",
       "        [14.166],\n",
       "        [18.101],\n",
       "        [14.741],\n",
       "        [ 6.489],\n",
       "        [16.546],\n",
       "        [ 8.147],\n",
       "        [15.61 ],\n",
       "        [14.99 ],\n",
       "        [17.052],\n",
       "        [19.411],\n",
       "        [ 9.144],\n",
       "        [21.634],\n",
       "        [11.346],\n",
       "        [ 7.639],\n",
       "        [18.864],\n",
       "        [ 7.575],\n",
       "        [17.007],\n",
       "        [23.406],\n",
       "        [15.623],\n",
       "        [ 9.909],\n",
       "        [20.448],\n",
       "        [16.378],\n",
       "        [17.296],\n",
       "        [21.596],\n",
       "        [13.964],\n",
       "        [ 8.888],\n",
       "        [15.162],\n",
       "        [ 8.873],\n",
       "        [21.723],\n",
       "        [16.264],\n",
       "        [ 8.168],\n",
       "        [12.631],\n",
       "        [ 9.34 ],\n",
       "        [20.663],\n",
       "        [19.945],\n",
       "        [20.374],\n",
       "        [21.293],\n",
       "        [ 8.528],\n",
       "        [12.775],\n",
       "        [21.898],\n",
       "        [18.133],\n",
       "        [ 5.742],\n",
       "        [22.891],\n",
       "        [16.784],\n",
       "        [13.211],\n",
       "        [16.978],\n",
       "        [ 7.849],\n",
       "        [ 9.016],\n",
       "        [12.037],\n",
       "        [18.977],\n",
       "        [21.109],\n",
       "        [17.779],\n",
       "        [10.627],\n",
       "        [10.367],\n",
       "        [ 9.903],\n",
       "        [17.329],\n",
       "        [11.858],\n",
       "        [ 4.478],\n",
       "        [13.812],\n",
       "        [ 8.813],\n",
       "        [ 9.675],\n",
       "        [11.446],\n",
       "        [14.648],\n",
       "        [10.178],\n",
       "        [14.422],\n",
       "        [20.781],\n",
       "        [15.181],\n",
       "        [11.599],\n",
       "        [15.594],\n",
       "        [11.711],\n",
       "        [16.922],\n",
       "        [ 9.999],\n",
       "        [ 4.496],\n",
       "        [19.156],\n",
       "        [21.228],\n",
       "        [10.482],\n",
       "        [16.315],\n",
       "        [12.636],\n",
       "        [15.337],\n",
       "        [24.119],\n",
       "        [16.94 ],\n",
       "        [13.876],\n",
       "        [23.242],\n",
       "        [17.644],\n",
       "        [14.762],\n",
       "        [20.301],\n",
       "        [17.936],\n",
       "        [ 6.126],\n",
       "        [ 7.109],\n",
       "        [ 3.587],\n",
       "        [19.693],\n",
       "        [14.76 ],\n",
       "        [21.14 ],\n",
       "        [13.881],\n",
       "        [16.404],\n",
       "        [15.305],\n",
       "        [12.92 ],\n",
       "        [11.979],\n",
       "        [ 6.571],\n",
       "        [15.566],\n",
       "        [ 6.82 ],\n",
       "        [14.41 ],\n",
       "        [ 7.838],\n",
       "        [13.626],\n",
       "        [15.083],\n",
       "        [19.454],\n",
       "        [ 9.127],\n",
       "        [10.577],\n",
       "        [ 6.6  ],\n",
       "        [22.255],\n",
       "        [ 7.884],\n",
       "        [10.428],\n",
       "        [15.578],\n",
       "        [ 8.449],\n",
       "        [19.267],\n",
       "        [11.837],\n",
       "        [14.001],\n",
       "        [11.453],\n",
       "        [20.851],\n",
       "        [ 9.768],\n",
       "        [19.675],\n",
       "        [ 9.49 ],\n",
       "        [18.399],\n",
       "        [19.25 ],\n",
       "        [ 8.765],\n",
       "        [10.091],\n",
       "        [ 9.709],\n",
       "        [15.294],\n",
       "        [23.261],\n",
       "        [12.263],\n",
       "        [ 9.827],\n",
       "        [18.367],\n",
       "        [10.01 ],\n",
       "        [16.36 ],\n",
       "        [18.224],\n",
       "        [15.502],\n",
       "        [ 5.308],\n",
       "        [15.385],\n",
       "        [10.014],\n",
       "        [10.384],\n",
       "        [12.399],\n",
       "        [14.214],\n",
       "        [13.559],\n",
       "        [14.947],\n",
       "        [17.352],\n",
       "        [11.068],\n",
       "        [14.224],\n",
       "        [10.824],\n",
       "        [13.363],\n",
       "        [17.186],\n",
       "        [17.942],\n",
       "        [ 7.395],\n",
       "        [14.358],\n",
       "        [ 7.608],\n",
       "        [11.971],\n",
       "        [13.744],\n",
       "        [24.787],\n",
       "        [19.979],\n",
       "        [12.162],\n",
       "        [16.011],\n",
       "        [12.385],\n",
       "        [10.587],\n",
       "        [13.928],\n",
       "        [ 6.555],\n",
       "        [24.133],\n",
       "        [18.539],\n",
       "        [20.803],\n",
       "        [ 9.691],\n",
       "        [17.076],\n",
       "        [18.644],\n",
       "        [ 6.052],\n",
       "        [12.489],\n",
       "        [ 8.424],\n",
       "        [ 4.466],\n",
       "        [18.487],\n",
       "        [16.495],\n",
       "        [ 5.37 ],\n",
       "        [ 8.165],\n",
       "        [12.786],\n",
       "        [23.767],\n",
       "        [15.173]])"
      ]
     },
     "execution_count": 12,
     "metadata": {},
     "output_type": "execute_result"
    }
   ],
   "source": [
    "yhat = x.dot(betas)\n",
    "yhat"
   ]
  },
  {
   "cell_type": "markdown",
   "id": "1e66fc24",
   "metadata": {},
   "source": [
    "Step 2 Sum Square of Error(SSE)\n",
    "\n",
    "Simple Linear Regression\n",
    "\n",
    "$SSE = {\\sum\\limits}_{i=1}^{n}{({Y}_{i} - \\hat{Y})^2} $\n",
    "\n",
    "Multple Linear Regression\n",
    "\n",
    "$ {SSE} = {({Y}'Y)}^{-1}{(\\hat{\\beta}{X}{'Y})} $"
   ]
  },
  {
   "cell_type": "markdown",
   "id": "70f13890",
   "metadata": {},
   "source": [
    "Step 3\n",
    "$$ \n",
    "SE = SSE / {(n-p)} \n",
    "$$\n",
    "\n",
    "<!-- $$\n",
    "  \\int_0^\\infty \\frac{x^3}{e^x-1}\\,dx = \\frac{\\pi^4}{15}\n",
    "$$ -->"
   ]
  },
  {
   "cell_type": "markdown",
   "id": "d0dcbc22",
   "metadata": {},
   "source": [
    "${({Y}'Y)}$"
   ]
  },
  {
   "cell_type": "code",
   "execution_count": 13,
   "id": "5071bc7a",
   "metadata": {},
   "outputs": [
    {
     "data": {
      "text/plain": [
       "matrix([[44743.25]])"
      ]
     },
     "execution_count": 13,
     "metadata": {},
     "output_type": "execute_result"
    }
   ],
   "source": [
    "yt = np.transpose(y)\n",
    "yt_y =np.matmul(yt,y)\n",
    "yt_y"
   ]
  },
  {
   "cell_type": "code",
   "execution_count": 14,
   "id": "1ebd7728",
   "metadata": {},
   "outputs": [],
   "source": [
    "# np.transpose(x)"
   ]
  },
  {
   "cell_type": "markdown",
   "id": "422825b6",
   "metadata": {},
   "source": [
    "${\\hat{\\beta}{X}{'Y}} $"
   ]
  },
  {
   "cell_type": "code",
   "execution_count": 15,
   "id": "db3e963a",
   "metadata": {},
   "outputs": [
    {
     "name": "stdout",
     "output_type": "stream",
     "text": [
      "[[556.825]]\n"
     ]
    },
    {
     "data": {
      "text/plain": [
       "matrix([[2.841]])"
      ]
     },
     "execution_count": 15,
     "metadata": {},
     "output_type": "execute_result"
    }
   ],
   "source": [
    "a=np.matmul(np.transpose(betas),xt)\n",
    "b=np.matmul(a,y)\n",
    "SSE =yt_y-b\n",
    "print(SSE)\n",
    "SE=SSE/(len(x)-len(betas))\n",
    "SE"
   ]
  },
  {
   "cell_type": "code",
   "execution_count": 16,
   "id": "71561b34",
   "metadata": {},
   "outputs": [
    {
     "data": {
      "text/plain": [
       "2.8409452188887108"
      ]
     },
     "execution_count": 16,
     "metadata": {},
     "output_type": "execute_result"
    }
   ],
   "source": [
    "#Alternatively\n",
    "k=(yhat-y)\n",
    "kl=pd.DataFrame(np.array(k),columns=['Difference'])\n",
    "(kl.Difference**2).sum()/(len(x)-len(betas))"
   ]
  },
  {
   "cell_type": "code",
   "execution_count": 17,
   "id": "f4bb28c1",
   "metadata": {},
   "outputs": [
    {
     "data": {
      "text/plain": [
       "matrix([[556.825]])"
      ]
     },
     "execution_count": 17,
     "metadata": {},
     "output_type": "execute_result"
    }
   ],
   "source": [
    "SSE"
   ]
  },
  {
   "cell_type": "markdown",
   "id": "53bffdd7",
   "metadata": {},
   "source": [
    "$SSR = {\\hat{\\beta}{X}{'Y}} - ({\\sum\\limits}_{i=j}^{n}{Y}_{j})^2/n $"
   ]
  },
  {
   "cell_type": "code",
   "execution_count": 18,
   "id": "991d7bae",
   "metadata": {},
   "outputs": [
    {
     "data": {
      "text/plain": [
       "matrix([[4860.323]])"
      ]
     },
     "execution_count": 18,
     "metadata": {},
     "output_type": "execute_result"
    }
   ],
   "source": [
    "yvalues = np.sum(np.array(y))\n",
    "ymean=(yvalues)**2/len(y)\n",
    "ymean\n",
    "\n",
    "SSR = b - ymean\n",
    "SSR"
   ]
  },
  {
   "cell_type": "markdown",
   "id": "d7f1dce9",
   "metadata": {},
   "source": [
    "n= Observations\n",
    "\n",
    "p = k + 1\n",
    "\n",
    "k = No. Regressors\n",
    "\n",
    "1 = intercept"
   ]
  },
  {
   "cell_type": "markdown",
   "id": "a81cf2aa",
   "metadata": {},
   "source": [
    "$SST= {({Y}'Y)} - ({\\sum\\limits}_{i=j}^{n}{Y}_{j})^2$\n",
    "\n",
    "$SST= {SSE} + {SSR}$"
   ]
  },
  {
   "cell_type": "code",
   "execution_count": 19,
   "id": "96c79b87",
   "metadata": {},
   "outputs": [
    {
     "data": {
      "text/plain": [
       "matrix([[5417.149]])"
      ]
     },
     "execution_count": 19,
     "metadata": {},
     "output_type": "execute_result"
    }
   ],
   "source": [
    "#Alternatively\n",
    "SST =yt_y - ymean\n",
    "SST"
   ]
  },
  {
   "cell_type": "code",
   "execution_count": 20,
   "id": "75bf5795",
   "metadata": {},
   "outputs": [
    {
     "data": {
      "text/plain": [
       "matrix([[5417.149]])"
      ]
     },
     "execution_count": 20,
     "metadata": {},
     "output_type": "execute_result"
    }
   ],
   "source": [
    "SST = SSE + SSR\n",
    "SST"
   ]
  },
  {
   "cell_type": "code",
   "execution_count": 21,
   "id": "7cf79173",
   "metadata": {},
   "outputs": [
    {
     "data": {
      "text/html": [
       "<div>\n",
       "<style scoped>\n",
       "    .dataframe tbody tr th:only-of-type {\n",
       "        vertical-align: middle;\n",
       "    }\n",
       "\n",
       "    .dataframe tbody tr th {\n",
       "        vertical-align: top;\n",
       "    }\n",
       "\n",
       "    .dataframe thead th {\n",
       "        text-align: right;\n",
       "    }\n",
       "</style>\n",
       "<table border=\"1\" class=\"dataframe\">\n",
       "  <thead>\n",
       "    <tr style=\"text-align: right;\">\n",
       "      <th></th>\n",
       "      <th>Sources of Variation</th>\n",
       "      <th>Sum of Squares</th>\n",
       "      <th>DF</th>\n",
       "      <th>MS</th>\n",
       "      <th>F-Statistics</th>\n",
       "    </tr>\n",
       "  </thead>\n",
       "  <tbody>\n",
       "    <tr>\n",
       "      <th>0</th>\n",
       "      <td>Regression</td>\n",
       "      <td>[[[[[4860.323]]]]]</td>\n",
       "      <td>3</td>\n",
       "      <td>[[[[[1620.108]]]]]</td>\n",
       "      <td>[[[[[570.271]]]]]</td>\n",
       "    </tr>\n",
       "    <tr>\n",
       "      <th>1</th>\n",
       "      <td>Residual</td>\n",
       "      <td>[[[[[556.825]]]]]</td>\n",
       "      <td>196</td>\n",
       "      <td>[[[[[2.841]]]]]</td>\n",
       "      <td></td>\n",
       "    </tr>\n",
       "    <tr>\n",
       "      <th>2</th>\n",
       "      <td>Total</td>\n",
       "      <td>[[[[[5417.149]]]]]</td>\n",
       "      <td>199</td>\n",
       "      <td></td>\n",
       "      <td></td>\n",
       "    </tr>\n",
       "  </tbody>\n",
       "</table>\n",
       "</div>"
      ],
      "text/plain": [
       "  Sources of Variation      Sum of Squares   DF                  MS   \n",
       "0           Regression  [[[[[4860.323]]]]]    3  [[[[[1620.108]]]]]  \\\n",
       "1             Residual   [[[[[556.825]]]]]  196     [[[[[2.841]]]]]   \n",
       "2                Total  [[[[[5417.149]]]]]  199                       \n",
       "\n",
       "        F-Statistics  \n",
       "0  [[[[[570.271]]]]]  \n",
       "1                     \n",
       "2                     "
      ]
     },
     "execution_count": 21,
     "metadata": {},
     "output_type": "execute_result"
    }
   ],
   "source": [
    "ANOVA=pd.DataFrame({\n",
    "    \"Sources of Variation\":[\"Regression\",\"Residual\",\"Total\"],\n",
    "    \"Sum of Squares\":[SSR,SSE,SST],\n",
    "    \"DF\":[len(betas)-1,len(x)-len(betas),len(x)-1],\n",
    "    \"MS\":[SSR/((len(betas)-1)),SSE/((len(x)-len(betas))),\"\"],\n",
    "     \"F-Statistics\":[(SSR/(len(betas)-1))/ (SSE/(len(x)-len(betas))),\"\",\"\"]\n",
    "\n",
    "})\n",
    "# ANOVA.index = [[\"Regression\",\"Residual\",\"Total\"]]\n",
    "ANOVA"
   ]
  },
  {
   "cell_type": "code",
   "execution_count": 22,
   "id": "aa404235",
   "metadata": {},
   "outputs": [
    {
     "data": {
      "text/plain": [
       "matrix([[0.897]])"
      ]
     },
     "execution_count": 22,
     "metadata": {},
     "output_type": "execute_result"
    }
   ],
   "source": [
    "R_Sq = SSR/SST\n",
    "R_Sq[0]"
   ]
  },
  {
   "cell_type": "code",
   "execution_count": 23,
   "id": "c2b6bbe0",
   "metadata": {},
   "outputs": [
    {
     "data": {
      "text/plain": [
       "matrix([[0.896]])"
      ]
     },
     "execution_count": 23,
     "metadata": {},
     "output_type": "execute_result"
    }
   ],
   "source": [
    "Adj_R_SQ = 1-((len(x)-1)/(len(x)-len(betas)))*(1-R_Sq)\n",
    "Adj_R_SQ"
   ]
  },
  {
   "cell_type": "code",
   "execution_count": 24,
   "id": "38107995",
   "metadata": {},
   "outputs": [],
   "source": [
    "#T-Statistics"
   ]
  },
  {
   "cell_type": "code",
   "execution_count": 25,
   "id": "a9b42410",
   "metadata": {},
   "outputs": [
    {
     "data": {
      "text/plain": [
       "matrix([[ 3.424e-02, -9.353e-05, -3.926e-04, -2.080e-04],\n",
       "        [-9.353e-05,  6.849e-07, -1.574e-07, -1.150e-07],\n",
       "        [-3.926e-04, -1.574e-07,  2.610e-05, -6.266e-06],\n",
       "        [-2.080e-04, -1.150e-07, -6.266e-06,  1.213e-05]])"
      ]
     },
     "execution_count": 25,
     "metadata": {},
     "output_type": "execute_result"
    }
   ],
   "source": [
    "xtxinv=np.linalg.inv(xt_x)\n",
    "xtxinv"
   ]
  },
  {
   "cell_type": "code",
   "execution_count": null,
   "id": "8fedba70",
   "metadata": {},
   "outputs": [],
   "source": [
    "import math\n",
    "from scipy.stats import f\n",
    "\n",
    "SE_intercept = math.sqrt(np.array(xtxinv)[0][0]*SE)\n",
    "t_Intercept = np.array(betas)[0] / math.sqrt(np.array(xtxinv)[0][0]*SE)\n",
    "print(SE_intercept)\n",
    "print(t_Intercept )"
   ]
  },
  {
   "cell_type": "code",
   "execution_count": 27,
   "id": "12cdcf2a",
   "metadata": {},
   "outputs": [
    {
     "name": "stdout",
     "output_type": "stream",
     "text": [
      "0.0013948968069749388\n",
      "[32.809]\n"
     ]
    }
   ],
   "source": [
    "SE_TV = math.sqrt(np.array(xtxinv)[1][1]*SE)\n",
    "t_TV = np.array(betas)[1] / math.sqrt(np.array(xtxinv)[1][1]*SE)\n",
    "print(SE_TV)\n",
    "print(t_TV )"
   ]
  },
  {
   "cell_type": "code",
   "execution_count": 28,
   "id": "479f5e6c",
   "metadata": {},
   "outputs": [
    {
     "name": "stdout",
     "output_type": "stream",
     "text": [
      "0.008611233967301719\n",
      "[21.893]\n"
     ]
    }
   ],
   "source": [
    "SE_radio = math.sqrt(np.array(xtxinv)[2][2]*SE)\n",
    "t_radio = np.array(betas)[2] / math.sqrt(np.array(xtxinv)[2][2]*SE)\n",
    "print(SE_radio)\n",
    "print(t_radio)"
   ]
  },
  {
   "cell_type": "code",
   "execution_count": 29,
   "id": "00a56815",
   "metadata": {},
   "outputs": [
    {
     "name": "stdout",
     "output_type": "stream",
     "text": [
      "0.008611233967301719\n",
      "[21.893]\n"
     ]
    }
   ],
   "source": [
    "SE_newspaper = math.sqrt(np.array(xtxinv)[3][3]*SE)\n",
    "t_newspaper = np.array(betas)[3] / math.sqrt(np.array(xtxinv)[3][3]*SE)\n",
    "print(SE_radio)\n",
    "print(t_radio)"
   ]
  },
  {
   "cell_type": "code",
   "execution_count": null,
   "id": "736482f5",
   "metadata": {},
   "outputs": [],
   "source": []
  },
  {
   "cell_type": "code",
   "execution_count": null,
   "id": "fcaec498",
   "metadata": {},
   "outputs": [],
   "source": []
  }
 ],
 "metadata": {
  "kernelspec": {
   "display_name": "Python 3 (ipykernel)",
   "language": "python",
   "name": "python3"
  },
  "language_info": {
   "codemirror_mode": {
    "name": "ipython",
    "version": 3
   },
   "file_extension": ".py",
   "mimetype": "text/x-python",
   "name": "python",
   "nbconvert_exporter": "python",
   "pygments_lexer": "ipython3",
   "version": "3.8.16"
  }
 },
 "nbformat": 4,
 "nbformat_minor": 5
}
