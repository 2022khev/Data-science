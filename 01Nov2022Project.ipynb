{
 "cells": [
  {
   "cell_type": "code",
   "execution_count": 20,
   "id": "2e14135e",
   "metadata": {},
   "outputs": [],
   "source": [
    "# Import libraries here\n",
    "import pandas as pd\n",
    "import numpy as np\n",
    "import matplotlib.pyplot as plt\n",
    "\n",
    "from sklearn.linear_model import LinearRegression\n",
    "from sklearn.metrics import mean_absolute_error\n",
    "from sklearn.utils.validation import check_is_fitted"
   ]
  },
  {
   "cell_type": "code",
   "execution_count": null,
   "id": "44bc1e71",
   "metadata": {},
   "outputs": [],
   "source": [
    "#use function to import data"
   ]
  },
  {
   "cell_type": "code",
   "execution_count": 26,
   "id": "6d71b6b7",
   "metadata": {},
   "outputs": [],
   "source": [
    "def wrangle(filepath):\n",
    "    df=pd.read_csv(filepath)\n",
    "    return df"
   ]
  },
  {
   "cell_type": "raw",
   "id": "305fef0a",
   "metadata": {},
   "source": [
    "# Use this cell to test your wrangle function and explore the data"
   ]
  },
  {
   "cell_type": "code",
   "execution_count": 28,
   "id": "11354976",
   "metadata": {},
   "outputs": [
    {
     "data": {
      "text/html": [
       "<div>\n",
       "<style scoped>\n",
       "    .dataframe tbody tr th:only-of-type {\n",
       "        vertical-align: middle;\n",
       "    }\n",
       "\n",
       "    .dataframe tbody tr th {\n",
       "        vertical-align: top;\n",
       "    }\n",
       "\n",
       "    .dataframe thead th {\n",
       "        text-align: right;\n",
       "    }\n",
       "</style>\n",
       "<table border=\"1\" class=\"dataframe\">\n",
       "  <thead>\n",
       "    <tr style=\"text-align: right;\">\n",
       "      <th></th>\n",
       "      <th>Sepal_Length</th>\n",
       "      <th>Sepal_Width</th>\n",
       "      <th>Petal_Length</th>\n",
       "      <th>Petal_Width</th>\n",
       "      <th>Species</th>\n",
       "    </tr>\n",
       "  </thead>\n",
       "  <tbody>\n",
       "    <tr>\n",
       "      <th>0</th>\n",
       "      <td>5.1</td>\n",
       "      <td>3.5</td>\n",
       "      <td>1.4</td>\n",
       "      <td>0.2</td>\n",
       "      <td>setosa</td>\n",
       "    </tr>\n",
       "    <tr>\n",
       "      <th>1</th>\n",
       "      <td>4.9</td>\n",
       "      <td>3.0</td>\n",
       "      <td>1.4</td>\n",
       "      <td>0.2</td>\n",
       "      <td>setosa</td>\n",
       "    </tr>\n",
       "    <tr>\n",
       "      <th>2</th>\n",
       "      <td>4.7</td>\n",
       "      <td>3.2</td>\n",
       "      <td>1.3</td>\n",
       "      <td>0.2</td>\n",
       "      <td>setosa</td>\n",
       "    </tr>\n",
       "    <tr>\n",
       "      <th>3</th>\n",
       "      <td>4.6</td>\n",
       "      <td>3.1</td>\n",
       "      <td>1.5</td>\n",
       "      <td>0.2</td>\n",
       "      <td>setosa</td>\n",
       "    </tr>\n",
       "    <tr>\n",
       "      <th>4</th>\n",
       "      <td>5.0</td>\n",
       "      <td>3.6</td>\n",
       "      <td>1.4</td>\n",
       "      <td>0.2</td>\n",
       "      <td>setosa</td>\n",
       "    </tr>\n",
       "  </tbody>\n",
       "</table>\n",
       "</div>"
      ],
      "text/plain": [
       "   Sepal_Length  Sepal_Width  Petal_Length  Petal_Width Species\n",
       "0           5.1          3.5           1.4          0.2  setosa\n",
       "1           4.9          3.0           1.4          0.2  setosa\n",
       "2           4.7          3.2           1.3          0.2  setosa\n",
       "3           4.6          3.1           1.5          0.2  setosa\n",
       "4           5.0          3.6           1.4          0.2  setosa"
      ]
     },
     "execution_count": 28,
     "metadata": {},
     "output_type": "execute_result"
    }
   ],
   "source": [
    "# Use this cell to test your wrangle function and explore the data\n",
    "df=wrangle(r\"C:\\Users\\kelvin\\OneDrive\\Desktop\\iris.csv\")\n",
    "df.head()"
   ]
  },
  {
   "cell_type": "markdown",
   "id": "42d41448",
   "metadata": {},
   "source": [
    "Use glob to create the list files. It should contain the filenames of all the iris csv\n",
    "in the ./data directory, except for mexico-city-test-features.csv."
   ]
  },
  {
   "cell_type": "code",
   "execution_count": 33,
   "id": "d76aca04",
   "metadata": {},
   "outputs": [
    {
     "data": {
      "text/plain": [
       "[]"
      ]
     },
     "execution_count": 33,
     "metadata": {},
     "output_type": "execute_result"
    }
   ],
   "source": [
    "import glob\n",
    "files = glob.glob(\"iris*.csv\")\n",
    "files"
   ]
  },
  {
   "cell_type": "markdown",
   "id": "f078d02e",
   "metadata": {},
   "source": [
    "Combine your wrangle function, a list comprehension, and pd.concat to create a DataFrame df. \n",
    "It should contain all the properties \n",
    "from the five CSVs in files."
   ]
  },
  {
   "cell_type": "code",
   "execution_count": null,
   "id": "8a340479",
   "metadata": {},
   "outputs": [],
   "source": [
    "frames=[wrangle(file) for file in files]\n",
    "df = pd.concat(frames,ignore_index=True)\n",
    "print(df.info())\n",
    "df.head()"
   ]
  },
  {
   "cell_type": "code",
   "execution_count": null,
   "id": "74585507",
   "metadata": {},
   "outputs": [],
   "source": [
    "frames = [wrangle(filepath) for file in files]\n",
    "file = pd.concat(frames,ignore_index=True)\n",
    "print(df.info())\n",
    "df.head()"
   ]
  },
  {
   "cell_type": "markdown",
   "id": "3b026223",
   "metadata": {},
   "source": [
    "Create a histogram showing the distribution of apartment prices ('Sepal_Length') in df. \n",
    "Be sure to label the x-axis \"Length\", \n",
    "the y-axis \"Count\", and give it the title \"Distribution \"."
   ]
  },
  {
   "cell_type": "code",
   "execution_count": 35,
   "id": "8b527d12",
   "metadata": {},
   "outputs": [
    {
     "data": {
      "image/png": "[encoded data removed]",
      "text/plain": [
       "<Figure size 432x288 with 1 Axes>"
      ]
     },
     "metadata": {
      "needs_background": "light"
     },
     "output_type": "display_data"
    }
   ],
   "source": [
    "# Plot distribution of price\n",
    "plt.hist(df['Sepal_Length'])\n",
    "plt.xlabel(\"Length\")\n",
    "plt.ylabel('Count')\n",
    "plt.title('Distribution')\n",
    "plt.show()"
   ]
  },
  {
   "cell_type": "code",
   "execution_count": null,
   "id": "8b7d9209",
   "metadata": {},
   "outputs": [],
   "source": [
    "Create a histogram showing the distribution of apartment prices (\"price_aprox_usd\") in df. Be sure to label the x-axis \"Area [sq meters]\", the y-axis \"Count\", and give it the title \"Distribution of Apartment Prices\"."
   ]
  },
  {
   "cell_type": "code",
   "execution_count": 41,
   "id": "ba18a670",
   "metadata": {},
   "outputs": [
    {
     "data": {
      "image/png": "[encoded data removed]",
      "text/plain": [
       "<Figure size 432x288 with 1 Axes>"
      ]
     },
     "metadata": {
      "needs_background": "light"
     },
     "output_type": "display_data"
    }
   ],
   "source": [
    "# Build scatter plot\n",
    "plt.scatter(df[\"Sepal_Length\"],df[\"Petal_Length\"])\n",
    "\n",
    "\n",
    "# Label axes\n",
    "plt.xlabel(\"Sepal_Length\")\n",
    "plt.ylabel(\"Petal_Length\")\n",
    "# Add title\n",
    "plt.title(\"Sepal vs.Petal\");"
   ]
  },
  {
   "cell_type": "markdown",
   "id": "665db73b",
   "metadata": {},
   "source": [
    "Create a scatter plot that shows apartment price (['Sepal_Width']) as\n",
    "a function of apartment size (\"surface_covered_in_m2\") and ['Sepal_Width'], \n",
    "respectively. \n",
    "Your plot should have the title."
   ]
  },
  {
   "cell_type": "code",
   "execution_count": 102,
   "id": "5727ef0e",
   "metadata": {},
   "outputs": [
    {
     "data": {
      "image/png": "[encoded data removed]",
      "text/plain": [
       "<Figure size 432x288 with 1 Axes>"
      ]
     },
     "metadata": {
      "needs_background": "light"
     },
     "output_type": "display_data"
    }
   ],
   "source": [
    "# Plot price vs area\n",
    "plt.scatter(df['Petal_Length'],df['Sepal_Width'], color = \"r\")\n",
    "plt.xlabel(['Sepal_Width'])\n",
    "plt.ylabel('Sepal Length')\n",
    "plt.title('Comparing Species Length')\n",
    "plt.show()"
   ]
  },
  {
   "cell_type": "markdown",
   "id": "66aebaab",
   "metadata": {},
   "source": [
    "Create your feature matrix X_train and target vector y_train. Your target is \"Petal_Length\". \n",
    "Your features should be all the columns that remain \n",
    "in the DataFrame you cleaned above."
   ]
  },
  {
   "cell_type": "code",
   "execution_count": 101,
   "id": "859228ed",
   "metadata": {},
   "outputs": [
    {
     "name": "stdout",
     "output_type": "stream",
     "text": [
      "X_train.shape: (150, 1)\n"
     ]
    },
    {
     "data": {
      "text/plain": [
       "(150,)"
      ]
     },
     "execution_count": 101,
     "metadata": {},
     "output_type": "execute_result"
    }
   ],
   "source": [
    "features= [\"Sepal_Length\"]\n",
    "X_train = df[features]\n",
    "\n",
    "y_target =\"Petal_Length\"\n",
    "y_train = df[y_target]\n",
    "print(\"X_train.shape:\",X_train.shape)\n",
    "y_train.shape"
   ]
  },
  {
   "cell_type": "code",
   "execution_count": 47,
   "id": "ef2d06bd",
   "metadata": {},
   "outputs": [
    {
     "name": "stdout",
     "output_type": "stream",
     "text": [
      "X_train.shape: (150, 4)\n"
     ]
    },
    {
     "data": {
      "text/plain": [
       "(150,)"
      ]
     },
     "execution_count": 47,
     "metadata": {},
     "output_type": "execute_result"
    }
   ],
   "source": [
    "# Split data into feature matrix `X_train` and target vector `y_train`.\n",
    "X_train = df.drop(columns=['Petal_Length'])\n",
    "y_train = df['Sepal_Length']\n",
    "print(\"X_train.shape:\",X_train.shape)\n",
    "y_train.shape"
   ]
  },
  {
   "cell_type": "code",
   "execution_count": 49,
   "id": "305da72f",
   "metadata": {},
   "outputs": [],
   "source": [
    "from sklearn.metrics import mean_absolute_error"
   ]
  },
  {
   "cell_type": "markdown",
   "id": "c4758f39",
   "metadata": {},
   "source": [
    "Calculate the baseline mean absolute error for your model"
   ]
  },
  {
   "cell_type": "code",
   "execution_count": null,
   "id": "74638611",
   "metadata": {},
   "outputs": [],
   "source": [
    "y_mean = y_train.mean()\n",
    "y_pred_baseline = [y_mean]*len(y_train)\n",
    "baseline_mae = mean_absolute_error(y_train,y_pred_baseline)\n",
    "print(\"Mean apt price:\", y_mean)\n",
    "print(\"Baseline MAE:\", baseline_mae)"
   ]
  },
  {
   "cell_type": "markdown",
   "id": "36aa6e53",
   "metadata": {},
   "source": [
    "Baseline\n",
    "Calculate the baseline mean absolute error for your model"
   ]
  },
  {
   "cell_type": "code",
   "execution_count": 55,
   "id": "da457fda",
   "metadata": {},
   "outputs": [
    {
     "name": "stdout",
     "output_type": "stream",
     "text": [
      "baseline: 0.6875555555555557\n",
      "Mean error: 5.843333333333335\n"
     ]
    }
   ],
   "source": [
    "y_mean =y_train.mean()\n",
    "y_pred_baseline = [y_mean] * len(y_train)\n",
    "baseline_mae = mean_absolute_error(y_train,y_pred_baseline)\n",
    "print(\"baseline:\",baseline_mae)\n",
    "print(\"Mean error:\",y_mean)"
   ]
  },
  {
   "cell_type": "markdown",
   "id": "18a9ecb6",
   "metadata": {},
   "source": [
    "importing all libraries"
   ]
  },
  {
   "cell_type": "code",
   "execution_count": 89,
   "id": "712b72ba",
   "metadata": {
    "scrolled": true
   },
   "outputs": [],
   "source": [
    "from category_encoders import OneHotEncoder\n",
    "from ipywidgets import Dropdown, FloatSlider, IntSlider, interact\n",
    "from sklearn.impute import SimpleImputer\n",
    "from sklearn.linear_model import LinearRegression, Ridge  # noqa F401\n",
    "from sklearn.metrics import mean_absolute_error\n",
    "from sklearn.pipeline import make_pipeline\n",
    "from sklearn.utils.validation import check_is_fitted"
   ]
  },
  {
   "cell_type": "markdown",
   "id": "319657c8",
   "metadata": {},
   "source": [
    "Iterate\n",
    "Creating a pipeline named model that contains all the transformers necessary for\n",
    "this dataset and one of the predictors you've used during this project. \n",
    "Then fitting the model to the training data."
   ]
  },
  {
   "cell_type": "code",
   "execution_count": 90,
   "id": "793a731f",
   "metadata": {},
   "outputs": [
    {
     "data": {
      "text/plain": [
       "Pipeline(steps=[('onehotencoder',\n",
       "                 OneHotEncoder(cols=['Species'], use_cat_names=True)),\n",
       "                ('simpleimputer', SimpleImputer()), ('ridge', Ridge())])"
      ]
     },
     "execution_count": 90,
     "metadata": {},
     "output_type": "execute_result"
    }
   ],
   "source": [
    "# Build Model\n",
    "model = make_pipeline(OneHotEncoder(use_cat_names=True),SimpleImputer(),Ridge())\n",
    "# Fit model\n",
    "model.fit(X_train,y_train)"
   ]
  },
  {
   "cell_type": "markdown",
   "id": "d9355cdd",
   "metadata": {},
   "source": [
    "Iterate\n",
    "Creating a pipeline named model that contains all the transformers necessary for\n",
    "this dataset and one of the predictors you've used during this project. \n",
    "Then fitting the model to the training data.#"
   ]
  },
  {
   "cell_type": "code",
   "execution_count": 84,
   "id": "08245a79",
   "metadata": {},
   "outputs": [
    {
     "data": {
      "text/plain": [
       "Pipeline(steps=[('onehotencoder', OneHotEncoder()),\n",
       "                ('simpleimputer', SimpleImputer()), ('ridge', Ridge())])"
      ]
     },
     "execution_count": 84,
     "metadata": {},
     "output_type": "execute_result"
    }
   ],
   "source": [
    "# Fit model\n",
    "model.fit(X_train,y_train)"
   ]
  },
  {
   "cell_type": "markdown",
   "id": "137aeb17",
   "metadata": {},
   "source": [
    "Read the CSV file iris into the DataFrame X_test."
   ]
  },
  {
   "cell_type": "code",
   "execution_count": 95,
   "id": "c2385369",
   "metadata": {},
   "outputs": [
    {
     "name": "stdout",
     "output_type": "stream",
     "text": [
      "<class 'pandas.core.frame.DataFrame'>\n",
      "RangeIndex: 150 entries, 0 to 149\n",
      "Data columns (total 4 columns):\n",
      " #   Column        Non-Null Count  Dtype  \n",
      "---  ------        --------------  -----  \n",
      " 0   Sepal_Length  150 non-null    float64\n",
      " 1   Sepal_Width   150 non-null    float64\n",
      " 2   Petal_Width   150 non-null    float64\n",
      " 3   Species       150 non-null    object \n",
      "dtypes: float64(3), object(1)\n",
      "memory usage: 4.8+ KB\n",
      "None\n"
     ]
    },
    {
     "data": {
      "text/html": [
       "<div>\n",
       "<style scoped>\n",
       "    .dataframe tbody tr th:only-of-type {\n",
       "        vertical-align: middle;\n",
       "    }\n",
       "\n",
       "    .dataframe tbody tr th {\n",
       "        vertical-align: top;\n",
       "    }\n",
       "\n",
       "    .dataframe thead th {\n",
       "        text-align: right;\n",
       "    }\n",
       "</style>\n",
       "<table border=\"1\" class=\"dataframe\">\n",
       "  <thead>\n",
       "    <tr style=\"text-align: right;\">\n",
       "      <th></th>\n",
       "      <th>Sepal_Length</th>\n",
       "      <th>Sepal_Width</th>\n",
       "      <th>Petal_Width</th>\n",
       "      <th>Species</th>\n",
       "    </tr>\n",
       "  </thead>\n",
       "  <tbody>\n",
       "    <tr>\n",
       "      <th>0</th>\n",
       "      <td>5.1</td>\n",
       "      <td>3.5</td>\n",
       "      <td>0.2</td>\n",
       "      <td>setosa</td>\n",
       "    </tr>\n",
       "    <tr>\n",
       "      <th>1</th>\n",
       "      <td>4.9</td>\n",
       "      <td>3.0</td>\n",
       "      <td>0.2</td>\n",
       "      <td>setosa</td>\n",
       "    </tr>\n",
       "    <tr>\n",
       "      <th>2</th>\n",
       "      <td>4.7</td>\n",
       "      <td>3.2</td>\n",
       "      <td>0.2</td>\n",
       "      <td>setosa</td>\n",
       "    </tr>\n",
       "    <tr>\n",
       "      <th>3</th>\n",
       "      <td>4.6</td>\n",
       "      <td>3.1</td>\n",
       "      <td>0.2</td>\n",
       "      <td>setosa</td>\n",
       "    </tr>\n",
       "    <tr>\n",
       "      <th>4</th>\n",
       "      <td>5.0</td>\n",
       "      <td>3.6</td>\n",
       "      <td>0.2</td>\n",
       "      <td>setosa</td>\n",
       "    </tr>\n",
       "  </tbody>\n",
       "</table>\n",
       "</div>"
      ],
      "text/plain": [
       "   Sepal_Length  Sepal_Width  Petal_Width Species\n",
       "0           5.1          3.5          0.2  setosa\n",
       "1           4.9          3.0          0.2  setosa\n",
       "2           4.7          3.2          0.2  setosa\n",
       "3           4.6          3.1          0.2  setosa\n",
       "4           5.0          3.6          0.2  setosa"
      ]
     },
     "execution_count": 95,
     "metadata": {},
     "output_type": "execute_result"
    }
   ],
   "source": [
    "X_test = pd.read_csv(r\"C:\\Users\\kelvin\\OneDrive\\Desktop\\iris_test.csv\")\n",
    "print(X_test.info())\n",
    "X_test.head()"
   ]
  },
  {
   "cell_type": "markdown",
   "id": "26fd1565",
   "metadata": {},
   "source": [
    "Using model to generate a Series of predictions for X_test. When you submit your predictions to the grader,\n",
    "it will calculate the mean absolute error for your model."
   ]
  },
  {
   "cell_type": "code",
   "execution_count": 96,
   "id": "1293468c",
   "metadata": {},
   "outputs": [
    {
     "data": {
      "text/plain": [
       "0    5.097906\n",
       "1    4.894404\n",
       "2    4.705261\n",
       "3    4.606587\n",
       "4    5.003335\n",
       "dtype: float64"
      ]
     },
     "execution_count": 96,
     "metadata": {},
     "output_type": "execute_result"
    }
   ],
   "source": [
    "y_test_pred = pd.Series(model.predict(X_test))\n",
    "y_test_pred.head()"
   ]
  },
  {
   "cell_type": "markdown",
   "id": "58297fc5",
   "metadata": {},
   "source": [
    "# Communicating Result"
   ]
  },
  {
   "cell_type": "raw",
   "id": "70de2831",
   "metadata": {},
   "source": [
    "Create a Series named feat_imp. The index should contain the names of all the features your model considers \n",
    "when making predictions; the values should be the coefficient values associated with each feature.\n",
    "The Series should be sorted ascending by absolute value."
   ]
  },
  {
   "cell_type": "code",
   "execution_count": 100,
   "id": "0b44a777",
   "metadata": {},
   "outputs": [
    {
     "data": {
      "text/plain": [
       "Species_versicolor    0.006736\n",
       "Species_virginica     0.012557\n",
       "Petal_Width           0.016996\n",
       "Species_setosa       -0.019293\n",
       "Sepal_Width           0.020513\n",
       "Sepal_Length          0.966228\n",
       "dtype: float64"
      ]
     },
     "execution_count": 100,
     "metadata": {},
     "output_type": "execute_result"
    }
   ],
   "source": [
    "coefficients = model.named_steps['ridge'].coef_\n",
    "features = model.named_steps['onehotencoder'].get_feature_names()\n",
    "feat_imp = pd.Series(coefficients,index=features).sort_values(ascending=True,key=abs)\n",
    "feat_imp"
   ]
  },
  {
   "cell_type": "code",
   "execution_count": 98,
   "id": "5f10dd89",
   "metadata": {},
   "outputs": [
    {
     "data": {
      "text/plain": [
       "<AxesSubplot:>"
      ]
     },
     "execution_count": 98,
     "metadata": {},
     "output_type": "execute_result"
    },
    {
     "data": {
      "image/png": "[encoded data removed]",
      "text/plain": [
       "<Figure size 432x288 with 1 Axes>"
      ]
     },
     "metadata": {
      "needs_background": "light"
     },
     "output_type": "display_data"
    }
   ],
   "source": [
    "# Create horizontal bar chart\n",
    "feat_imp.head(10).plot(kind='barh')"
   ]
  }
 ],
 "metadata": {
  "kernelspec": {
   "display_name": "Python 3 (ipykernel)",
   "language": "python",
   "name": "python3"
  },
  "language_info": {
   "codemirror_mode": {
    "name": "ipython",
    "version": 3
   },
   "file_extension": ".py",
   "mimetype": "text/x-python",
   "name": "python",
   "nbconvert_exporter": "python",
   "pygments_lexer": "ipython3",
   "version": "3.9.12"
  }
 },
 "nbformat": 4,
 "nbformat_minor": 5
}
