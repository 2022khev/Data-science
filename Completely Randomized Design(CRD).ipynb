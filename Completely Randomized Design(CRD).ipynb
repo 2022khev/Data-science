{
 "cells": [
  {
   "cell_type": "code",
   "execution_count": null,
   "id": "af41cf8b",
   "metadata": {},
   "outputs": [],
   "source": [
    "import numpy as np\n",
    "import pandas as pd\n",
    "import matplotlib.pyplot as plt\n",
    "import scipy.stats as stats"
   ]
  },
  {
   "cell_type": "code",
   "execution_count": null,
   "id": "e153aa1e",
   "metadata": {},
   "outputs": [],
   "source": [
    "treat = ['160','180','200','220']\n",
    "treat1= np.repeat(treat,5)\n",
    "dat = [575,542,530,539,570,\n",
    "      565,593,590,579,610,\n",
    "      600,651,610,637,629,\n",
    "      725,700,715,685,710]\n",
    "\n",
    "etch=pd.DataFrame(dat,columns=['Rate'])\n",
    "power=pd.DataFrame(treat1,columns=['Power'])\n",
    "\n",
    "df=pd.concat([power,etch],axis=1)\n",
    "df['Rate']= df['Rate'].astype('float')\n",
    "df"
   ]
  },
  {
   "cell_type": "code",
   "execution_count": null,
   "id": "ff7679a8",
   "metadata": {
    "scrolled": true
   },
   "outputs": [],
   "source": [
    "import statsmodels.api as sm\n",
    "from statsmodels.formula.api import ols\n",
    "\n",
    "model=ols('Rate ~ Power',\n",
    "         data=df).fit()\n",
    "anova_result = sm.stats.anova_lm(model,type=2)\n",
    "anova_result"
   ]
  },
  {
   "cell_type": "code",
   "execution_count": null,
   "id": "1e1b27c5",
   "metadata": {},
   "outputs": [],
   "source": [
    "groups = df.groupby('Power').groups\n",
    "groups"
   ]
  },
  {
   "cell_type": "code",
   "execution_count": null,
   "id": "d1ed9081",
   "metadata": {},
   "outputs": [],
   "source": [
    "g160 = treat1[groups['160']]\n",
    "g180 = treat1[groups['180']]\n",
    "g200 = treat1[groups['200']]\n",
    "g220 = treat1[groups['220']]"
   ]
  },
  {
   "cell_type": "code",
   "execution_count": null,
   "id": "0887bce4",
   "metadata": {},
   "outputs": [],
   "source": [
    "stats.f_oneway(g160,g180,g200,g220)"
   ]
  },
  {
   "cell_type": "code",
   "execution_count": null,
   "id": "1defcc9a",
   "metadata": {},
   "outputs": [],
   "source": [
    "g160\n",
    "\n",
    "race_pairs = []\n",
    "for race1 in range(4):\n",
    "    for race2 in range(race1+1,4):\n",
    "        race_pairs.append((races[race1],races[race2]))\n",
    "        \n",
    "for race1,race2 in race_pairs:\n",
    "    print(race1,race2)\n",
    "    print(stats.ttest_ind(voter_age[groups[race1]],voter_age[groups[race2]]))"
   ]
  }
 ],
 "metadata": {
  "kernelspec": {
   "display_name": "Python 3 (ipykernel)",
   "language": "python",
   "name": "python3"
  },
  "language_info": {
   "codemirror_mode": {
    "name": "ipython",
    "version": 3
   },
   "file_extension": ".py",
   "mimetype": "text/x-python",
   "name": "python",
   "nbconvert_exporter": "python",
   "pygments_lexer": "ipython3",
   "version": "3.9.12"
  }
 },
 "nbformat": 4,
 "nbformat_minor": 5
}
