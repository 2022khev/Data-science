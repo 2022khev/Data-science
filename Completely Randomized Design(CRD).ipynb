{
 "cells": [
  {
   "cell_type": "code",
   "execution_count": 1,
   "id": "25fb5426",
   "metadata": {},
   "outputs": [],
   "source": [
    "import numpy as np\n",
    "import pandas as pd\n",
    "import matplotlib.pyplot as plt\n",
    "import scipy.stats as stats"
   ]
  },
  {
   "cell_type": "code",
   "execution_count": 2,
   "id": "2b27c88e",
   "metadata": {},
   "outputs": [
    {
     "data": {
      "text/html": [
       "<div>\n",
       "<style scoped>\n",
       "    .dataframe tbody tr th:only-of-type {\n",
       "        vertical-align: middle;\n",
       "    }\n",
       "\n",
       "    .dataframe tbody tr th {\n",
       "        vertical-align: top;\n",
       "    }\n",
       "\n",
       "    .dataframe thead th {\n",
       "        text-align: right;\n",
       "    }\n",
       "</style>\n",
       "<table border=\"1\" class=\"dataframe\">\n",
       "  <thead>\n",
       "    <tr style=\"text-align: right;\">\n",
       "      <th></th>\n",
       "      <th>Power</th>\n",
       "      <th>Rate</th>\n",
       "    </tr>\n",
       "  </thead>\n",
       "  <tbody>\n",
       "    <tr>\n",
       "      <th>0</th>\n",
       "      <td>160</td>\n",
       "      <td>575.0</td>\n",
       "    </tr>\n",
       "    <tr>\n",
       "      <th>1</th>\n",
       "      <td>160</td>\n",
       "      <td>542.0</td>\n",
       "    </tr>\n",
       "    <tr>\n",
       "      <th>2</th>\n",
       "      <td>160</td>\n",
       "      <td>530.0</td>\n",
       "    </tr>\n",
       "    <tr>\n",
       "      <th>3</th>\n",
       "      <td>160</td>\n",
       "      <td>539.0</td>\n",
       "    </tr>\n",
       "    <tr>\n",
       "      <th>4</th>\n",
       "      <td>160</td>\n",
       "      <td>570.0</td>\n",
       "    </tr>\n",
       "    <tr>\n",
       "      <th>5</th>\n",
       "      <td>180</td>\n",
       "      <td>565.0</td>\n",
       "    </tr>\n",
       "    <tr>\n",
       "      <th>6</th>\n",
       "      <td>180</td>\n",
       "      <td>593.0</td>\n",
       "    </tr>\n",
       "    <tr>\n",
       "      <th>7</th>\n",
       "      <td>180</td>\n",
       "      <td>590.0</td>\n",
       "    </tr>\n",
       "    <tr>\n",
       "      <th>8</th>\n",
       "      <td>180</td>\n",
       "      <td>579.0</td>\n",
       "    </tr>\n",
       "    <tr>\n",
       "      <th>9</th>\n",
       "      <td>180</td>\n",
       "      <td>610.0</td>\n",
       "    </tr>\n",
       "    <tr>\n",
       "      <th>10</th>\n",
       "      <td>200</td>\n",
       "      <td>600.0</td>\n",
       "    </tr>\n",
       "    <tr>\n",
       "      <th>11</th>\n",
       "      <td>200</td>\n",
       "      <td>651.0</td>\n",
       "    </tr>\n",
       "    <tr>\n",
       "      <th>12</th>\n",
       "      <td>200</td>\n",
       "      <td>610.0</td>\n",
       "    </tr>\n",
       "    <tr>\n",
       "      <th>13</th>\n",
       "      <td>200</td>\n",
       "      <td>637.0</td>\n",
       "    </tr>\n",
       "    <tr>\n",
       "      <th>14</th>\n",
       "      <td>200</td>\n",
       "      <td>629.0</td>\n",
       "    </tr>\n",
       "    <tr>\n",
       "      <th>15</th>\n",
       "      <td>220</td>\n",
       "      <td>725.0</td>\n",
       "    </tr>\n",
       "    <tr>\n",
       "      <th>16</th>\n",
       "      <td>220</td>\n",
       "      <td>700.0</td>\n",
       "    </tr>\n",
       "    <tr>\n",
       "      <th>17</th>\n",
       "      <td>220</td>\n",
       "      <td>715.0</td>\n",
       "    </tr>\n",
       "    <tr>\n",
       "      <th>18</th>\n",
       "      <td>220</td>\n",
       "      <td>685.0</td>\n",
       "    </tr>\n",
       "    <tr>\n",
       "      <th>19</th>\n",
       "      <td>220</td>\n",
       "      <td>710.0</td>\n",
       "    </tr>\n",
       "  </tbody>\n",
       "</table>\n",
       "</div>"
      ],
      "text/plain": [
       "   Power   Rate\n",
       "0    160  575.0\n",
       "1    160  542.0\n",
       "2    160  530.0\n",
       "3    160  539.0\n",
       "4    160  570.0\n",
       "5    180  565.0\n",
       "6    180  593.0\n",
       "7    180  590.0\n",
       "8    180  579.0\n",
       "9    180  610.0\n",
       "10   200  600.0\n",
       "11   200  651.0\n",
       "12   200  610.0\n",
       "13   200  637.0\n",
       "14   200  629.0\n",
       "15   220  725.0\n",
       "16   220  700.0\n",
       "17   220  715.0\n",
       "18   220  685.0\n",
       "19   220  710.0"
      ]
     },
     "execution_count": 2,
     "metadata": {},
     "output_type": "execute_result"
    }
   ],
   "source": [
    "treat = ['160','180','200','220']\n",
    "treat1= np.repeat(treat,5)\n",
    "dat = [575,542,530,539,570,\n",
    "      565,593,590,579,610,\n",
    "      600,651,610,637,629,\n",
    "      725,700,715,685,710]\n",
    "\n",
    "etch=pd.DataFrame(dat,columns=['Rate'])\n",
    "power=pd.DataFrame(treat1,columns=['Power'])\n",
    "\n",
    "df=pd.concat([power,etch],axis=1)\n",
    "df['Rate']= df['Rate'].astype('float')\n",
    "df"
   ]
  },
  {
   "cell_type": "code",
   "execution_count": 3,
   "id": "c9951bb1",
   "metadata": {
    "scrolled": true
   },
   "outputs": [
    {
     "data": {
      "text/html": [
       "<div>\n",
       "<style scoped>\n",
       "    .dataframe tbody tr th:only-of-type {\n",
       "        vertical-align: middle;\n",
       "    }\n",
       "\n",
       "    .dataframe tbody tr th {\n",
       "        vertical-align: top;\n",
       "    }\n",
       "\n",
       "    .dataframe thead th {\n",
       "        text-align: right;\n",
       "    }\n",
       "</style>\n",
       "<table border=\"1\" class=\"dataframe\">\n",
       "  <thead>\n",
       "    <tr style=\"text-align: right;\">\n",
       "      <th></th>\n",
       "      <th>df</th>\n",
       "      <th>sum_sq</th>\n",
       "      <th>mean_sq</th>\n",
       "      <th>F</th>\n",
       "      <th>PR(&gt;F)</th>\n",
       "    </tr>\n",
       "  </thead>\n",
       "  <tbody>\n",
       "    <tr>\n",
       "      <th>Power</th>\n",
       "      <td>3.0</td>\n",
       "      <td>66870.55</td>\n",
       "      <td>22290.183333</td>\n",
       "      <td>66.797073</td>\n",
       "      <td>2.882866e-09</td>\n",
       "    </tr>\n",
       "    <tr>\n",
       "      <th>Residual</th>\n",
       "      <td>16.0</td>\n",
       "      <td>5339.20</td>\n",
       "      <td>333.700000</td>\n",
       "      <td>NaN</td>\n",
       "      <td>NaN</td>\n",
       "    </tr>\n",
       "  </tbody>\n",
       "</table>\n",
       "</div>"
      ],
      "text/plain": [
       "            df    sum_sq       mean_sq          F        PR(>F)\n",
       "Power      3.0  66870.55  22290.183333  66.797073  2.882866e-09\n",
       "Residual  16.0   5339.20    333.700000        NaN           NaN"
      ]
     },
     "execution_count": 3,
     "metadata": {},
     "output_type": "execute_result"
    }
   ],
   "source": [
    "import statsmodels.api as sm\n",
    "from statsmodels.formula.api import ols\n",
    "\n",
    "model=ols('Rate ~ Power',\n",
    "         data=df).fit()\n",
    "anova_result = sm.stats.anova_lm(model,type=2)\n",
    "anova_result"
   ]
  },
  {
   "cell_type": "code",
   "execution_count": 4,
   "id": "66e55c12",
   "metadata": {},
   "outputs": [
    {
     "data": {
      "text/plain": [
       "{'160': [0, 1, 2, 3, 4], '180': [5, 6, 7, 8, 9], '200': [10, 11, 12, 13, 14], '220': [15, 16, 17, 18, 19]}"
      ]
     },
     "execution_count": 4,
     "metadata": {},
     "output_type": "execute_result"
    }
   ],
   "source": [
    "groups = df.groupby('Power').groups\n",
    "groups"
   ]
  },
  {
   "cell_type": "code",
   "execution_count": 5,
   "id": "9b44a76c",
   "metadata": {},
   "outputs": [],
   "source": [
    "g160 = treat1[groups['160']]\n",
    "g180 = treat1[groups['180']]\n",
    "g200 = treat1[groups['200']]\n",
    "g220 = treat1[groups['220']]"
   ]
  },
  {
   "cell_type": "code",
   "execution_count": 6,
   "id": "2b58beeb",
   "metadata": {},
   "outputs": [
    {
     "name": "stderr",
     "output_type": "stream",
     "text": [
      "D:\\Stats_software\\Anaconda\\lib\\site-packages\\scipy\\stats\\stats.py:3650: F_onewayConstantInputWarning: Each of the input arrays is constant;the F statistic is not defined or infinite\n",
      "  warnings.warn(F_onewayConstantInputWarning())\n"
     ]
    },
    {
     "data": {
      "text/plain": [
       "F_onewayResult(statistic=inf, pvalue=0.0)"
      ]
     },
     "execution_count": 6,
     "metadata": {},
     "output_type": "execute_result"
    }
   ],
   "source": [
    "stats.f_oneway(g160,g180,g200,g220)"
   ]
  },
  {
   "cell_type": "code",
   "execution_count": 8,
   "id": "cf61e358",
   "metadata": {},
   "outputs": [],
   "source": [
    "# g160\n",
    "\n",
    "# race_pairs = []\n",
    "# for race1 in range(4):\n",
    "#     for race2 in range(race1+1,4):\n",
    "#         race_pairs.append((races[race1],races[race2]))\n",
    "        \n",
    "# for race1,race2 in race_pairs:\n",
    "#     print(race1,race2)\n",
    "#     print(stats.ttest_ind(voter_age[groups[race1]],voter_age[groups[race2]]))"
   ]
  },
  {
   "cell_type": "code",
   "execution_count": null,
   "id": "20b20a89",
   "metadata": {},
   "outputs": [],
   "source": [
    "pressure = ['8500','8700','8900','9100']\n",
    "pressure= np.repeat(pressure,6)\n",
    "dat = [90.3,89.2,98.2,93.9,87.4,97.9,\n",
    "     92.5,89.2\n",
    "      85.5,89.5,610,637,629,\n",
    "      82.5,700,715,685,710]\n",
    "\n",
    "etch=pd.DataFrame(dat,columns=['Rate'])\n",
    "power=pd.DataFrame(treat1,columns=['Power'])\n",
    "\n",
    "df=pd.concat([power,etch],axis=1)\n",
    "df['Rate']= df['Rate'].astype('float')\n",
    "df"
   ]
  }
 ],
 "metadata": {
  "kernelspec": {
   "display_name": "Python 3 (ipykernel)",
   "language": "python",
   "name": "python3"
  },
  "language_info": {
   "codemirror_mode": {
    "name": "ipython",
    "version": 3
   },
   "file_extension": ".py",
   "mimetype": "text/x-python",
   "name": "python",
   "nbconvert_exporter": "python",
   "pygments_lexer": "ipython3",
   "version": "3.9.12"
  }
 },
 "nbformat": 4,
 "nbformat_minor": 5
}
