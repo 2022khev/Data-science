{
 "cells": [
  {
   "cell_type": "code",
   "execution_count": 1,
   "id": "01d070f0",
   "metadata": {},
   "outputs": [],
   "source": [
    "# Import required libraries\n",
    "import numpy as np\n",
    "import pandas as pd\n",
    "import matplotlib.pyplot as plt\n",
    "import statistics"
   ]
  },
  {
   "cell_type": "code",
   "execution_count": 2,
   "id": "efdc1ad0",
   "metadata": {},
   "outputs": [],
   "source": [
    "# Set random seed\n",
    "np.random.seed(42)"
   ]
  },
  {
   "cell_type": "code",
   "execution_count": 17,
   "id": "db1d374a",
   "metadata": {},
   "outputs": [
    {
     "data": {
      "text/plain": [
       "{'defects': [3, 4, 1, 3, 3, 4, 1, 1, 3, 2],\n",
       " 'group_size': [10, 10, 10, 10, 10, 10, 10, 10, 10, 10]}"
      ]
     },
     "execution_count": 17,
     "metadata": {},
     "output_type": "execute_result"
    }
   ],
   "source": [
    "# Create dummy data\n",
    "data = {\n",
    "        'defects':np.random.randint(1,5,10).tolist(),\n",
    "        'group_size':np.repeat(10,10).tolist()\n",
    "        }\n",
    "data\n",
    "\n",
    "# dat =pd.DataFrame( {\n",
    "#         'defects':[2,5,3,8,3,2,1,4,6,3],\n",
    "#         'group_size':[10,10,10,10,10,10,10,10,10,10]\n",
    "#         }\n",
    "# )\n",
    "# data"
   ]
  },
  {
   "cell_type": "code",
   "execution_count": 18,
   "id": "0e565f6c",
   "metadata": {},
   "outputs": [
    {
     "data": {
      "text/html": [
       "<div>\n",
       "<style scoped>\n",
       "    .dataframe tbody tr th:only-of-type {\n",
       "        vertical-align: middle;\n",
       "    }\n",
       "\n",
       "    .dataframe tbody tr th {\n",
       "        vertical-align: top;\n",
       "    }\n",
       "\n",
       "    .dataframe thead th {\n",
       "        text-align: right;\n",
       "    }\n",
       "</style>\n",
       "<table border=\"1\" class=\"dataframe\">\n",
       "  <thead>\n",
       "    <tr style=\"text-align: right;\">\n",
       "      <th></th>\n",
       "      <th>defects</th>\n",
       "      <th>group_size</th>\n",
       "    </tr>\n",
       "  </thead>\n",
       "  <tbody>\n",
       "    <tr>\n",
       "      <th>0</th>\n",
       "      <td>3</td>\n",
       "      <td>10</td>\n",
       "    </tr>\n",
       "    <tr>\n",
       "      <th>1</th>\n",
       "      <td>4</td>\n",
       "      <td>10</td>\n",
       "    </tr>\n",
       "    <tr>\n",
       "      <th>2</th>\n",
       "      <td>1</td>\n",
       "      <td>10</td>\n",
       "    </tr>\n",
       "    <tr>\n",
       "      <th>3</th>\n",
       "      <td>3</td>\n",
       "      <td>10</td>\n",
       "    </tr>\n",
       "    <tr>\n",
       "      <th>4</th>\n",
       "      <td>3</td>\n",
       "      <td>10</td>\n",
       "    </tr>\n",
       "    <tr>\n",
       "      <th>5</th>\n",
       "      <td>4</td>\n",
       "      <td>10</td>\n",
       "    </tr>\n",
       "    <tr>\n",
       "      <th>6</th>\n",
       "      <td>1</td>\n",
       "      <td>10</td>\n",
       "    </tr>\n",
       "    <tr>\n",
       "      <th>7</th>\n",
       "      <td>1</td>\n",
       "      <td>10</td>\n",
       "    </tr>\n",
       "    <tr>\n",
       "      <th>8</th>\n",
       "      <td>3</td>\n",
       "      <td>10</td>\n",
       "    </tr>\n",
       "    <tr>\n",
       "      <th>9</th>\n",
       "      <td>2</td>\n",
       "      <td>10</td>\n",
       "    </tr>\n",
       "  </tbody>\n",
       "</table>\n",
       "</div>"
      ],
      "text/plain": [
       "   defects  group_size\n",
       "0        3          10\n",
       "1        4          10\n",
       "2        1          10\n",
       "3        3          10\n",
       "4        3          10\n",
       "5        4          10\n",
       "6        1          10\n",
       "7        1          10\n",
       "8        3          10\n",
       "9        2          10"
      ]
     },
     "execution_count": 18,
     "metadata": {},
     "output_type": "execute_result"
    }
   ],
   "source": [
    "# Convert data to data frame\n",
    "data = pd.DataFrame(data)\n",
    "data"
   ]
  },
  {
   "cell_type": "code",
   "execution_count": 19,
   "id": "1cebb28a",
   "metadata": {},
   "outputs": [],
   "source": [
    "# Add 'np' column to data frame\n",
    "data['np'] =(data['defects'])/(data['group_size'])"
   ]
  },
  {
   "cell_type": "code",
   "execution_count": null,
   "id": "3a27512f",
   "metadata": {},
   "outputs": [],
   "source": []
  },
  {
   "cell_type": "code",
   "execution_count": 20,
   "id": "8ee2fd5e",
   "metadata": {},
   "outputs": [
    {
     "data": {
      "text/plain": [
       "0.7"
      ]
     },
     "execution_count": 20,
     "metadata": {},
     "output_type": "execute_result"
    }
   ],
   "source": [
    "ucl=  statistics.mean(data['np']) + 3*(np.sqrt((statistics.mean(data['np']) * 1-statistics.mean(data['np'])/\n",
    "    statistics.mean(data['group_size'])) / \n",
    "    statistics.mean(data['group_size'])))\n",
    "ucl"
   ]
  },
  {
   "cell_type": "code",
   "execution_count": 21,
   "id": "0f709dc5",
   "metadata": {},
   "outputs": [
    {
     "data": {
      "text/plain": [
       "0.25"
      ]
     },
     "execution_count": 21,
     "metadata": {},
     "output_type": "execute_result"
    }
   ],
   "source": [
    "mean = statistics.mean(data['np'])\n",
    "mean"
   ]
  },
  {
   "cell_type": "code",
   "execution_count": 22,
   "id": "dce045ab",
   "metadata": {},
   "outputs": [
    {
     "data": {
      "text/plain": [
       "-0.19999999999999996"
      ]
     },
     "execution_count": 22,
     "metadata": {},
     "output_type": "execute_result"
    }
   ],
   "source": [
    "lcl=  statistics.mean(data['np'])   -  3 * (np.sqrt((statistics.mean(data['np']) * 1-statistics.mean(data['np'])/\n",
    "    statistics.mean(data['group_size'])) / \n",
    "    statistics.mean(data['group_size'])))\n",
    "lcl"
   ]
  },
  {
   "cell_type": "code",
   "execution_count": 23,
   "id": "964ec356",
   "metadata": {},
   "outputs": [
    {
     "name": "stdout",
     "output_type": "stream",
     "text": [
      "All points within control limits.\n"
     ]
    },
    {
     "data": {
      "image/png": "[encoded data removed]",
      "text/plain": [
       "<Figure size 1080x540 with 1 Axes>"
      ]
     },
     "metadata": {
      "needs_background": "light"
     },
     "output_type": "display_data"
    }
   ],
   "source": [
    "plt.figure(figsize=(15,7.5))\n",
    "plt.plot(data['np'],linestyle='--',marker='o',color='black')\n",
    "\n",
    "plt.axhline(\n",
    "    statistics.mean(data['np']) + \n",
    "    3*(np.sqrt((statistics.mean(data['np']) * \n",
    "    1-statistics.mean(data['np'])/\n",
    "    statistics.mean(data['group_size'])) / \n",
    "    statistics.mean(data['group_size']))),color='red',linestyle='dashed') \n",
    "\n",
    "plt.axhline(\n",
    "    statistics.mean(data['np']) - \n",
    "    3*(np.sqrt((statistics.mean(data['np']) * \n",
    "    1-statistics.mean(data['np'])/\n",
    "    statistics.mean(data['group_size'])) / \n",
    "    statistics.mean(data['group_size']))),color='red',linestyle='dashed') \n",
    "\n",
    "plt.axhline(statistics.mean(data['np']), color='blue')\n",
    "plt.ylim(bottom=0)  \n",
    "\n",
    "plt.title('np Chart')\n",
    "plt.xlabel('Group')\n",
    "plt.ylabel('Fraction Defective');\n",
    "\n",
    "# Validate points out of control limits\n",
    "i = 0\n",
    "control = True\n",
    "for group in data['np']:\n",
    "    if group > ucl or group<lcl:\n",
    "        print('Group', i, 'out of fraction defective cotrol limits!')\n",
    "        control = False\n",
    "    i += 1\n",
    "if control == True:\n",
    "    print('All points within control limits.')"
   ]
  },
  {
   "cell_type": "code",
   "execution_count": 24,
   "id": "61e5f1ff",
   "metadata": {},
   "outputs": [
    {
     "name": "stdout",
     "output_type": "stream",
     "text": [
      "-----------------------------------------------------------------------------------------------------------\n",
      "\n",
      " All points within control limits.\n"
     ]
    },
    {
     "data": {
      "image/png": "[encoded data removed]",
      "text/plain": [
       "<Figure size 1080x540 with 1 Axes>"
      ]
     },
     "metadata": {
      "needs_background": "light"
     },
     "output_type": "display_data"
    }
   ],
   "source": [
    "# Plot np-chart\n",
    "plt.figure(figsize=(15,7.5))\n",
    "plt.plot(data['np'], linestyle='-', marker='o', color='black')\n",
    "plt.axhline(statistics.mean(data['np'])  + 3*(np.sqrt((statistics.mean(data['np'])*(1-statistics.mean(data['np'])))/statistics.mean(data['group_size']))), color='red', linestyle='dashed')\n",
    "plt.axhline(statistics.mean(data['np']) -  3*(np.sqrt((statistics.mean(data['np'])*(1-statistics.mean(data['np'])))/statistics.mean(data['group_size']))), color='red', linestyle='dashed')\n",
    "plt.axhline(statistics.mean(data['np']), color='blue')\n",
    "plt.ylim(bottom=0)\n",
    "plt.title('np Chart')\n",
    "plt.xlabel('Samples')\n",
    "plt.ylabel('Fraction Defective')\n",
    "\n",
    "# Validate points out of control limits\n",
    "i = 0\n",
    "control = True\n",
    "for group in data['np']:\n",
    "    if group > (statistics.mean(data['np'])+3*(np.sqrt((statistics.mean(data['np'])*(1-statistics.mean(data['np'])))/statistics.mean(data['group_size'])))) or group < (statistics.mean(data['np'])-3*(np.sqrt((statistics.mean(data['np'])*(1-statistics.mean(data['np'])))/statistics.mean(data['group_size'])))):\n",
    "        print('Group', i, 'out of fraction defective cotrol limits!')\n",
    "        control = False\n",
    "    i += 1\n",
    "if control == True:\n",
    "    print('-----------------------------------------------------------------------------------------------------------')\n",
    "    print('\\n All points within control limits.')"
   ]
  }
 ],
 "metadata": {
  "kernelspec": {
   "display_name": "Python 3 (ipykernel)",
   "language": "python",
   "name": "python3"
  },
  "language_info": {
   "codemirror_mode": {
    "name": "ipython",
    "version": 3
   },
   "file_extension": ".py",
   "mimetype": "text/x-python",
   "name": "python",
   "nbconvert_exporter": "python",
   "pygments_lexer": "ipython3",
   "version": "3.9.12"
  }
 },
 "nbformat": 4,
 "nbformat_minor": 5
}
