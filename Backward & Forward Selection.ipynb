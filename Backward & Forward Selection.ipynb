{
 "cells": [
  {
   "cell_type": "code",
   "execution_count": 1,
   "id": "964f2476",
   "metadata": {},
   "outputs": [],
   "source": [
    "#import packages\n",
    "import pandas as pd\n",
    "import numpy as np\n",
    "from mlxtend.feature_selection import SequentialFeatureSelector\n",
    "from sklearn.model_selection  import train_test_split\n",
    "\n",
    "import warnings\n",
    "warnings.simplefilter(\"ignore\")"
   ]
  },
  {
   "cell_type": "code",
   "execution_count": 2,
   "id": "b7f7c66f",
   "metadata": {},
   "outputs": [
    {
     "name": "stdout",
     "output_type": "stream",
     "text": [
      "(39, 10)\n",
      "   Age  Years  Weight  Height  Chin  Forearm  Calf  Pulse  Systol  Diastol\n",
      "0   21      1    71.0    1629   8.0      7.0  12.7     88     170       76\n",
      "1   22      6    56.5    1569   3.3      5.0   8.0     64     120       60\n",
      "2   24      5    56.0    1561   3.3      1.3   4.3     68     125       75\n",
      "3   24      1    61.0    1619   3.7      3.0   4.3     52     148      120\n",
      "4   25      1    65.0    1566   9.0     12.7  20.7     72     140       78\n"
     ]
    }
   ],
   "source": [
    "#import the data\n",
    "df= pd.read_csv(\"peru.csv\")\n",
    "print(df.shape)\n",
    "print(df.head())"
   ]
  },
  {
   "cell_type": "code",
   "execution_count": 3,
   "id": "b0f10bcb",
   "metadata": {},
   "outputs": [
    {
     "data": {
      "text/plain": [
       "Index(['Age', 'Years', 'Weight', 'Height', 'Chin', 'Forearm', 'Calf', 'Pulse',\n",
       "       'Systol', 'Diastol'],\n",
       "      dtype='object')"
      ]
     },
     "execution_count": 3,
     "metadata": {},
     "output_type": "execute_result"
    }
   ],
   "source": [
    "df.columns"
   ]
  },
  {
   "cell_type": "code",
   "execution_count": 4,
   "id": "f0874d3d",
   "metadata": {},
   "outputs": [],
   "source": [
    "y = df.Systol\n",
    "X=df[['Age', 'Years', 'Weight', 'Height', 'Chin', 'Forearm', 'Calf', 'Pulse','Diastol']]"
   ]
  },
  {
   "cell_type": "code",
   "execution_count": 5,
   "id": "ef0c0065",
   "metadata": {},
   "outputs": [],
   "source": [
    "from sklearn.linear_model import LinearRegression\n",
    "X_train,X_test,y_train,y_test =train_test_split(X,y,test_size=0.3,random_state=42)"
   ]
  },
  {
   "cell_type": "markdown",
   "id": "bd19a37b",
   "metadata": {},
   "source": [
    "Forward Selection"
   ]
  },
  {
   "cell_type": "code",
   "execution_count": 6,
   "id": "03ef4b89",
   "metadata": {},
   "outputs": [
    {
     "name": "stderr",
     "output_type": "stream",
     "text": [
      "[Parallel(n_jobs=1)]: Using backend SequentialBackend with 1 concurrent workers.\n",
      "[Parallel(n_jobs=1)]: Done   9 out of   9 | elapsed:    0.0s finished\n",
      "Features: 1/4[Parallel(n_jobs=1)]: Using backend SequentialBackend with 1 concurrent workers.\n",
      "[Parallel(n_jobs=1)]: Done   8 out of   8 | elapsed:    0.0s finished\n",
      "Features: 2/4[Parallel(n_jobs=1)]: Using backend SequentialBackend with 1 concurrent workers.\n",
      "[Parallel(n_jobs=1)]: Done   7 out of   7 | elapsed:    0.0s finished\n",
      "Features: 3/4[Parallel(n_jobs=1)]: Using backend SequentialBackend with 1 concurrent workers.\n",
      "[Parallel(n_jobs=1)]: Done   6 out of   6 | elapsed:    0.0s finished\n",
      "Features: 4/4"
     ]
    }
   ],
   "source": [
    "linearreg = LinearRegression()\n",
    "back = SequentialFeatureSelector(linearreg,k_features=4,forward=True,verbose=1,scoring=\"neg_mean_squared_error\")\n",
    "sf = back.fit(X,y)"
   ]
  },
  {
   "cell_type": "code",
   "execution_count": 7,
   "id": "e68ff852",
   "metadata": {},
   "outputs": [
    {
     "data": {
      "text/plain": [
       "(2, 4, 7, 8)"
      ]
     },
     "execution_count": 7,
     "metadata": {},
     "output_type": "execute_result"
    }
   ],
   "source": [
    "sf.k_feature_idx_"
   ]
  },
  {
   "cell_type": "code",
   "execution_count": 8,
   "id": "984beba8",
   "metadata": {},
   "outputs": [
    {
     "name": "stdout",
     "output_type": "stream",
     "text": [
      "['Weight', 'Chin', 'Pulse', 'Diastol']\n"
     ]
    },
    {
     "data": {
      "text/plain": [
       "Index(['Age', 'Years', 'Weight', 'Height', 'Chin', 'Forearm', 'Calf', 'Pulse',\n",
       "       'Systol', 'Diastol'],\n",
       "      dtype='object')"
      ]
     },
     "execution_count": 8,
     "metadata": {},
     "output_type": "execute_result"
    }
   ],
   "source": [
    "feat_names = list(sf.k_feature_names_)\n",
    "print(feat_names)\n",
    "df.columns"
   ]
  },
  {
   "cell_type": "code",
   "execution_count": 9,
   "id": "dca2a2d6",
   "metadata": {},
   "outputs": [
    {
     "data": {
      "text/plain": [
       "-126.71472809321537"
      ]
     },
     "execution_count": 9,
     "metadata": {},
     "output_type": "execute_result"
    }
   ],
   "source": [
    "sf.k_score_"
   ]
  },
  {
   "cell_type": "code",
   "execution_count": 10,
   "id": "3de377c9",
   "metadata": {},
   "outputs": [],
   "source": [
    "#Running model with the Best features"
   ]
  },
  {
   "cell_type": "code",
   "execution_count": 11,
   "id": "0252e0d3",
   "metadata": {},
   "outputs": [],
   "source": [
    "import statsmodels.api as sm"
   ]
  },
  {
   "cell_type": "code",
   "execution_count": 12,
   "id": "a042417b",
   "metadata": {},
   "outputs": [
    {
     "name": "stdout",
     "output_type": "stream",
     "text": [
      "[[1.000e+00 2.100e+01 1.000e+00 7.100e+01 1.629e+03 8.000e+00 7.000e+00\n",
      "  1.270e+01 8.800e+01 7.600e+01]\n",
      " [1.000e+00 2.200e+01 6.000e+00 5.650e+01 1.569e+03 3.300e+00 5.000e+00\n",
      "  8.000e+00 6.400e+01 6.000e+01]\n",
      " [1.000e+00 2.400e+01 5.000e+00 5.600e+01 1.561e+03 3.300e+00 1.300e+00\n",
      "  4.300e+00 6.800e+01 7.500e+01]\n",
      " [1.000e+00 2.400e+01 1.000e+00 6.100e+01 1.619e+03 3.700e+00 3.000e+00\n",
      "  4.300e+00 5.200e+01 1.200e+02]\n",
      " [1.000e+00 2.500e+01 1.000e+00 6.500e+01 1.566e+03 9.000e+00 1.270e+01\n",
      "  2.070e+01 7.200e+01 7.800e+01]\n",
      " [1.000e+00 2.700e+01 1.900e+01 6.200e+01 1.639e+03 3.000e+00 3.300e+00\n",
      "  5.700e+00 7.200e+01 7.200e+01]\n",
      " [1.000e+00 2.800e+01 5.000e+00 5.300e+01 1.494e+03 7.300e+00 4.700e+00\n",
      "  8.000e+00 6.400e+01 7.600e+01]\n",
      " [1.000e+00 2.800e+01 2.500e+01 5.300e+01 1.568e+03 3.700e+00 4.300e+00\n",
      "  0.000e+00 8.000e+01 6.200e+01]\n",
      " [1.000e+00 3.100e+01 6.000e+00 6.500e+01 1.540e+03 1.030e+01 9.000e+00\n",
      "  1.000e+01 7.600e+01 7.000e+01]\n",
      " [1.000e+00 3.200e+01 1.300e+01 5.700e+01 1.530e+03 5.700e+00 4.000e+00\n",
      "  6.000e+00 6.000e+01 6.400e+01]\n",
      " [1.000e+00 3.300e+01 1.300e+01 6.650e+01 1.622e+03 6.000e+00 5.700e+00\n",
      "  8.300e+00 6.800e+01 7.600e+01]\n",
      " [1.000e+00 3.300e+01 1.000e+01 5.910e+01 1.486e+03 6.700e+00 5.300e+00\n",
      "  1.030e+01 7.200e+01 7.400e+01]\n",
      " [1.000e+00 3.400e+01 1.500e+01 6.400e+01 1.578e+03 3.300e+00 5.300e+00\n",
      "  7.000e+00 8.800e+01 8.000e+01]\n",
      " [1.000e+00 3.500e+01 1.800e+01 6.950e+01 1.645e+03 9.300e+00 5.000e+00\n",
      "  7.000e+00 6.000e+01 6.800e+01]\n",
      " [1.000e+00 3.500e+01 2.000e+00 6.400e+01 1.648e+03 3.000e+00 3.700e+00\n",
      "  6.700e+00 6.000e+01 7.800e+01]\n",
      " [1.000e+00 3.600e+01 1.200e+01 5.650e+01 1.521e+03 3.300e+00 5.000e+00\n",
      "  1.170e+01 7.200e+01 8.600e+01]\n",
      " [1.000e+00 3.600e+01 1.500e+01 5.700e+01 1.547e+03 3.000e+00 3.000e+00\n",
      "  6.000e+00 8.400e+01 7.000e+01]\n",
      " [1.000e+00 3.700e+01 1.600e+01 5.500e+01 1.505e+03 4.300e+00 5.000e+00\n",
      "  7.000e+00 6.400e+01 7.600e+01]\n",
      " [1.000e+00 3.700e+01 1.700e+01 5.700e+01 1.473e+03 6.000e+00 5.300e+00\n",
      "  1.170e+01 7.200e+01 8.000e+01]\n",
      " [1.000e+00 3.800e+01 1.000e+01 5.800e+01 1.538e+03 8.700e+00 6.000e+00\n",
      "  1.300e+01 6.400e+01 6.400e+01]\n",
      " [1.000e+00 3.800e+01 1.800e+01 5.950e+01 1.513e+03 5.300e+00 4.000e+00\n",
      "  7.700e+00 8.000e+01 6.600e+01]\n",
      " [1.000e+00 3.800e+01 1.100e+01 6.100e+01 1.653e+03 4.000e+00 3.300e+00\n",
      "  4.000e+00 7.600e+01 7.800e+01]\n",
      " [1.000e+00 3.800e+01 1.100e+01 5.700e+01 1.566e+03 3.000e+00 3.000e+00\n",
      "  3.000e+00 6.000e+01 7.200e+01]\n",
      " [1.000e+00 3.900e+01 2.100e+01 5.750e+01 1.580e+03 4.000e+00 3.000e+00\n",
      "  5.000e+00 6.400e+01 6.200e+01]\n",
      " [1.000e+00 3.900e+01 2.400e+01 7.400e+01 1.647e+03 7.300e+00 6.300e+00\n",
      "  1.570e+01 6.400e+01 8.400e+01]\n",
      " [1.000e+00 3.900e+01 1.400e+01 7.200e+01 1.620e+03 6.300e+00 7.700e+00\n",
      "  1.330e+01 6.800e+01 9.200e+01]\n",
      " [1.000e+00 4.100e+01 2.500e+01 6.250e+01 1.637e+03 6.000e+00 5.300e+00\n",
      "  8.000e+00 7.600e+01 8.000e+01]\n",
      " [1.000e+00 4.100e+01 3.200e+01 6.800e+01 1.528e+03 1.000e+01 5.000e+00\n",
      "  1.130e+01 6.000e+01 8.200e+01]\n",
      " [1.000e+00 4.100e+01 5.000e+00 6.340e+01 1.647e+03 5.300e+00 4.300e+00\n",
      "  1.370e+01 7.600e+01 9.200e+01]\n",
      " [1.000e+00 4.200e+01 1.200e+01 6.800e+01 1.605e+03 1.100e+01 7.000e+00\n",
      "  1.070e+01 8.800e+01 9.000e+01]\n",
      " [1.000e+00 4.300e+01 2.500e+01 6.900e+01 1.625e+03 5.000e+00 3.000e+00\n",
      "  6.000e+00 7.200e+01 7.200e+01]\n",
      " [1.000e+00 4.300e+01 2.600e+01 7.300e+01 1.615e+03 1.200e+01 4.000e+00\n",
      "  5.700e+00 6.800e+01 7.400e+01]\n",
      " [1.000e+00 4.300e+01 1.000e+01 6.400e+01 1.640e+03 5.700e+00 3.000e+00\n",
      "  7.000e+00 6.000e+01 6.600e+01]\n",
      " [1.000e+00 4.400e+01 1.900e+01 6.500e+01 1.610e+03 8.000e+00 6.700e+00\n",
      "  7.700e+00 7.400e+01 7.000e+01]\n",
      " [1.000e+00 4.400e+01 1.800e+01 7.100e+01 1.572e+03 3.000e+00 4.700e+00\n",
      "  4.300e+00 7.200e+01 8.400e+01]\n",
      " [1.000e+00 4.500e+01 1.000e+01 6.020e+01 1.534e+03 3.000e+00 3.000e+00\n",
      "  3.300e+00 5.600e+01 7.000e+01]\n",
      " [1.000e+00 4.700e+01 1.000e+00 5.500e+01 1.536e+03 3.000e+00 3.000e+00\n",
      "  4.000e+00 6.400e+01 5.400e+01]\n",
      " [1.000e+00 5.000e+01 4.300e+01 7.000e+01 1.630e+03 4.000e+00 6.000e+00\n",
      "  1.170e+01 7.200e+01 9.000e+01]\n",
      " [1.000e+00 5.400e+01 4.000e+01 8.700e+01 1.542e+03 1.130e+01 1.170e+01\n",
      "  1.130e+01 9.200e+01 8.800e+01]]\n"
     ]
    },
    {
     "data": {
      "text/html": [
       "<table class=\"simpletable\">\n",
       "<caption>OLS Regression Results</caption>\n",
       "<tr>\n",
       "  <th>Dep. Variable:</th>         <td>Systol</td>      <th>  R-squared (uncentered):</th>      <td>   0.991</td>\n",
       "</tr>\n",
       "<tr>\n",
       "  <th>Model:</th>                   <td>OLS</td>       <th>  Adj. R-squared (uncentered):</th> <td>   0.990</td>\n",
       "</tr>\n",
       "<tr>\n",
       "  <th>Method:</th>             <td>Least Squares</td>  <th>  F-statistic:       </th>          <td>   977.7</td>\n",
       "</tr>\n",
       "<tr>\n",
       "  <th>Date:</th>             <td>Sat, 09 Sep 2023</td> <th>  Prob (F-statistic):</th>          <td>2.25e-35</td>\n",
       "</tr>\n",
       "<tr>\n",
       "  <th>Time:</th>                 <td>17:26:59</td>     <th>  Log-Likelihood:    </th>          <td> -152.45</td>\n",
       "</tr>\n",
       "<tr>\n",
       "  <th>No. Observations:</th>      <td>    39</td>      <th>  AIC:               </th>          <td>   312.9</td>\n",
       "</tr>\n",
       "<tr>\n",
       "  <th>Df Residuals:</th>          <td>    35</td>      <th>  BIC:               </th>          <td>   319.6</td>\n",
       "</tr>\n",
       "<tr>\n",
       "  <th>Df Model:</th>              <td>     4</td>      <th>                     </th>              <td> </td>   \n",
       "</tr>\n",
       "<tr>\n",
       "  <th>Covariance Type:</th>      <td>nonrobust</td>    <th>                     </th>              <td> </td>   \n",
       "</tr>\n",
       "</table>\n",
       "<table class=\"simpletable\">\n",
       "<tr>\n",
       "   <td></td>     <th>coef</th>     <th>std err</th>      <th>t</th>      <th>P>|t|</th>  <th>[0.025</th>    <th>0.975]</th>  \n",
       "</tr>\n",
       "<tr>\n",
       "  <th>x1</th> <td>   -0.1777</td> <td>    0.211</td> <td>   -0.843</td> <td> 0.405</td> <td>   -0.606</td> <td>    0.250</td>\n",
       "</tr>\n",
       "<tr>\n",
       "  <th>x2</th> <td>    0.0704</td> <td>    0.010</td> <td>    7.399</td> <td> 0.000</td> <td>    0.051</td> <td>    0.090</td>\n",
       "</tr>\n",
       "<tr>\n",
       "  <th>x3</th> <td>    0.7359</td> <td>    0.521</td> <td>    1.414</td> <td> 0.166</td> <td>   -0.321</td> <td>    1.793</td>\n",
       "</tr>\n",
       "<tr>\n",
       "  <th>x4</th> <td>    0.1815</td> <td>    0.223</td> <td>    0.815</td> <td> 0.421</td> <td>   -0.271</td> <td>    0.634</td>\n",
       "</tr>\n",
       "</table>\n",
       "<table class=\"simpletable\">\n",
       "<tr>\n",
       "  <th>Omnibus:</th>       <td> 1.942</td> <th>  Durbin-Watson:     </th> <td>   1.841</td>\n",
       "</tr>\n",
       "<tr>\n",
       "  <th>Prob(Omnibus):</th> <td> 0.379</td> <th>  Jarque-Bera (JB):  </th> <td>   1.537</td>\n",
       "</tr>\n",
       "<tr>\n",
       "  <th>Skew:</th>          <td> 0.484</td> <th>  Prob(JB):          </th> <td>   0.464</td>\n",
       "</tr>\n",
       "<tr>\n",
       "  <th>Kurtosis:</th>      <td> 2.898</td> <th>  Cond. No.          </th> <td>    406.</td>\n",
       "</tr>\n",
       "</table><br/><br/>Notes:<br/>[1] R² is computed without centering (uncentered) since the model does not contain a constant.<br/>[2] Standard Errors assume that the covariance matrix of the errors is correctly specified."
      ],
      "text/latex": [
       "\\begin{center}\n",
       "\\begin{tabular}{lclc}\n",
       "\\toprule\n",
       "\\textbf{Dep. Variable:}    &      Systol      & \\textbf{  R-squared (uncentered):}      &     0.991   \\\\\n",
       "\\textbf{Model:}            &       OLS        & \\textbf{  Adj. R-squared (uncentered):} &     0.990   \\\\\n",
       "\\textbf{Method:}           &  Least Squares   & \\textbf{  F-statistic:       }          &     977.7   \\\\\n",
       "\\textbf{Date:}             & Sat, 09 Sep 2023 & \\textbf{  Prob (F-statistic):}          &  2.25e-35   \\\\\n",
       "\\textbf{Time:}             &     17:26:59     & \\textbf{  Log-Likelihood:    }          &   -152.45   \\\\\n",
       "\\textbf{No. Observations:} &          39      & \\textbf{  AIC:               }          &     312.9   \\\\\n",
       "\\textbf{Df Residuals:}     &          35      & \\textbf{  BIC:               }          &     319.6   \\\\\n",
       "\\textbf{Df Model:}         &           4      & \\textbf{                     }          &             \\\\\n",
       "\\textbf{Covariance Type:}  &    nonrobust     & \\textbf{                     }          &             \\\\\n",
       "\\bottomrule\n",
       "\\end{tabular}\n",
       "\\begin{tabular}{lcccccc}\n",
       "            & \\textbf{coef} & \\textbf{std err} & \\textbf{t} & \\textbf{P$> |$t$|$} & \\textbf{[0.025} & \\textbf{0.975]}  \\\\\n",
       "\\midrule\n",
       "\\textbf{x1} &      -0.1777  &        0.211     &    -0.843  &         0.405        &       -0.606    &        0.250     \\\\\n",
       "\\textbf{x2} &       0.0704  &        0.010     &     7.399  &         0.000        &        0.051    &        0.090     \\\\\n",
       "\\textbf{x3} &       0.7359  &        0.521     &     1.414  &         0.166        &       -0.321    &        1.793     \\\\\n",
       "\\textbf{x4} &       0.1815  &        0.223     &     0.815  &         0.421        &       -0.271    &        0.634     \\\\\n",
       "\\bottomrule\n",
       "\\end{tabular}\n",
       "\\begin{tabular}{lclc}\n",
       "\\textbf{Omnibus:}       &  1.942 & \\textbf{  Durbin-Watson:     } &    1.841  \\\\\n",
       "\\textbf{Prob(Omnibus):} &  0.379 & \\textbf{  Jarque-Bera (JB):  } &    1.537  \\\\\n",
       "\\textbf{Skew:}          &  0.484 & \\textbf{  Prob(JB):          } &    0.464  \\\\\n",
       "\\textbf{Kurtosis:}      &  2.898 & \\textbf{  Cond. No.          } &     406.  \\\\\n",
       "\\bottomrule\n",
       "\\end{tabular}\n",
       "%\\caption{OLS Regression Results}\n",
       "\\end{center}\n",
       "\n",
       "Notes: \\newline\n",
       " [1] R² is computed without centering (uncentered) since the model does not contain a constant. \\newline\n",
       " [2] Standard Errors assume that the covariance matrix of the errors is correctly specified."
      ],
      "text/plain": [
       "<class 'statsmodels.iolib.summary.Summary'>\n",
       "\"\"\"\n",
       "                                 OLS Regression Results                                \n",
       "=======================================================================================\n",
       "Dep. Variable:                 Systol   R-squared (uncentered):                   0.991\n",
       "Model:                            OLS   Adj. R-squared (uncentered):              0.990\n",
       "Method:                 Least Squares   F-statistic:                              977.7\n",
       "Date:                Sat, 09 Sep 2023   Prob (F-statistic):                    2.25e-35\n",
       "Time:                        17:26:59   Log-Likelihood:                         -152.45\n",
       "No. Observations:                  39   AIC:                                      312.9\n",
       "Df Residuals:                      35   BIC:                                      319.6\n",
       "Df Model:                           4                                                  \n",
       "Covariance Type:            nonrobust                                                  \n",
       "==============================================================================\n",
       "                 coef    std err          t      P>|t|      [0.025      0.975]\n",
       "------------------------------------------------------------------------------\n",
       "x1            -0.1777      0.211     -0.843      0.405      -0.606       0.250\n",
       "x2             0.0704      0.010      7.399      0.000       0.051       0.090\n",
       "x3             0.7359      0.521      1.414      0.166      -0.321       1.793\n",
       "x4             0.1815      0.223      0.815      0.421      -0.271       0.634\n",
       "==============================================================================\n",
       "Omnibus:                        1.942   Durbin-Watson:                   1.841\n",
       "Prob(Omnibus):                  0.379   Jarque-Bera (JB):                1.537\n",
       "Skew:                           0.484   Prob(JB):                        0.464\n",
       "Kurtosis:                       2.898   Cond. No.                         406.\n",
       "==============================================================================\n",
       "\n",
       "Notes:\n",
       "[1] R² is computed without centering (uncentered) since the model does not contain a constant.\n",
       "[2] Standard Errors assume that the covariance matrix of the errors is correctly specified.\n",
       "\"\"\""
      ]
     },
     "execution_count": 12,
     "metadata": {},
     "output_type": "execute_result"
    }
   ],
   "source": [
    "import statsmodels.api as sm\n",
    "\n",
    "X = np.append(arr=np.ones((len(df),1)).astype(int),values = X, axis=1)\n",
    "print(X)\n",
    "\n",
    "X_opt = X[:,[2, 4, 7, 8]]\n",
    "regressor_OLS = sm.OLS(endog=y,exog=X_opt).fit()\n",
    "regressor_OLS.summary()"
   ]
  },
  {
   "cell_type": "code",
   "execution_count": 13,
   "id": "33935613",
   "metadata": {},
   "outputs": [
    {
     "data": {
      "text/html": [
       "<table class=\"simpletable\">\n",
       "<caption>OLS Regression Results</caption>\n",
       "<tr>\n",
       "  <th>Dep. Variable:</th>         <td>Systol</td>      <th>  R-squared (uncentered):</th>      <td>   0.990</td>\n",
       "</tr>\n",
       "<tr>\n",
       "  <th>Model:</th>                   <td>OLS</td>       <th>  Adj. R-squared (uncentered):</th> <td>   0.989</td>\n",
       "</tr>\n",
       "<tr>\n",
       "  <th>Method:</th>             <td>Least Squares</td>  <th>  F-statistic:       </th>          <td>   900.5</td>\n",
       "</tr>\n",
       "<tr>\n",
       "  <th>Date:</th>             <td>Sat, 09 Sep 2023</td> <th>  Prob (F-statistic):</th>          <td>9.36e-35</td>\n",
       "</tr>\n",
       "<tr>\n",
       "  <th>Time:</th>                 <td>17:26:59</td>     <th>  Log-Likelihood:    </th>          <td> -154.04</td>\n",
       "</tr>\n",
       "<tr>\n",
       "  <th>No. Observations:</th>      <td>    39</td>      <th>  AIC:               </th>          <td>   316.1</td>\n",
       "</tr>\n",
       "<tr>\n",
       "  <th>Df Residuals:</th>          <td>    35</td>      <th>  BIC:               </th>          <td>   322.7</td>\n",
       "</tr>\n",
       "<tr>\n",
       "  <th>Df Model:</th>              <td>     4</td>      <th>                     </th>              <td> </td>   \n",
       "</tr>\n",
       "<tr>\n",
       "  <th>Covariance Type:</th>      <td>nonrobust</td>    <th>                     </th>              <td> </td>   \n",
       "</tr>\n",
       "</table>\n",
       "<table class=\"simpletable\">\n",
       "<tr>\n",
       "   <td></td>     <th>coef</th>     <th>std err</th>      <th>t</th>      <th>P>|t|</th>  <th>[0.025</th>    <th>0.975]</th>  \n",
       "</tr>\n",
       "<tr>\n",
       "  <th>x1</th> <td>   -0.4488</td> <td>    0.320</td> <td>   -1.403</td> <td> 0.170</td> <td>   -1.098</td> <td>    0.201</td>\n",
       "</tr>\n",
       "<tr>\n",
       "  <th>x2</th> <td>    2.3865</td> <td>    0.230</td> <td>   10.393</td> <td> 0.000</td> <td>    1.920</td> <td>    2.853</td>\n",
       "</tr>\n",
       "<tr>\n",
       "  <th>x3</th> <td>   -2.3266</td> <td>    1.466</td> <td>   -1.587</td> <td> 0.122</td> <td>   -5.303</td> <td>    0.650</td>\n",
       "</tr>\n",
       "<tr>\n",
       "  <th>x4</th> <td>    0.5034</td> <td>    0.781</td> <td>    0.644</td> <td> 0.524</td> <td>   -1.083</td> <td>    2.090</td>\n",
       "</tr>\n",
       "</table>\n",
       "<table class=\"simpletable\">\n",
       "<tr>\n",
       "  <th>Omnibus:</th>       <td> 1.782</td> <th>  Durbin-Watson:     </th> <td>   1.813</td>\n",
       "</tr>\n",
       "<tr>\n",
       "  <th>Prob(Omnibus):</th> <td> 0.410</td> <th>  Jarque-Bera (JB):  </th> <td>   1.480</td>\n",
       "</tr>\n",
       "<tr>\n",
       "  <th>Skew:</th>          <td>-0.316</td> <th>  Prob(JB):          </th> <td>   0.477</td>\n",
       "</tr>\n",
       "<tr>\n",
       "  <th>Kurtosis:</th>      <td> 2.284</td> <th>  Cond. No.          </th> <td>    54.8</td>\n",
       "</tr>\n",
       "</table><br/><br/>Notes:<br/>[1] R² is computed without centering (uncentered) since the model does not contain a constant.<br/>[2] Standard Errors assume that the covariance matrix of the errors is correctly specified."
      ],
      "text/latex": [
       "\\begin{center}\n",
       "\\begin{tabular}{lclc}\n",
       "\\toprule\n",
       "\\textbf{Dep. Variable:}    &      Systol      & \\textbf{  R-squared (uncentered):}      &     0.990   \\\\\n",
       "\\textbf{Model:}            &       OLS        & \\textbf{  Adj. R-squared (uncentered):} &     0.989   \\\\\n",
       "\\textbf{Method:}           &  Least Squares   & \\textbf{  F-statistic:       }          &     900.5   \\\\\n",
       "\\textbf{Date:}             & Sat, 09 Sep 2023 & \\textbf{  Prob (F-statistic):}          &  9.36e-35   \\\\\n",
       "\\textbf{Time:}             &     17:26:59     & \\textbf{  Log-Likelihood:    }          &   -154.04   \\\\\n",
       "\\textbf{No. Observations:} &          39      & \\textbf{  AIC:               }          &     316.1   \\\\\n",
       "\\textbf{Df Residuals:}     &          35      & \\textbf{  BIC:               }          &     322.7   \\\\\n",
       "\\textbf{Df Model:}         &           4      & \\textbf{                     }          &             \\\\\n",
       "\\textbf{Covariance Type:}  &    nonrobust     & \\textbf{                     }          &             \\\\\n",
       "\\bottomrule\n",
       "\\end{tabular}\n",
       "\\begin{tabular}{lcccccc}\n",
       "            & \\textbf{coef} & \\textbf{std err} & \\textbf{t} & \\textbf{P$> |$t$|$} & \\textbf{[0.025} & \\textbf{0.975]}  \\\\\n",
       "\\midrule\n",
       "\\textbf{x1} &      -0.4488  &        0.320     &    -1.403  &         0.170        &       -1.098    &        0.201     \\\\\n",
       "\\textbf{x2} &       2.3865  &        0.230     &    10.393  &         0.000        &        1.920    &        2.853     \\\\\n",
       "\\textbf{x3} &      -2.3266  &        1.466     &    -1.587  &         0.122        &       -5.303    &        0.650     \\\\\n",
       "\\textbf{x4} &       0.5034  &        0.781     &     0.644  &         0.524        &       -1.083    &        2.090     \\\\\n",
       "\\bottomrule\n",
       "\\end{tabular}\n",
       "\\begin{tabular}{lclc}\n",
       "\\textbf{Omnibus:}       &  1.782 & \\textbf{  Durbin-Watson:     } &    1.813  \\\\\n",
       "\\textbf{Prob(Omnibus):} &  0.410 & \\textbf{  Jarque-Bera (JB):  } &    1.480  \\\\\n",
       "\\textbf{Skew:}          & -0.316 & \\textbf{  Prob(JB):          } &    0.477  \\\\\n",
       "\\textbf{Kurtosis:}      &  2.284 & \\textbf{  Cond. No.          } &     54.8  \\\\\n",
       "\\bottomrule\n",
       "\\end{tabular}\n",
       "%\\caption{OLS Regression Results}\n",
       "\\end{center}\n",
       "\n",
       "Notes: \\newline\n",
       " [1] R² is computed without centering (uncentered) since the model does not contain a constant. \\newline\n",
       " [2] Standard Errors assume that the covariance matrix of the errors is correctly specified."
      ],
      "text/plain": [
       "<class 'statsmodels.iolib.summary.Summary'>\n",
       "\"\"\"\n",
       "                                 OLS Regression Results                                \n",
       "=======================================================================================\n",
       "Dep. Variable:                 Systol   R-squared (uncentered):                   0.990\n",
       "Model:                            OLS   Adj. R-squared (uncentered):              0.989\n",
       "Method:                 Least Squares   F-statistic:                              900.5\n",
       "Date:                Sat, 09 Sep 2023   Prob (F-statistic):                    9.36e-35\n",
       "Time:                        17:26:59   Log-Likelihood:                         -154.04\n",
       "No. Observations:                  39   AIC:                                      316.1\n",
       "Df Residuals:                      35   BIC:                                      322.7\n",
       "Df Model:                           4                                                  \n",
       "Covariance Type:            nonrobust                                                  \n",
       "==============================================================================\n",
       "                 coef    std err          t      P>|t|      [0.025      0.975]\n",
       "------------------------------------------------------------------------------\n",
       "x1            -0.4488      0.320     -1.403      0.170      -1.098       0.201\n",
       "x2             2.3865      0.230     10.393      0.000       1.920       2.853\n",
       "x3            -2.3266      1.466     -1.587      0.122      -5.303       0.650\n",
       "x4             0.5034      0.781      0.644      0.524      -1.083       2.090\n",
       "==============================================================================\n",
       "Omnibus:                        1.782   Durbin-Watson:                   1.813\n",
       "Prob(Omnibus):                  0.410   Jarque-Bera (JB):                1.480\n",
       "Skew:                          -0.316   Prob(JB):                        0.477\n",
       "Kurtosis:                       2.284   Cond. No.                         54.8\n",
       "==============================================================================\n",
       "\n",
       "Notes:\n",
       "[1] R² is computed without centering (uncentered) since the model does not contain a constant.\n",
       "[2] Standard Errors assume that the covariance matrix of the errors is correctly specified.\n",
       "\"\"\""
      ]
     },
     "execution_count": 13,
     "metadata": {},
     "output_type": "execute_result"
    }
   ],
   "source": [
    "X = np.append(arr=np.ones((len(df),1)).astype(int),values = X, axis=1)\n",
    "X_opt = X[:,[2, 4, 7, 8]]\n",
    "regressor_OLS = sm.OLS(endog=y,exog=X_opt).fit()\n",
    "regressor_OLS.summary()"
   ]
  },
  {
   "cell_type": "code",
   "execution_count": 14,
   "id": "5321d9dd",
   "metadata": {},
   "outputs": [
    {
     "name": "stderr",
     "output_type": "stream",
     "text": [
      "[Parallel(n_jobs=1)]: Using backend SequentialBackend with 1 concurrent workers.\n",
      "[Parallel(n_jobs=1)]: Done  11 out of  11 | elapsed:    0.1s finished\n",
      "Features: 10/4[Parallel(n_jobs=1)]: Using backend SequentialBackend with 1 concurrent workers.\n",
      "[Parallel(n_jobs=1)]: Done  10 out of  10 | elapsed:    0.0s finished\n",
      "Features: 9/4[Parallel(n_jobs=1)]: Using backend SequentialBackend with 1 concurrent workers.\n",
      "[Parallel(n_jobs=1)]: Done   9 out of   9 | elapsed:    0.0s finished\n",
      "Features: 8/4[Parallel(n_jobs=1)]: Using backend SequentialBackend with 1 concurrent workers.\n",
      "[Parallel(n_jobs=1)]: Done   8 out of   8 | elapsed:    0.0s finished\n",
      "Features: 7/4[Parallel(n_jobs=1)]: Using backend SequentialBackend with 1 concurrent workers.\n",
      "[Parallel(n_jobs=1)]: Done   7 out of   7 | elapsed:    0.0s finished\n",
      "Features: 6/4[Parallel(n_jobs=1)]: Using backend SequentialBackend with 1 concurrent workers.\n",
      "[Parallel(n_jobs=1)]: Done   6 out of   6 | elapsed:    0.0s finished\n",
      "Features: 5/4[Parallel(n_jobs=1)]: Using backend SequentialBackend with 1 concurrent workers.\n",
      "[Parallel(n_jobs=1)]: Done   5 out of   5 | elapsed:    0.0s finished\n",
      "Features: 4/4"
     ]
    }
   ],
   "source": [
    "#backward Elimination method\n",
    "\n",
    "linearreg2 = LinearRegression()\n",
    "fowad = SequentialFeatureSelector(linearreg2,k_features=4,forward=False,verbose=1,scoring=\"neg_mean_squared_error\")\n",
    "sf1 = fowad.fit(X,y)"
   ]
  },
  {
   "cell_type": "code",
   "execution_count": 15,
   "id": "8b62dbc0",
   "metadata": {},
   "outputs": [
    {
     "data": {
      "text/plain": [
       "(4, 5, 6, 10)"
      ]
     },
     "execution_count": 15,
     "metadata": {},
     "output_type": "execute_result"
    }
   ],
   "source": [
    "fowad.k_feature_idx_"
   ]
  },
  {
   "cell_type": "code",
   "execution_count": 16,
   "id": "9518f3c4",
   "metadata": {},
   "outputs": [
    {
     "name": "stdout",
     "output_type": "stream",
     "text": [
      "['4', '5', '6', '10']\n"
     ]
    }
   ],
   "source": [
    "vfeat_names = list(fowad.k_feature_names_)\n",
    "print(vfeat_names)"
   ]
  },
  {
   "cell_type": "code",
   "execution_count": 17,
   "id": "0a3477dc",
   "metadata": {},
   "outputs": [
    {
     "data": {
      "text/plain": [
       "-134.27515853234036"
      ]
     },
     "execution_count": 17,
     "metadata": {},
     "output_type": "execute_result"
    }
   ],
   "source": [
    "sf1.k_score_"
   ]
  },
  {
   "cell_type": "code",
   "execution_count": 18,
   "id": "b91d6b9e",
   "metadata": {},
   "outputs": [],
   "source": [
    "# [2,4,7,8] -selected\n",
    "#1----0.671,0.00\n",
    "                         #2-----0.989 , 0.00\n",
    "#3------0.845---0.00\n",
    "                         #4-----0.830 , 0.00\n",
    "#5------0.990---0.00\n",
    "#6----0.821-----0.00\n",
    "                          #7-----0.976 , 0.00\n",
    "                          #8-----0.982 , 0.00\n",
    "xx = df.iloc[:,[2, 4, 7]]\n",
    "y = df.Systol"
   ]
  },
  {
   "cell_type": "code",
   "execution_count": 19,
   "id": "7eadc524",
   "metadata": {},
   "outputs": [],
   "source": [
    "xx = df.iloc[:,[ 4, 5, 6, 7]]\n",
    "y = df.Systol"
   ]
  },
  {
   "cell_type": "code",
   "execution_count": 20,
   "id": "c0345e11",
   "metadata": {},
   "outputs": [
    {
     "data": {
      "text/html": [
       "<table class=\"simpletable\">\n",
       "<caption>OLS Regression Results</caption>\n",
       "<tr>\n",
       "  <th>Dep. Variable:</th>         <td>Systol</td>      <th>  R-squared (uncentered):</th>      <td>   0.978</td>\n",
       "</tr>\n",
       "<tr>\n",
       "  <th>Model:</th>                   <td>OLS</td>       <th>  Adj. R-squared (uncentered):</th> <td>   0.975</td>\n",
       "</tr>\n",
       "<tr>\n",
       "  <th>Method:</th>             <td>Least Squares</td>  <th>  F-statistic:       </th>          <td>   384.3</td>\n",
       "</tr>\n",
       "<tr>\n",
       "  <th>Date:</th>             <td>Sat, 09 Sep 2023</td> <th>  Prob (F-statistic):</th>          <td>2.19e-28</td>\n",
       "</tr>\n",
       "<tr>\n",
       "  <th>Time:</th>                 <td>17:27:01</td>     <th>  Log-Likelihood:    </th>          <td> -170.39</td>\n",
       "</tr>\n",
       "<tr>\n",
       "  <th>No. Observations:</th>      <td>    39</td>      <th>  AIC:               </th>          <td>   348.8</td>\n",
       "</tr>\n",
       "<tr>\n",
       "  <th>Df Residuals:</th>          <td>    35</td>      <th>  BIC:               </th>          <td>   355.4</td>\n",
       "</tr>\n",
       "<tr>\n",
       "  <th>Df Model:</th>              <td>     4</td>      <th>                     </th>              <td> </td>   \n",
       "</tr>\n",
       "<tr>\n",
       "  <th>Covariance Type:</th>      <td>nonrobust</td>    <th>                     </th>              <td> </td>   \n",
       "</tr>\n",
       "</table>\n",
       "<table class=\"simpletable\">\n",
       "<tr>\n",
       "     <td></td>        <th>coef</th>     <th>std err</th>      <th>t</th>      <th>P>|t|</th>  <th>[0.025</th>    <th>0.975]</th>  \n",
       "</tr>\n",
       "<tr>\n",
       "  <th>Chin</th>    <td>    1.1034</td> <td>    1.548</td> <td>    0.713</td> <td> 0.481</td> <td>   -2.039</td> <td>    4.246</td>\n",
       "</tr>\n",
       "<tr>\n",
       "  <th>Forearm</th> <td>   -2.4594</td> <td>    2.431</td> <td>   -1.012</td> <td> 0.319</td> <td>   -7.395</td> <td>    2.477</td>\n",
       "</tr>\n",
       "<tr>\n",
       "  <th>Calf</th>    <td>    1.5631</td> <td>    1.181</td> <td>    1.324</td> <td> 0.194</td> <td>   -0.835</td> <td>    3.961</td>\n",
       "</tr>\n",
       "<tr>\n",
       "  <th>Pulse</th>   <td>    1.6882</td> <td>    0.130</td> <td>   12.955</td> <td> 0.000</td> <td>    1.424</td> <td>    1.953</td>\n",
       "</tr>\n",
       "</table>\n",
       "<table class=\"simpletable\">\n",
       "<tr>\n",
       "  <th>Omnibus:</th>       <td> 2.321</td> <th>  Durbin-Watson:     </th> <td>   1.879</td>\n",
       "</tr>\n",
       "<tr>\n",
       "  <th>Prob(Omnibus):</th> <td> 0.313</td> <th>  Jarque-Bera (JB):  </th> <td>   1.362</td>\n",
       "</tr>\n",
       "<tr>\n",
       "  <th>Skew:</th>          <td> 0.419</td> <th>  Prob(JB):          </th> <td>   0.506</td>\n",
       "</tr>\n",
       "<tr>\n",
       "  <th>Kurtosis:</th>      <td> 3.367</td> <th>  Cond. No.          </th> <td>    58.5</td>\n",
       "</tr>\n",
       "</table><br/><br/>Notes:<br/>[1] R² is computed without centering (uncentered) since the model does not contain a constant.<br/>[2] Standard Errors assume that the covariance matrix of the errors is correctly specified."
      ],
      "text/latex": [
       "\\begin{center}\n",
       "\\begin{tabular}{lclc}\n",
       "\\toprule\n",
       "\\textbf{Dep. Variable:}    &      Systol      & \\textbf{  R-squared (uncentered):}      &     0.978   \\\\\n",
       "\\textbf{Model:}            &       OLS        & \\textbf{  Adj. R-squared (uncentered):} &     0.975   \\\\\n",
       "\\textbf{Method:}           &  Least Squares   & \\textbf{  F-statistic:       }          &     384.3   \\\\\n",
       "\\textbf{Date:}             & Sat, 09 Sep 2023 & \\textbf{  Prob (F-statistic):}          &  2.19e-28   \\\\\n",
       "\\textbf{Time:}             &     17:27:01     & \\textbf{  Log-Likelihood:    }          &   -170.39   \\\\\n",
       "\\textbf{No. Observations:} &          39      & \\textbf{  AIC:               }          &     348.8   \\\\\n",
       "\\textbf{Df Residuals:}     &          35      & \\textbf{  BIC:               }          &     355.4   \\\\\n",
       "\\textbf{Df Model:}         &           4      & \\textbf{                     }          &             \\\\\n",
       "\\textbf{Covariance Type:}  &    nonrobust     & \\textbf{                     }          &             \\\\\n",
       "\\bottomrule\n",
       "\\end{tabular}\n",
       "\\begin{tabular}{lcccccc}\n",
       "                 & \\textbf{coef} & \\textbf{std err} & \\textbf{t} & \\textbf{P$> |$t$|$} & \\textbf{[0.025} & \\textbf{0.975]}  \\\\\n",
       "\\midrule\n",
       "\\textbf{Chin}    &       1.1034  &        1.548     &     0.713  &         0.481        &       -2.039    &        4.246     \\\\\n",
       "\\textbf{Forearm} &      -2.4594  &        2.431     &    -1.012  &         0.319        &       -7.395    &        2.477     \\\\\n",
       "\\textbf{Calf}    &       1.5631  &        1.181     &     1.324  &         0.194        &       -0.835    &        3.961     \\\\\n",
       "\\textbf{Pulse}   &       1.6882  &        0.130     &    12.955  &         0.000        &        1.424    &        1.953     \\\\\n",
       "\\bottomrule\n",
       "\\end{tabular}\n",
       "\\begin{tabular}{lclc}\n",
       "\\textbf{Omnibus:}       &  2.321 & \\textbf{  Durbin-Watson:     } &    1.879  \\\\\n",
       "\\textbf{Prob(Omnibus):} &  0.313 & \\textbf{  Jarque-Bera (JB):  } &    1.362  \\\\\n",
       "\\textbf{Skew:}          &  0.419 & \\textbf{  Prob(JB):          } &    0.506  \\\\\n",
       "\\textbf{Kurtosis:}      &  3.367 & \\textbf{  Cond. No.          } &     58.5  \\\\\n",
       "\\bottomrule\n",
       "\\end{tabular}\n",
       "%\\caption{OLS Regression Results}\n",
       "\\end{center}\n",
       "\n",
       "Notes: \\newline\n",
       " [1] R² is computed without centering (uncentered) since the model does not contain a constant. \\newline\n",
       " [2] Standard Errors assume that the covariance matrix of the errors is correctly specified."
      ],
      "text/plain": [
       "<class 'statsmodels.iolib.summary.Summary'>\n",
       "\"\"\"\n",
       "                                 OLS Regression Results                                \n",
       "=======================================================================================\n",
       "Dep. Variable:                 Systol   R-squared (uncentered):                   0.978\n",
       "Model:                            OLS   Adj. R-squared (uncentered):              0.975\n",
       "Method:                 Least Squares   F-statistic:                              384.3\n",
       "Date:                Sat, 09 Sep 2023   Prob (F-statistic):                    2.19e-28\n",
       "Time:                        17:27:01   Log-Likelihood:                         -170.39\n",
       "No. Observations:                  39   AIC:                                      348.8\n",
       "Df Residuals:                      35   BIC:                                      355.4\n",
       "Df Model:                           4                                                  \n",
       "Covariance Type:            nonrobust                                                  \n",
       "==============================================================================\n",
       "                 coef    std err          t      P>|t|      [0.025      0.975]\n",
       "------------------------------------------------------------------------------\n",
       "Chin           1.1034      1.548      0.713      0.481      -2.039       4.246\n",
       "Forearm       -2.4594      2.431     -1.012      0.319      -7.395       2.477\n",
       "Calf           1.5631      1.181      1.324      0.194      -0.835       3.961\n",
       "Pulse          1.6882      0.130     12.955      0.000       1.424       1.953\n",
       "==============================================================================\n",
       "Omnibus:                        2.321   Durbin-Watson:                   1.879\n",
       "Prob(Omnibus):                  0.313   Jarque-Bera (JB):                1.362\n",
       "Skew:                           0.419   Prob(JB):                        0.506\n",
       "Kurtosis:                       3.367   Cond. No.                         58.5\n",
       "==============================================================================\n",
       "\n",
       "Notes:\n",
       "[1] R² is computed without centering (uncentered) since the model does not contain a constant.\n",
       "[2] Standard Errors assume that the covariance matrix of the errors is correctly specified.\n",
       "\"\"\""
      ]
     },
     "execution_count": 20,
     "metadata": {},
     "output_type": "execute_result"
    }
   ],
   "source": [
    "regressor_OLS = sm.OLS(endog=y,exog=xx).fit()\n",
    "regressor_OLS.summary()"
   ]
  },
  {
   "cell_type": "code",
   "execution_count": null,
   "id": "416fdf9d",
   "metadata": {},
   "outputs": [],
   "source": []
  }
 ],
 "metadata": {
  "kernelspec": {
   "display_name": "Python 3 (ipykernel)",
   "language": "python",
   "name": "python3"
  },
  "language_info": {
   "codemirror_mode": {
    "name": "ipython",
    "version": 3
   },
   "file_extension": ".py",
   "mimetype": "text/x-python",
   "name": "python",
   "nbconvert_exporter": "python",
   "pygments_lexer": "ipython3",
   "version": "3.8.16"
  }
 },
 "nbformat": 4,
 "nbformat_minor": 5
}
