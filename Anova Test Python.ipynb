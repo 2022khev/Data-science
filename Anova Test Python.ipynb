{
 "cells": [
  {
   "cell_type": "code",
   "execution_count": 1,
   "id": "a6cdd1c3",
   "metadata": {},
   "outputs": [],
   "source": [
    "import numpy as np\n",
    "import pandas as pd\n",
    "# import matplotlib.pyplot as plt\n",
    "import scipy.stats as stats"
   ]
  },
  {
   "cell_type": "code",
   "execution_count": 2,
   "id": "485a486b",
   "metadata": {},
   "outputs": [
    {
     "name": "stdout",
     "output_type": "stream",
     "text": [
      "Requirement already satisfied: numpy in c:\\users\\kelvin\\.conda\\envs\\py3-tf2.0\\lib\\site-packages (1.23.5)\n",
      "Note: you may need to restart the kernel to use updated packages.\n"
     ]
    }
   ],
   "source": [
    "pip install numpy "
   ]
  },
  {
   "cell_type": "code",
   "execution_count": 3,
   "id": "6a0fa75e",
   "metadata": {},
   "outputs": [],
   "source": [
    "races = ['asian','black','hispanic','other','white']\n",
    "voter_race = np.random.choice(a=races,\n",
    "                             p=[0.05,0.15,0.25,0.05,0.5],\n",
    "                             size=1000)\n",
    "voter_age =stats.poisson.rvs(loc=18,\n",
    "                             mu=30,\n",
    "                             size=1000)\n",
    "voter_frame=pd.DataFrame({'race':voter_race,'age':voter_age})\n",
    "groups = voter_frame.groupby('race').groups"
   ]
  },
  {
   "cell_type": "code",
   "execution_count": 4,
   "id": "f1c01e64",
   "metadata": {},
   "outputs": [],
   "source": [
    "asian = voter_age[groups['asian']]\n",
    "black = voter_age[groups['black']]\n",
    "hispanic = voter_age[groups['hispanic']]\n",
    "other= voter_age[groups['other']]\n",
    "white = voter_age[groups['white']]"
   ]
  },
  {
   "cell_type": "code",
   "execution_count": 5,
   "id": "9e07e7d0",
   "metadata": {},
   "outputs": [
    {
     "data": {
      "text/plain": [
       "F_onewayResult(statistic=1.2566647255977614, pvalue=0.28534955569761333)"
      ]
     },
     "execution_count": 5,
     "metadata": {},
     "output_type": "execute_result"
    }
   ],
   "source": [
    "stats.f_oneway(asian,black,hispanic,other,white)"
   ]
  },
  {
   "cell_type": "code",
   "execution_count": 6,
   "id": "15f259f2",
   "metadata": {},
   "outputs": [
    {
     "data": {
      "text/html": [
       "<div>\n",
       "<style scoped>\n",
       "    .dataframe tbody tr th:only-of-type {\n",
       "        vertical-align: middle;\n",
       "    }\n",
       "\n",
       "    .dataframe tbody tr th {\n",
       "        vertical-align: top;\n",
       "    }\n",
       "\n",
       "    .dataframe thead th {\n",
       "        text-align: right;\n",
       "    }\n",
       "</style>\n",
       "<table border=\"1\" class=\"dataframe\">\n",
       "  <thead>\n",
       "    <tr style=\"text-align: right;\">\n",
       "      <th></th>\n",
       "      <th>df</th>\n",
       "      <th>sum_sq</th>\n",
       "      <th>mean_sq</th>\n",
       "      <th>F</th>\n",
       "      <th>PR(&gt;F)</th>\n",
       "    </tr>\n",
       "  </thead>\n",
       "  <tbody>\n",
       "    <tr>\n",
       "      <th>race</th>\n",
       "      <td>4.0</td>\n",
       "      <td>150.07148</td>\n",
       "      <td>37.517870</td>\n",
       "      <td>1.256665</td>\n",
       "      <td>0.28535</td>\n",
       "    </tr>\n",
       "    <tr>\n",
       "      <th>Residual</th>\n",
       "      <td>995.0</td>\n",
       "      <td>29705.83952</td>\n",
       "      <td>29.855115</td>\n",
       "      <td>NaN</td>\n",
       "      <td>NaN</td>\n",
       "    </tr>\n",
       "  </tbody>\n",
       "</table>\n",
       "</div>"
      ],
      "text/plain": [
       "             df       sum_sq    mean_sq         F   PR(>F)\n",
       "race        4.0    150.07148  37.517870  1.256665  0.28535\n",
       "Residual  995.0  29705.83952  29.855115       NaN      NaN"
      ]
     },
     "execution_count": 6,
     "metadata": {},
     "output_type": "execute_result"
    }
   ],
   "source": [
    "import statsmodels.api as sm\n",
    "from statsmodels.formula.api import ols\n",
    "\n",
    "model=ols('age ~ race',\n",
    "         data=voter_frame).fit()\n",
    "anova_result = sm.stats.anova_lm(model,type=2)\n",
    "anova_result"
   ]
  },
  {
   "cell_type": "code",
   "execution_count": 7,
   "id": "797622b0",
   "metadata": {},
   "outputs": [],
   "source": [
    "# pip install statsmodels"
   ]
  },
  {
   "cell_type": "code",
   "execution_count": 8,
   "id": "5587b314",
   "metadata": {},
   "outputs": [
    {
     "name": "stdout",
     "output_type": "stream",
     "text": [
      "asian black\n",
      "Ttest_indResult(statistic=-1.2073031064188806, pvalue=0.22875568683756897)\n",
      "asian hispanic\n",
      "Ttest_indResult(statistic=-0.022311364033657674, pvalue=0.9822168297367998)\n",
      "asian other\n",
      "Ttest_indResult(statistic=-0.7186338017904311, pvalue=0.47424905693609054)\n",
      "asian white\n",
      "Ttest_indResult(statistic=-0.8894265287305873, pvalue=0.37414327309132156)\n",
      "black hispanic\n",
      "Ttest_indResult(statistic=1.9359063777510062, pvalue=0.05364058881033093)\n",
      "black other\n",
      "Ttest_indResult(statistic=0.3370351827820687, pvalue=0.7364420375135967)\n",
      "black white\n",
      "Ttest_indResult(statistic=0.8136059990168174, pvalue=0.4161509591117786)\n",
      "hispanic other\n",
      "Ttest_indResult(statistic=-0.9137879889778951, pvalue=0.3616716193824798)\n",
      "hispanic white\n",
      "Ttest_indResult(statistic=-1.6727619215730716, pvalue=0.0947906582012999)\n",
      "other white\n",
      "Ttest_indResult(statistic=0.10306270723979635, pvalue=0.9179487041714693)\n"
     ]
    }
   ],
   "source": [
    "race_pairs = []\n",
    "for race1 in range(4):\n",
    "    for race2 in range(race1+1,5):\n",
    "        race_pairs.append((races[race1],races[race2]))\n",
    "        \n",
    "for race1,race2 in race_pairs:\n",
    "    print(race1,race2)\n",
    "    print(stats.ttest_ind(voter_age[groups[race1]],voter_age[groups[race2]]))"
   ]
  },
  {
   "cell_type": "code",
   "execution_count": 9,
   "id": "d26791d6",
   "metadata": {},
   "outputs": [
    {
     "data": {
      "text/html": [
       "<table class=\"simpletable\">\n",
       "<caption>Multiple Comparison of Means - Tukey HSD, FWER=0.05</caption>\n",
       "<tr>\n",
       "   <th>group1</th>   <th>group2</th>  <th>meandiff</th>  <th>p-adj</th>  <th>lower</th>   <th>upper</th> <th>reject</th>\n",
       "</tr>\n",
       "<tr>\n",
       "    <td>asian</td>    <td>black</td>   <td>1.1527</td>  <td>0.7303</td> <td>-1.3962</td> <td>3.7015</td>  <td>False</td>\n",
       "</tr>\n",
       "<tr>\n",
       "    <td>asian</td>  <td>hispanic</td>  <td>0.0202</td>    <td>1.0</td>  <td>-2.4495</td> <td>2.4899</td>  <td>False</td>\n",
       "</tr>\n",
       "<tr>\n",
       "    <td>asian</td>    <td>other</td>   <td>0.8346</td>   <td>0.95</td>  <td>-2.2977</td> <td>3.9669</td>  <td>False</td>\n",
       "</tr>\n",
       "<tr>\n",
       "    <td>asian</td>    <td>white</td>   <td>0.7499</td>   <td>0.906</td> <td>-1.5916</td> <td>3.0913</td>  <td>False</td>\n",
       "</tr>\n",
       "<tr>\n",
       "    <td>black</td>  <td>hispanic</td>  <td>-1.1325</td> <td>0.2802</td> <td>-2.7014</td> <td>0.4364</td>  <td>False</td>\n",
       "</tr>\n",
       "<tr>\n",
       "    <td>black</td>    <td>other</td>   <td>-0.3181</td> <td>0.9968</td> <td>-2.8026</td> <td>2.1665</td>  <td>False</td>\n",
       "</tr>\n",
       "<tr>\n",
       "    <td>black</td>    <td>white</td>   <td>-0.4028</td> <td>0.9274</td> <td>-1.7609</td> <td>0.9553</td>  <td>False</td>\n",
       "</tr>\n",
       "<tr>\n",
       "  <td>hispanic</td>   <td>other</td>   <td>0.8144</td>  <td>0.8868</td> <td>-1.5889</td> <td>3.2178</td>  <td>False</td>\n",
       "</tr>\n",
       "<tr>\n",
       "  <td>hispanic</td>   <td>white</td>   <td>0.7297</td>   <td>0.461</td> <td>-0.4734</td> <td>1.9328</td>  <td>False</td>\n",
       "</tr>\n",
       "<tr>\n",
       "    <td>other</td>    <td>white</td>   <td>-0.0847</td>   <td>1.0</td>  <td>-2.3561</td> <td>2.1866</td>  <td>False</td>\n",
       "</tr>\n",
       "</table>"
      ],
      "text/latex": [
       "\\begin{center}\n",
       "\\begin{tabular}{ccccccc}\n",
       "\\toprule\n",
       "\\textbf{group1} & \\textbf{group2} & \\textbf{meandiff} & \\textbf{p-adj} & \\textbf{lower} & \\textbf{upper} & \\textbf{reject}  \\\\\n",
       "\\midrule\n",
       "     asian      &      black      &       1.1527      &     0.7303     &    -1.3962     &     3.7015     &      False       \\\\\n",
       "     asian      &     hispanic    &       0.0202      &      1.0       &    -2.4495     &     2.4899     &      False       \\\\\n",
       "     asian      &      other      &       0.8346      &      0.95      &    -2.2977     &     3.9669     &      False       \\\\\n",
       "     asian      &      white      &       0.7499      &     0.906      &    -1.5916     &     3.0913     &      False       \\\\\n",
       "     black      &     hispanic    &      -1.1325      &     0.2802     &    -2.7014     &     0.4364     &      False       \\\\\n",
       "     black      &      other      &      -0.3181      &     0.9968     &    -2.8026     &     2.1665     &      False       \\\\\n",
       "     black      &      white      &      -0.4028      &     0.9274     &    -1.7609     &     0.9553     &      False       \\\\\n",
       "    hispanic    &      other      &       0.8144      &     0.8868     &    -1.5889     &     3.2178     &      False       \\\\\n",
       "    hispanic    &      white      &       0.7297      &     0.461      &    -0.4734     &     1.9328     &      False       \\\\\n",
       "     other      &      white      &      -0.0847      &      1.0       &    -2.3561     &     2.1866     &      False       \\\\\n",
       "\\bottomrule\n",
       "\\end{tabular}\n",
       "%\\caption{Multiple Comparison of Means - Tukey HSD, FWER=0.05}\n",
       "\\end{center}"
      ],
      "text/plain": [
       "<class 'statsmodels.iolib.table.SimpleTable'>"
      ]
     },
     "execution_count": 9,
     "metadata": {},
     "output_type": "execute_result"
    },
    {
     "data": {
      "image/png": "[encoded data removed]",
      "text/plain": [
       "<Figure size 1000x600 with 1 Axes>"
      ]
     },
     "metadata": {},
     "output_type": "display_data"
    }
   ],
   "source": [
    "import matplotlib.pyplot as plt\n",
    "\n",
    "from statsmodels.stats.multicomp import pairwise_tukeyhsd\n",
    "tukey = pairwise_tukeyhsd(endog=voter_age,\n",
    "                         groups=voter_race,\n",
    "                         alpha=0.05)\n",
    "tukey.plot_simultaneous()\n",
    "plt.vlines(x=49.57,ymin=0.5,ymax=4.5,color='red')\n",
    "tukey.summary()"
   ]
  }
 ],
 "metadata": {
  "kernelspec": {
   "display_name": "Python 3 (ipykernel)",
   "language": "python",
   "name": "python3"
  },
  "language_info": {
   "codemirror_mode": {
    "name": "ipython",
    "version": 3
   },
   "file_extension": ".py",
   "mimetype": "text/x-python",
   "name": "python",
   "nbconvert_exporter": "python",
   "pygments_lexer": "ipython3",
   "version": "3.10.6"
  }
 },
 "nbformat": 4,
 "nbformat_minor": 5
}
