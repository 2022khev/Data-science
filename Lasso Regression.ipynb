{
 "cells": [
  {
   "cell_type": "code",
   "execution_count": 1,
   "id": "d7fb2091",
   "metadata": {},
   "outputs": [],
   "source": [
    "import pandas as pd\n",
    "import numpy as np\n",
    "\n",
    "from sklearn.model_selection import cross_val_score,train_test_split,GridSearchCV"
   ]
  },
  {
   "cell_type": "code",
   "execution_count": 2,
   "id": "fbdac615",
   "metadata": {},
   "outputs": [
    {
     "name": "stdout",
     "output_type": "stream",
     "text": [
      "(6484, 11)\n"
     ]
    },
    {
     "data": {
      "text/html": [
       "<div>\n",
       "<style scoped>\n",
       "    .dataframe tbody tr th:only-of-type {\n",
       "        vertical-align: middle;\n",
       "    }\n",
       "\n",
       "    .dataframe tbody tr th {\n",
       "        vertical-align: top;\n",
       "    }\n",
       "\n",
       "    .dataframe thead th {\n",
       "        text-align: right;\n",
       "    }\n",
       "</style>\n",
       "<table border=\"1\" class=\"dataframe\">\n",
       "  <thead>\n",
       "    <tr style=\"text-align: right;\">\n",
       "      <th></th>\n",
       "      <th>bathrooms</th>\n",
       "      <th>floors</th>\n",
       "      <th>bedrooms</th>\n",
       "      <th>sqft_living</th>\n",
       "      <th>sqft_lot</th>\n",
       "      <th>waterfront</th>\n",
       "      <th>view</th>\n",
       "      <th>condition</th>\n",
       "      <th>grade</th>\n",
       "      <th>sqft_above</th>\n",
       "      <th>sqft_living15</th>\n",
       "    </tr>\n",
       "  </thead>\n",
       "  <tbody>\n",
       "    <tr>\n",
       "      <th>0</th>\n",
       "      <td>1.00</td>\n",
       "      <td>1.0</td>\n",
       "      <td>3</td>\n",
       "      <td>1180</td>\n",
       "      <td>5650</td>\n",
       "      <td>0</td>\n",
       "      <td>0</td>\n",
       "      <td>3</td>\n",
       "      <td>7</td>\n",
       "      <td>1180</td>\n",
       "      <td>1340</td>\n",
       "    </tr>\n",
       "    <tr>\n",
       "      <th>1</th>\n",
       "      <td>2.25</td>\n",
       "      <td>2.0</td>\n",
       "      <td>3</td>\n",
       "      <td>2570</td>\n",
       "      <td>7242</td>\n",
       "      <td>0</td>\n",
       "      <td>0</td>\n",
       "      <td>3</td>\n",
       "      <td>7</td>\n",
       "      <td>2170</td>\n",
       "      <td>1690</td>\n",
       "    </tr>\n",
       "    <tr>\n",
       "      <th>2</th>\n",
       "      <td>1.00</td>\n",
       "      <td>1.0</td>\n",
       "      <td>2</td>\n",
       "      <td>770</td>\n",
       "      <td>10000</td>\n",
       "      <td>0</td>\n",
       "      <td>0</td>\n",
       "      <td>3</td>\n",
       "      <td>6</td>\n",
       "      <td>770</td>\n",
       "      <td>2720</td>\n",
       "    </tr>\n",
       "    <tr>\n",
       "      <th>3</th>\n",
       "      <td>3.00</td>\n",
       "      <td>1.0</td>\n",
       "      <td>4</td>\n",
       "      <td>1960</td>\n",
       "      <td>5000</td>\n",
       "      <td>0</td>\n",
       "      <td>0</td>\n",
       "      <td>5</td>\n",
       "      <td>7</td>\n",
       "      <td>1050</td>\n",
       "      <td>1360</td>\n",
       "    </tr>\n",
       "    <tr>\n",
       "      <th>4</th>\n",
       "      <td>2.00</td>\n",
       "      <td>1.0</td>\n",
       "      <td>3</td>\n",
       "      <td>1680</td>\n",
       "      <td>8080</td>\n",
       "      <td>0</td>\n",
       "      <td>0</td>\n",
       "      <td>3</td>\n",
       "      <td>8</td>\n",
       "      <td>1680</td>\n",
       "      <td>1800</td>\n",
       "    </tr>\n",
       "    <tr>\n",
       "      <th>...</th>\n",
       "      <td>...</td>\n",
       "      <td>...</td>\n",
       "      <td>...</td>\n",
       "      <td>...</td>\n",
       "      <td>...</td>\n",
       "      <td>...</td>\n",
       "      <td>...</td>\n",
       "      <td>...</td>\n",
       "      <td>...</td>\n",
       "      <td>...</td>\n",
       "      <td>...</td>\n",
       "    </tr>\n",
       "    <tr>\n",
       "      <th>21608</th>\n",
       "      <td>2.50</td>\n",
       "      <td>3.0</td>\n",
       "      <td>3</td>\n",
       "      <td>1530</td>\n",
       "      <td>1131</td>\n",
       "      <td>0</td>\n",
       "      <td>0</td>\n",
       "      <td>3</td>\n",
       "      <td>8</td>\n",
       "      <td>1530</td>\n",
       "      <td>1530</td>\n",
       "    </tr>\n",
       "    <tr>\n",
       "      <th>21609</th>\n",
       "      <td>2.50</td>\n",
       "      <td>2.0</td>\n",
       "      <td>4</td>\n",
       "      <td>2310</td>\n",
       "      <td>5813</td>\n",
       "      <td>0</td>\n",
       "      <td>0</td>\n",
       "      <td>3</td>\n",
       "      <td>8</td>\n",
       "      <td>2310</td>\n",
       "      <td>1830</td>\n",
       "    </tr>\n",
       "    <tr>\n",
       "      <th>21610</th>\n",
       "      <td>0.75</td>\n",
       "      <td>2.0</td>\n",
       "      <td>2</td>\n",
       "      <td>1020</td>\n",
       "      <td>1350</td>\n",
       "      <td>0</td>\n",
       "      <td>0</td>\n",
       "      <td>3</td>\n",
       "      <td>7</td>\n",
       "      <td>1020</td>\n",
       "      <td>1020</td>\n",
       "    </tr>\n",
       "    <tr>\n",
       "      <th>21611</th>\n",
       "      <td>2.50</td>\n",
       "      <td>2.0</td>\n",
       "      <td>3</td>\n",
       "      <td>1600</td>\n",
       "      <td>2388</td>\n",
       "      <td>0</td>\n",
       "      <td>0</td>\n",
       "      <td>3</td>\n",
       "      <td>8</td>\n",
       "      <td>1600</td>\n",
       "      <td>1410</td>\n",
       "    </tr>\n",
       "    <tr>\n",
       "      <th>21612</th>\n",
       "      <td>0.75</td>\n",
       "      <td>2.0</td>\n",
       "      <td>2</td>\n",
       "      <td>1020</td>\n",
       "      <td>1076</td>\n",
       "      <td>0</td>\n",
       "      <td>0</td>\n",
       "      <td>3</td>\n",
       "      <td>7</td>\n",
       "      <td>1020</td>\n",
       "      <td>1020</td>\n",
       "    </tr>\n",
       "  </tbody>\n",
       "</table>\n",
       "<p>21613 rows × 11 columns</p>\n",
       "</div>"
      ],
      "text/plain": [
       "       bathrooms  floors  bedrooms  sqft_living  sqft_lot  waterfront  view  \\\n",
       "0           1.00     1.0         3         1180      5650           0     0   \n",
       "1           2.25     2.0         3         2570      7242           0     0   \n",
       "2           1.00     1.0         2          770     10000           0     0   \n",
       "3           3.00     1.0         4         1960      5000           0     0   \n",
       "4           2.00     1.0         3         1680      8080           0     0   \n",
       "...          ...     ...       ...          ...       ...         ...   ...   \n",
       "21608       2.50     3.0         3         1530      1131           0     0   \n",
       "21609       2.50     2.0         4         2310      5813           0     0   \n",
       "21610       0.75     2.0         2         1020      1350           0     0   \n",
       "21611       2.50     2.0         3         1600      2388           0     0   \n",
       "21612       0.75     2.0         2         1020      1076           0     0   \n",
       "\n",
       "       condition  grade  sqft_above  sqft_living15  \n",
       "0              3      7        1180           1340  \n",
       "1              3      7        2170           1690  \n",
       "2              3      6         770           2720  \n",
       "3              5      7        1050           1360  \n",
       "4              3      8        1680           1800  \n",
       "...          ...    ...         ...            ...  \n",
       "21608          3      8        1530           1530  \n",
       "21609          3      8        2310           1830  \n",
       "21610          3      7        1020           1020  \n",
       "21611          3      8        1600           1410  \n",
       "21612          3      7        1020           1020  \n",
       "\n",
       "[21613 rows x 11 columns]"
      ]
     },
     "execution_count": 2,
     "metadata": {},
     "output_type": "execute_result"
    }
   ],
   "source": [
    "dataset = pd.read_csv(r'C:\\Users\\kelvin\\Downloads\\kc_house_data.csv\\kc_house_data.csv')\n",
    "dataset = pd.read_csv(r'C:\\Users\\kelvin\\Downloads\\kc_house_data.csv\\kc_house_data.csv')\n",
    "y =dataset.iloc[:,2]\n",
    "\n",
    "float_x = dataset.select_dtypes(include=['float'])\n",
    "float_x = float_x.iloc[:,1:-2]\n",
    "\n",
    "int_x = dataset.select_dtypes(include=['int'])\n",
    "int_x1 = int_x.iloc[:,1:9]\n",
    "int_x2 = int_x.iloc[:,13:14]\n",
    "int_x1\n",
    "X = pd.concat( [float_x,int_x1, int_x2],axis=1 )\n",
    "\n",
    "\n",
    "X_train,X_test,y_train,y_test = train_test_split(X,y,test_size=0.3,random_state=42)\n",
    "print(X_test.shape)\n",
    "X_train.shape\n",
    "# X.describe()\n",
    "\n",
    "X_train = X_train.astype(float)\n",
    "\n",
    "X_train,X_test,y_train,y_test = train_test_split(X,y,test_size=0.3,random_state=42)\n",
    "X"
   ]
  },
  {
   "cell_type": "code",
   "execution_count": 3,
   "id": "6b1162e6",
   "metadata": {},
   "outputs": [],
   "source": [
    "from sklearn.linear_model import Lasso,LinearRegression\n",
    "\n",
    "lin = LinearRegression()\n",
    "lin.fit(X_train,y_train)\n",
    "y_pred = lin.predict(X_test)"
   ]
  },
  {
   "cell_type": "code",
   "execution_count": 4,
   "id": "2cd16339",
   "metadata": {},
   "outputs": [
    {
     "data": {
      "text/plain": [
       "56863882579.91166"
      ]
     },
     "execution_count": 4,
     "metadata": {},
     "output_type": "execute_result"
    }
   ],
   "source": [
    "from sklearn.metrics import mean_squared_error\n",
    "mean_squared_error(y_pred,y_test)"
   ]
  },
  {
   "cell_type": "code",
   "execution_count": 5,
   "id": "9dd0659e",
   "metadata": {},
   "outputs": [],
   "source": [
    "lasso = Lasso(alpha=0.1)\n",
    "lasso.fit(X_train,y_train)\n",
    "Y_pred = lasso.predict(X_test)"
   ]
  },
  {
   "cell_type": "code",
   "execution_count": 6,
   "id": "86199486",
   "metadata": {},
   "outputs": [
    {
     "data": {
      "text/plain": [
       "-13362.13343398358"
      ]
     },
     "execution_count": 6,
     "metadata": {},
     "output_type": "execute_result"
    }
   ],
   "source": [
    "lasso.coef_[0]"
   ]
  },
  {
   "cell_type": "code",
   "execution_count": 7,
   "id": "35777896",
   "metadata": {},
   "outputs": [
    {
     "data": {
      "text/plain": [
       "-669554.6297084341"
      ]
     },
     "execution_count": 7,
     "metadata": {},
     "output_type": "execute_result"
    }
   ],
   "source": [
    "lasso.intercept_"
   ]
  },
  {
   "cell_type": "code",
   "execution_count": 8,
   "id": "31c60c00",
   "metadata": {},
   "outputs": [
    {
     "data": {
      "text/plain": [
       "56863906356.41284"
      ]
     },
     "execution_count": 8,
     "metadata": {},
     "output_type": "execute_result"
    }
   ],
   "source": [
    "from sklearn.metrics import mean_squared_error\n",
    "mean_squared_error(Y_pred,y_test)"
   ]
  },
  {
   "cell_type": "code",
   "execution_count": 9,
   "id": "0b9135a2",
   "metadata": {},
   "outputs": [
    {
     "data": {
      "text/plain": [
       "{'bathrooms': -13362.13343398358,\n",
       " 'floors': -4208.2802082717635,\n",
       " 'bedrooms': -32816.732310133404,\n",
       " 'sqft_living': 217.716179674451,\n",
       " 'sqft_lot': -0.32877196112191426,\n",
       " 'waterfront': 554484.6489061832,\n",
       " 'view': 61065.266494385905,\n",
       " 'condition': 48224.796305406024,\n",
       " 'grade': 100747.13037840922,\n",
       " 'sqft_above': -30.625346066321644,\n",
       " 'sqft_living15': 3.4905864401322555}"
      ]
     },
     "execution_count": 9,
     "metadata": {},
     "output_type": "execute_result"
    }
   ],
   "source": [
    "coef_dict_baseline = {}\n",
    "feat_f = []\n",
    "coef_val = []\n",
    "for coef,feat in zip(lasso.coef_ ,X.columns):\n",
    "    coef_dict_baseline[feat] = coef\n",
    "    feat_f.append(feat)\n",
    "    coef_val.append(coef)\n",
    "coef_dict_baseline"
   ]
  },
  {
   "cell_type": "code",
   "execution_count": 10,
   "id": "6f247404",
   "metadata": {},
   "outputs": [
    {
     "data": {
      "image/png": "[encoded data removed]",
      "text/plain": [
       "<Figure size 1120x640 with 1 Axes>"
      ]
     },
     "metadata": {
      "needs_background": "light"
     },
     "output_type": "display_data"
    }
   ],
   "source": [
    "import matplotlib.pyplot as plt\n",
    "plt.figure(figsize=(14, 8), dpi=80)\n",
    "f = pd.DataFrame(feat_f,columns=['Features'])\n",
    "Coef = pd.DataFrame(coef_val,columns=['Coefficients'])\n",
    "featu= pd.concat([f,Coef],axis=1)\n",
    "plt.bar(featu.Features,featu.Coefficients);"
   ]
  },
  {
   "cell_type": "code",
   "execution_count": 11,
   "id": "38aec08c",
   "metadata": {},
   "outputs": [
    {
     "data": {
      "text/plain": [
       "bathrooms        -13362.133434\n",
       "floors            -4208.280208\n",
       "bedrooms         -32816.732310\n",
       "sqft_living         217.716180\n",
       "sqft_lot             -0.328772\n",
       "waterfront       554484.648906\n",
       "view              61065.266494\n",
       "condition         48224.796305\n",
       "grade            100747.130378\n",
       "sqft_above          -30.625346\n",
       "sqft_living15         3.490586\n",
       "dtype: float64"
      ]
     },
     "execution_count": 11,
     "metadata": {},
     "output_type": "execute_result"
    }
   ],
   "source": [
    "# import matplotlib.pyplot as plt\n",
    "# plt.figure(figsize=(14, 8), dpi=80)\n",
    "f = pd.DataFrame(feat_f,columns=['Features'])\n",
    "Coef = pd.DataFrame(coef_val,columns=['Coefficients'])\n",
    "d =pd.Series(coef_val,feat_f)\n",
    "d"
   ]
  },
  {
   "cell_type": "code",
   "execution_count": 13,
   "id": "a63cb635",
   "metadata": {},
   "outputs": [
    {
     "data": {
      "image/png": "[encoded data removed]",
      "text/plain": [
       "<Figure size 800x480 with 1 Axes>"
      ]
     },
     "metadata": {
      "needs_background": "light"
     },
     "output_type": "display_data"
    }
   ],
   "source": [
    "plt.figure(figsize=(10,6), dpi=80)\n",
    "import matplotlib.pyplot as plt\n",
    "d.sort_values().plot(kind=\"barh\",color='indigo')\n",
    "plt.title('visualisation for Coefficient Values');"
   ]
  }
 ],
 "metadata": {
  "kernelspec": {
   "display_name": "Python 3 (ipykernel)",
   "language": "python",
   "name": "python3"
  },
  "language_info": {
   "codemirror_mode": {
    "name": "ipython",
    "version": 3
   },
   "file_extension": ".py",
   "mimetype": "text/x-python",
   "name": "python",
   "nbconvert_exporter": "python",
   "pygments_lexer": "ipython3",
   "version": "3.9.12"
  }
 },
 "nbformat": 4,
 "nbformat_minor": 5
}
