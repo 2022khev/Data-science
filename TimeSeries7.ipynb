{
 "cells": [
  {
   "cell_type": "code",
   "execution_count": 1,
   "id": "312f67f9",
   "metadata": {},
   "outputs": [],
   "source": [
    "import numpy as np\n",
    "import pandas as pd\n",
    "import matplotlib.pyplot as plt\n",
    "import matplotlib.pyplot as plt\n",
    "%matplotlib inline\n",
    "from matplotlib.pylab import rcParams\n",
    "rcParams['figure.figsize']=10,6"
   ]
  },
  {
   "cell_type": "code",
   "execution_count": null,
   "id": "2f461514",
   "metadata": {},
   "outputs": [],
   "source": [
    "import statsmodels.api as sm\n",
    "# i) stationarity\n",
    "from statsmodels.tsa.stattools import adfuller\n",
    "# ii) seasonal,trend,residuals\n",
    "from statsmodels.tsa.seasonal import seasonal_decompose\n",
    "#iii)acf & pacf\n",
    "from statsmodels.tsa.stattools import acf,pacf\n",
    "# Alternative ACF & PACF plots\n",
    "from statsmodels.graphics.tsaplots import plot_acf,plot_pacf\n",
    "#iv ARIMA model\n",
    "from statsmodels.tsa.arima_model import ARIMA\n",
    "from statsmodels.tsa.arima.model import ARIMA\n",
    "#vi)SARIMA\n",
    "from statsmodels.tsa.statespace.sarimax import SARIMAX\n",
    "#Model tuning\n",
    "import pmdarima as pm\n",
    "#test & train set\n",
    "from pmdarima.model_selection import train_test_split\n",
    "\n",
    "#warnings\n",
    "import warnings\n",
    "warnings.simplefilter('ignore')"
   ]
  },
  {
   "cell_type": "code",
   "execution_count": null,
   "id": "32eda12f",
   "metadata": {},
   "outputs": [],
   "source": [
    "import statsmodels as sm\n",
    "from statsmodels.tsa.stattools import adfuller\n",
    "from statsmodels.tsa.stattools import acf,pacf\n",
    "from statsmodels.graphics.tsaplots import plot_acf,plot_pacf\n",
    "from statsmodels.tsa.arima.model import ARIMA\n",
    "from statsmodels.tsa.arima_model import ARIMA\n",
    "from statsmodels.tsa.statespace.tools import diff \n",
    "\n",
    "import pmdarima as pm\n",
    "from pmdarima.datasets import load_wineind\n",
    "from pmdarima.arima import AutoARIMA\n",
    "from pmdarima import auto_arima\n",
    "from pmdarima.pipeline import Pipeline\n",
    "from pmdarima.preprocessing import FourierFeaturizer\n",
    "from pmdarima.model_selection import train_test_split\n",
    "from statsmodels.stats.diagnostic import acorr_ljungbox\n",
    "from pandas.plotting import autocorrelation_plot\n",
    "\n",
    "import warnings\n",
    "warnings.simplefilter('ignore')"
   ]
  },
  {
   "cell_type": "code",
   "execution_count": null,
   "id": "5d8f2752",
   "metadata": {},
   "outputs": [],
   "source": [
    "def ETL(path):\n",
    "    df = pd.read_csv(path)\n",
    "    df.set_index(df.iloc[:,0],inplace=True)\n",
    "    df.dropna(inplace=True)\n",
    "    df.parse_dates=True\n",
    "    df.columns\n",
    "    df =pd.DataFrame(df['Close'],columns =['Close'])\n",
    "    df.plot(figsize=(10,6),title='Close Trend')\n",
    "    \n",
    "    print(type(df))\n",
    "    print('Shape',df.shape)\n",
    "    df.head()\n",
    "    return df"
   ]
  },
  {
   "cell_type": "code",
   "execution_count": null,
   "id": "9204ca41",
   "metadata": {},
   "outputs": [],
   "source": [
    "df = ETL(r'C:\\Users\\kelvin\\Downloads\\archive (31)\\HCLTECH.csv')\n",
    "df.head()"
   ]
  },
  {
   "cell_type": "code",
   "execution_count": null,
   "id": "07dc42b5",
   "metadata": {},
   "outputs": [],
   "source": [
    "df.loc['2015-1-1':].plot(figsize=(10,6))"
   ]
  },
  {
   "cell_type": "code",
   "execution_count": null,
   "id": "13bb4fb3",
   "metadata": {},
   "outputs": [],
   "source": [
    "rollmean = df.rolling(window=12).mean()\n",
    "rollstd = df.rolling(window=12).std()\n",
    "\n",
    "plt.figure(figsize=(16,5))\n",
    "fig = plt.figure(1)\n",
    "\n",
    "orig = plt.plot(df,color='blue',label='original')\n",
    "mean = plt.plot(rollmean,color='red',label='mean')\n",
    "rollstd = plt.plot(rollstd,color='black',label='std')\n",
    "\n",
    "plt.legend(loc='best')\n",
    "plt.title('Rolling Mean & Standard Deviations')\n",
    "plt.grid()\n",
    "plt.show(block = False)"
   ]
  },
  {
   "cell_type": "code",
   "execution_count": null,
   "id": "7e3b86c5",
   "metadata": {},
   "outputs": [],
   "source": [
    "x=df['Close'].values\n",
    "result = adfuller(x)\n",
    "print('ADF Statistic: %f'%result[0])\n",
    "print('p-value: %f'%result[2])\n",
    "print('Critical values:')\n",
    "for key,value in result[4].items():\n",
    "    print('\\t%s:%.3f'%(key,value))\n",
    "if result[0]<result[4]['5%']:\n",
    "    print('Reject Ho-Time series is stationary')\n",
    "else:\n",
    "    print('Failed to reject-Time series is non-stationary')"
   ]
  },
  {
   "cell_type": "code",
   "execution_count": null,
   "id": "24dd9154",
   "metadata": {},
   "outputs": [],
   "source": [
    "def autocorr_test(series,lags,alpha):\n",
    "    k=acorr_ljungbox(series,lags=[1],return_df=True)\n",
    "\n",
    "    if k['lb_pvalue'].values >= alpha:\n",
    "        print('Fail to Reject the  H0 at',alpha,'Significance level and conclude','The Time Series DOES NOT contain  Autocorrelation')\n",
    "        print('The p-value of',k['lb_pvalue'].values,'is greater or equal to',alpha)\n",
    "        print('The statistic value is',k['lb_stat'].values,'in',alpha,'number of lags')\n",
    "    else:\n",
    "        print('Reject the H0 at',alpha,'Significance level and conclude','The Time Series contain Autocorrelation')\n",
    "        print('The p-value of',k['lb_pvalue'].values,'is less than',alpha)\n",
    "        print('The statistic value is',k['lb_stat'].values,'in',lags,'number of the lags')\n",
    "\n",
    "autocorr_test(df,12,0.05)"
   ]
  },
  {
   "cell_type": "code",
   "execution_count": null,
   "id": "69cbbdfe",
   "metadata": {},
   "outputs": [],
   "source": [
    "autocorrelation_plot(df)\n",
    "plt.show()"
   ]
  },
  {
   "cell_type": "code",
   "execution_count": null,
   "id": "33a1bcf0",
   "metadata": {},
   "outputs": [],
   "source": [
    "#Differencing\n",
    "\n",
    "df_log = df['Close'].apply(np.log)\n",
    "# df_log = np.log(df['Close'])\n",
    "\n",
    "df_log=diff(df, k_diff=0, k_seasonal_diff=True, seasonal_periods=12)\n",
    "df_log"
   ]
  },
  {
   "cell_type": "code",
   "execution_count": null,
   "id": "cef3e2d3",
   "metadata": {},
   "outputs": [],
   "source": [
    "plt.figure(figsize=(16,7))\n",
    "fig = plt.figure(1)\n",
    "df_diff = df_log  - df_log.shift(1)\n",
    "plt.plot(df_diff)\n",
    "\n",
    "rollmean = df_diff.rolling(12).mean()\n",
    "rollstd = df_diff.rolling(12).std()\n",
    "\n",
    "\n",
    "\n",
    "orig = plt.plot(df_diff,color='blue',label='original')\n",
    "mean = plt.plot(rollmean,color='red',label='Rolling Mean')                \n",
    "std = plt.plot(rollstd,color='black',label='rolling std')\n",
    "               \n",
    "plt.legend(loc='best')\n",
    "plt.title(\"Rolling Mean & Standard Deviations\") \n",
    "plt.plot(block=False)               "
   ]
  },
  {
   "cell_type": "code",
   "execution_count": null,
   "id": "4f66bb78",
   "metadata": {},
   "outputs": [],
   "source": [
    "y=df_log.values\n",
    "result = adfuller(y)\n",
    "print('ADF Statistic: %f'%result[0])\n",
    "print('p-value: %f'%result[2])\n",
    "print('Critical values:')\n",
    "for key,value in result[4].items():\n",
    "    print('\\t%s:%.3f'%(key,value))\n",
    "if result[0]<result[4]['5%']:\n",
    "    print('Reject Ho-Time series is stationary')\n",
    "else:\n",
    "    print('Failed to reject-Time series is non-stationary')"
   ]
  },
  {
   "cell_type": "code",
   "execution_count": null,
   "id": "9e2d5c0e",
   "metadata": {},
   "outputs": [],
   "source": [
    "from statsmodels.tsa.seasonal import seasonal_decompose\n",
    "#missing\n",
    "decomposition = seasonal_decompose(df, model='additive',period=30)\n",
    "\n",
    "\n",
    "trend = decomposition.trend\n",
    "seasonal = decomposition.seasonal\n",
    "residual = decomposition.resid\n",
    "\n",
    "plt.subplot(411)\n",
    "plt.plot(df_log,label = 'Original')\n",
    "plt.legend(loc='best')\n",
    "plt.subplot(412)\n",
    "plt.plot(trend,label='Trend')\n",
    "plt.legend(loc='best')\n",
    "plt.subplot(413)\n",
    "plt.plot(seasonal,label='seasonality')\n",
    "plt.legend(loc='best')\n",
    "plt.subplot(413)\n",
    "plt.plot(seasonal,label='Residuals')\n",
    "plt.legend(loc='best')\n",
    "plt.tight_layout()\n",
    "\n",
    "decomposedLogData=residual\n",
    "decomposedLogData.dropna(inplace=True)"
   ]
  },
  {
   "cell_type": "code",
   "execution_count": null,
   "id": "6dfc9e1f",
   "metadata": {},
   "outputs": [],
   "source": [
    "residuals =pd.DataFrame(residual)\n",
    "residuals.plot()\n",
    "plt.show()\n",
    "residuals.plot(kind='kde')\n",
    "plt.show()\n",
    "residuals.describe()"
   ]
  },
  {
   "cell_type": "code",
   "execution_count": null,
   "id": "247f9347",
   "metadata": {},
   "outputs": [],
   "source": [
    "from statsmodels.tsa.stattools import acf,pacf\n",
    "lag_acf = acf(df,nlags=20)\n",
    "lag_pacf = pacf(df,nlags=20)\n",
    "print(lag_acf)\n",
    "print(lag_pacf )"
   ]
  },
  {
   "cell_type": "code",
   "execution_count": null,
   "id": "5f3ef8e0",
   "metadata": {},
   "outputs": [],
   "source": [
    "import statsmodels.api as sm\n",
    "fig = plt.figure(figsize=(12,8))\n",
    "ax1 = fig.add_subplot(211)\n",
    "fig = sm.graphics.tsa.plot_acf(df_log.dropna(),lags=30,ax=ax1)\n",
    "ax2 = fig.add_subplot(212)\n",
    "fig = sm.graphics.tsa.plot_pacf(df_log.dropna(),lags=30,ax=ax2)"
   ]
  },
  {
   "cell_type": "code",
   "execution_count": null,
   "id": "9ac0310e",
   "metadata": {},
   "outputs": [],
   "source": [
    "sm.graphics.tsa.plot_acf(df['Close'].values.squeeze(),lags=30)\n",
    "sm.graphics.tsa.plot_pacf(df['Close'].values.squeeze(),lags=30)\n",
    "plt.show()"
   ]
  },
  {
   "cell_type": "code",
   "execution_count": null,
   "id": "1569f2ee",
   "metadata": {},
   "outputs": [],
   "source": [
    "stepwise_fit = auto_arima(df['Close'],trace=True,suppress_warnings = True)\n",
    "stepwise_fit.summary()"
   ]
  },
  {
   "cell_type": "code",
   "execution_count": null,
   "id": "42b431c0",
   "metadata": {},
   "outputs": [],
   "source": [
    "#Alternatively\n",
    "import pmdarima as pm\n",
    "def arimamodel(timeseries):\n",
    "    automodel = pm.auto_arima(timeseries,\n",
    "                             start_p =2,\n",
    "                             start_q =2,\n",
    "                             max_q=10,\n",
    "                             max_p=10,\n",
    "                             test ='adf',\n",
    "                             seasonal=True,\n",
    "                             trace =True\n",
    "                             )\n",
    "    return automodel"
   ]
  },
  {
   "cell_type": "code",
   "execution_count": null,
   "id": "651b15d7",
   "metadata": {},
   "outputs": [],
   "source": [
    "arimamodel(df_log)"
   ]
  },
  {
   "cell_type": "code",
   "execution_count": null,
   "id": "c591a03e",
   "metadata": {},
   "outputs": [],
   "source": [
    "from statsmodels.tsa.arima_model import ARIMA"
   ]
  },
  {
   "cell_type": "code",
   "execution_count": null,
   "id": "f10dc49f",
   "metadata": {},
   "outputs": [],
   "source": [
    "from statsmodels.tsa.arima.model import ARIMA\n",
    "model= ARIMA(df,order=(2,0,1))\n",
    "results_ARIMA = model.fit()\n",
    "\n",
    "results_ARIMA.summary()"
   ]
  },
  {
   "cell_type": "code",
   "execution_count": null,
   "id": "02f9661e",
   "metadata": {},
   "outputs": [],
   "source": [
    "plt.plot(df_log,color='b')\n",
    "plt.plot(results_ARIMA.fittedvalues,color='r')\n",
    "# plt.title('RSS:%.4f'%sum(results_ARIMA.fittedvalues - df_diff)**2)\n",
    "print('Plotting AR Model')\n"
   ]
  },
  {
   "cell_type": "code",
   "execution_count": null,
   "id": "af0018fa",
   "metadata": {},
   "outputs": [],
   "source": [
    "y= df['Close'].values\n",
    "train, test = train_test_split(y, train_size=150)\n",
    "\n",
    "# Fit your model\n",
    "model = pm.auto_arima(train, seasonal=True, m=12)\n",
    "\n",
    "# make your forecasts\n",
    "forecasts = model.predict(test.shape[0])  # predict N steps into the future\n",
    "\n",
    "# Visualize the forecasts (blue=train, green=forecasts)\n",
    "plt.figure(figsize=(16,8))\n",
    "\n",
    "x = np.arange(y.shape[0])\n",
    "plt.plot(x[:150], train, c='blue')\n",
    "plt.plot(x[150:], forecasts, c='green')\n",
    "\n",
    "plt.show()\n",
    "print(forecasts)"
   ]
  },
  {
   "cell_type": "code",
   "execution_count": null,
   "id": "1cdc1a4f",
   "metadata": {},
   "outputs": [],
   "source": [
    "plt.figure(figsize=(18,6))\n",
    "plt.plot(y,  c='green')\n",
    "plt.plot(x[:150], train, c='red')\n",
    "plt.plot(x[150:], forecasts, c='blue')"
   ]
  },
  {
   "cell_type": "code",
   "execution_count": null,
   "id": "241471a7",
   "metadata": {},
   "outputs": [],
   "source": [
    "plt.figure(figsize=(18,6))\n",
    "\n",
    "plt.plot(y,  c='blue')\n",
    "plt.plot(x[150:], forecasts, c='red')"
   ]
  },
  {
   "cell_type": "code",
   "execution_count": null,
   "id": "fd705967",
   "metadata": {},
   "outputs": [],
   "source": [
    "a =pd.DataFrame(forecasts,columns=['Forecast'])\n",
    "b=pd.DataFrame(y[150:],columns=['Actual'])\n",
    "ab =pd.concat([a,b],axis=1)\n",
    "ab['Forecast'].plot(figsize=(16,8),color='red',label='Forecast')\n",
    "ab['Actual'].plot(figsize=(16,8),color='blue',label='Actual')\n",
    "plt.legend(loc='best')"
   ]
  },
  {
   "cell_type": "code",
   "execution_count": null,
   "id": "78b19046",
   "metadata": {},
   "outputs": [],
   "source": [
    "df_log.plot()\n",
    "plt.plot(np.zeros(len(df)))"
   ]
  },
  {
   "cell_type": "code",
   "execution_count": null,
   "id": "7ac5ef9d",
   "metadata": {},
   "outputs": [],
   "source": [
    "# X = df_log\n",
    "# size = int(len(X)* 0.66)\n",
    "# train,test = X[0:size],X[size:len(X)]\n",
    "# predictions = list()\n",
    "# history = [x for x in train]\n",
    "\n",
    "# for t in range(len(test)):\n",
    "#                model = ARIMA(history,order=(5,1,0)).fit()"
   ]
  },
  {
   "cell_type": "code",
   "execution_count": null,
   "id": "ce015a97",
   "metadata": {},
   "outputs": [],
   "source": [
    "size"
   ]
  },
  {
   "cell_type": "code",
   "execution_count": null,
   "id": "3697d1c8",
   "metadata": {},
   "outputs": [],
   "source": [
    " df_log.dropna(inplace=True)"
   ]
  },
  {
   "cell_type": "code",
   "execution_count": null,
   "id": "cc9571c3",
   "metadata": {},
   "outputs": [],
   "source": [
    "df_log"
   ]
  },
  {
   "cell_type": "code",
   "execution_count": null,
   "id": "13016af8",
   "metadata": {},
   "outputs": [],
   "source": []
  }
 ],
 "metadata": {
  "kernelspec": {
   "display_name": "Python 3 (ipykernel)",
   "language": "python",
   "name": "python3"
  },
  "language_info": {
   "codemirror_mode": {
    "name": "ipython",
    "version": 3
   },
   "file_extension": ".py",
   "mimetype": "text/x-python",
   "name": "python",
   "nbconvert_exporter": "python",
   "pygments_lexer": "ipython3",
   "version": "3.9.12"
  }
 },
 "nbformat": 4,
 "nbformat_minor": 5
}
