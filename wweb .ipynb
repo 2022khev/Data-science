{
 "cells": [
  {
   "cell_type": "code",
   "execution_count": 1,
   "id": "79ca2131",
   "metadata": {},
   "outputs": [
    {
     "name": "stdout",
     "output_type": "stream",
     "text": [
      "42419\n"
     ]
    }
   ],
   "source": [
    "import requests\n",
    "r= requests.get('https://www.usclimatedata.com/climate/united-states/us')\n",
    "print(len(r.text))"
   ]
  },
  {
   "cell_type": "code",
   "execution_count": 2,
   "id": "3553f22f",
   "metadata": {},
   "outputs": [
    {
     "name": "stdout",
     "output_type": "stream",
     "text": [
      "<title>Climate United States - Normals and averages</title>\n",
      "Climate United States - Normals and averages\n"
     ]
    }
   ],
   "source": [
    "from bs4 import BeautifulSoup\n",
    "soup = BeautifulSoup(r.text)\n",
    "print(soup.title)\n",
    "print(soup.title.string)"
   ]
  },
  {
   "cell_type": "code",
   "execution_count": 3,
   "id": "b21e7da9",
   "metadata": {},
   "outputs": [
    {
     "name": "stdout",
     "output_type": "stream",
     "text": [
      "<p class=\"selection_title\">Select a state by name</p>\n",
      "\n",
      "\n",
      "\n",
      " Climate United States - Normals and averages\n",
      "\n",
      "\n",
      "\n",
      "\n",
      "U.S. Climate DataToggle Dropdown ºF  ºC Home United States ºF  ºC You are here: United StatesHome United States ºF  ºC \n",
      "\n",
      "\n",
      "\n",
      "United States MapSelect a state by name United States TableSelect a state by nameAlabamaAlaskaArizonaArkansasCaliforniaColoradoConnecticutDelawareDistrict of ColumbiaD.C.FloridaGeorgiaHawaiiIdahoIllinoisIndianaIowaKansasKentuckyLouisianaMaineMarylandMassachusettsMichiganMinnesotaMississippiMissouriMontanaNebraskaNevadaNew HampshireNew JerseyNew MexicoNew YorkNorth CarolinaNorth DakotaOhioOklahomaOregonPennsylvaniaPuerto RicoRhode IslandSouth CarolinaSouth DakotaTennesseeTexasUtahVermontVirginiaWashingtonWest VirginiaWisconsinWyomingClimate Washington - District of Columbia JanJaFebFeMarMaAprApMayMaJunJuAverage high in ºF Av. high Hi 424453647583Average low in ºF Av. low Lo 272835445463Days with precipitation Days precip. DP 1181210129Hours of sunshine Hours sun. Sun 7697135182221214Av. precipitation in inch Av. precip. Pre. 3.032.483.233.154.133.23 JulJuAugAuSepSeOctOcNovNoDecDeAverage high in ºF Av. high Hi 878478675545Average low in ºF Av. low Lo 686659483829Days with precipitation Days precip. DP 10108889Hours of sunshine Hours sun. Sun 2261861701238766Av. precipitation in inch Av. precip. Pre. 4.134.883.823.072.832.80Washington Climate Graph - District of Columbia Climate ChartMore Climate Data Washington \n",
      "\n",
      "\n",
      "\n",
      "\n",
      "ShareStation DataMonthly averages WashingtonLongitude: -77.0377, Latitude: 38.8521Average weather Washington, DC - 22202Monthly: 1981-2010 normalsAbbreviationsAverage precipitation in : Av. precipitation in Jan: January, Feb: February,  ...Jan: January, Feb: February,  ...Ja: January, Fe: February,  ... \n",
      "\n",
      "\n",
      "© US Climate Data  2023 | version 3.0 | by US Climate Data | About us - Disclaimer - Cookies\n",
      "\n",
      "\n",
      "\n",
      "\n",
      "\n",
      "\n",
      "<a class=\"navbar-brand\" href=\"/\" title=\"Temperature - Precipitation - Sunshine - Snowfall\"><img alt=\"Temperature - Precipitation - Sunshine - Snowfall\" data-src=\"https://www.usclimatedata.com/assets/images/us-climate-data.png\" height=\"34\" src=\"https://www.usclimatedata.com/assets/images/us-climate-data.png\" srcset=\"https://www.usclimatedata.com/assets/images/us-climate-data.png 1x, https://www.usclimatedata.com/assets/images/us-climate-data-2.png 2x\" width=\"31\"/><span class=\"white ml-2\">U.S. Climate Data</span></a>\n",
      "Temperature - Precipitation - Sunshine - Snowfall\n"
     ]
    }
   ],
   "source": [
    "print(soup.p)\n",
    "print(soup.text)\n",
    "print(soup.a)\n",
    "print(soup.a['title'])"
   ]
  },
  {
   "cell_type": "code",
   "execution_count": 4,
   "id": "1155ea1f",
   "metadata": {},
   "outputs": [
    {
     "name": "stdout",
     "output_type": "stream",
     "text": [
      "['/climate/alabama/united-states/3170', '/climate/alaska/united-states/3171', '/climate/arizona/united-states/3172', '/climate/arkansas/united-states/3173', '/climate/california/united-states/3174', '/climate/colorado/united-states/3175', '/climate/connecticut/united-states/3176', '/climate/delaware/united-states/3177', '/climate/district-of-columbia/united-states/3178', '/climate/florida/united-states/3179', '/climate/georgia/united-states/3180', '/climate/hawaii/united-states/3181', '/climate/idaho/united-states/3182', '/climate/illinois/united-states/3183', '/climate/indiana/united-states/3184', '/climate/iowa/united-states/3185', '/climate/kansas/united-states/3186', '/climate/kentucky/united-states/3187', '/climate/louisiana/united-states/3188', '/climate/maine/united-states/3189', '/climate/maryland/united-states/1872', '/climate/massachusetts/united-states/3191', '/climate/michigan/united-states/3192', '/climate/minnesota/united-states/3193', '/climate/mississippi/united-states/3194', '/climate/missouri/united-states/3195', '/climate/montana/united-states/919', '/climate/nebraska/united-states/3197', '/climate/nevada/united-states/3198', '/climate/new-hampshire/united-states/3199', '/climate/new-jersey/united-states/3200', '/climate/new-mexico/united-states/3201', '/climate/new-york/united-states/3202', '/climate/north-carolina/united-states/3203', '/climate/north-dakota/united-states/3204', '/climate/ohio/united-states/3205', '/climate/oklahoma/united-states/3206', '/climate/oregon/united-states/3207', '/climate/pennsylvania/united-states/3208', '/climate/puerto-rico/united-states/7335', '/climate/rhode-island/united-states/3209', '/climate/south-carolina/united-states/3210', '/climate/south-dakota/united-states/3211', '/climate/tennessee/united-states/3212', '/climate/texas/united-states/3213', '/climate/utah/united-states/3214', '/climate/vermont/united-states/3215', '/climate/virginia/united-states/3216', '/climate/washington/united-states/3217', '/climate/west-virginia/united-states/3218', '/climate/wisconsin/united-states/3219', '/climate/wyoming/united-states/3220', '/climate/washington/district-of-columbia/united-states/usdc0001']\n"
     ]
    }
   ],
   "source": [
    "base_url = 'https://www.usclimatedata.com'\n",
    "state_links = []\n",
    "for link in soup.find_all('a'):\n",
    "    url = link.get('href')\n",
    "    if url and '/climate' in url and '/climate/united-states/us' not in url:\n",
    "        state_links.append(url)\n",
    "print(state_links)"
   ]
  },
  {
   "cell_type": "code",
   "execution_count": 5,
   "id": "fbf08edd",
   "metadata": {},
   "outputs": [
    {
     "name": "stdout",
     "output_type": "stream",
     "text": [
      "Climate Colorado - Temperature, Rainfall and Averages\n"
     ]
    }
   ],
   "source": [
    "r= requests.get(base_url + state_links[5])\n",
    "soup=BeautifulSoup(r.text)\n",
    "print(soup.title.string)"
   ]
  },
  {
   "cell_type": "code",
   "execution_count": 6,
   "id": "a4c10602",
   "metadata": {},
   "outputs": [
    {
     "name": "stdout",
     "output_type": "stream",
     "text": [
      "12\n"
     ]
    }
   ],
   "source": [
    "rows = soup.find_all('tr')\n",
    "print(len(rows))"
   ]
  },
  {
   "cell_type": "code",
   "execution_count": 7,
   "id": "5fa9e099",
   "metadata": {},
   "outputs": [
    {
     "name": "stdout",
     "output_type": "stream",
     "text": [
      "2\n"
     ]
    }
   ],
   "source": [
    "rows = [row for row in rows if 'Average high' in str(row)]\n",
    "print(len(rows))"
   ]
  },
  {
   "cell_type": "code",
   "execution_count": 8,
   "id": "dd6fe0ef",
   "metadata": {},
   "outputs": [
    {
     "name": "stdout",
     "output_type": "stream",
     "text": [
      "2\n"
     ]
    },
    {
     "ename": "IndexError",
     "evalue": "list index out of range",
     "output_type": "error",
     "traceback": [
      "\u001b[1;31m---------------------------------------------------------------------------\u001b[0m",
      "\u001b[1;31mIndexError\u001b[0m                                Traceback (most recent call last)",
      "Input \u001b[1;32mIn [8]\u001b[0m, in \u001b[0;36m<cell line: 5>\u001b[1;34m()\u001b[0m\n\u001b[0;32m      6\u001b[0m     tds \u001b[38;5;241m=\u001b[39m row\u001b[38;5;241m.\u001b[39mfind_all(\u001b[38;5;124m'\u001b[39m\u001b[38;5;124mtd\u001b[39m\u001b[38;5;124m'\u001b[39m)\n\u001b[0;32m      7\u001b[0m     \u001b[38;5;28;01mfor\u001b[39;00m i \u001b[38;5;129;01min\u001b[39;00m \u001b[38;5;28mrange\u001b[39m(\u001b[38;5;241m1\u001b[39m,\u001b[38;5;241m7\u001b[39m):\n\u001b[1;32m----> 8\u001b[0m         high_temps\u001b[38;5;241m.\u001b[39mappend(\u001b[43mtds\u001b[49m\u001b[43m[\u001b[49m\u001b[43mi\u001b[49m\u001b[43m]\u001b[49m\u001b[38;5;241m.\u001b[39mtext)\n\u001b[0;32m      9\u001b[0m \u001b[38;5;28mprint\u001b[39m(high_temps)\n",
      "\u001b[1;31mIndexError\u001b[0m: list index out of range"
     ]
    }
   ],
   "source": [
    "rows = [row for row in rows if 'Average high' in str(row)]\n",
    "print(len(rows))\n",
    "\n",
    "high_temps = []\n",
    "for row in rows:\n",
    "    tds = row.find_all('td')\n",
    "    for i in range(1,7):\n",
    "        high_temps.append(tds[i].text)\n",
    "print(high_temps)"
   ]
  },
  {
   "cell_type": "code",
   "execution_count": null,
   "id": "f81891b2",
   "metadata": {},
   "outputs": [],
   "source": [
    "# state = soup.title.string()\n",
    "# print(state)\n",
    "# s = soup.title.string\n",
    "# state = s[s.find(''):s.find('-')].strip()\n",
    "# print(state)"
   ]
  },
  {
   "cell_type": "code",
   "execution_count": null,
   "id": "3146b673",
   "metadata": {},
   "outputs": [],
   "source": [
    "# data = {}\n",
    "# for state_link in state_link:\n",
    "#     url = base_url + state_url\n",
    "#     r = request.get(base_url + state_link)\n",
    "#     soup = BeutifulSoup(r.text)\n",
    "#     rows = sound.find_all('tr')\n",
    "#     rows = [row for row in rows if \"Average high\" in str(rows)]"
   ]
  },
  {
   "cell_type": "code",
   "execution_count": null,
   "id": "c2a5d94b",
   "metadata": {},
   "outputs": [],
   "source": [
    "# high_temps =[]\n",
    "# for row in rows:\n",
    "#     tds = row.find_all(\"td\")\n",
    "#     for i in range(1,7):\n",
    "#         high_temps.append(tds[i.text])\n",
    "#         s.title.string()\n",
    "#         state = s[s.find('-')].strip()\n",
    "#         data[state] = high_temps\n",
    "# print(data)                             "
   ]
  },
  {
   "cell_type": "code",
   "execution_count": null,
   "id": "aa860a2f",
   "metadata": {},
   "outputs": [],
   "source": [
    "# import csv\n",
    "# with open ('high_temps.csv','w') as f:\n",
    "#     w =csv.writer(f)\n",
    "#     w.writerows(data.items())"
   ]
  }
 ],
 "metadata": {
  "kernelspec": {
   "display_name": "Python 3 (ipykernel)",
   "language": "python",
   "name": "python3"
  },
  "language_info": {
   "codemirror_mode": {
    "name": "ipython",
    "version": 3
   },
   "file_extension": ".py",
   "mimetype": "text/x-python",
   "name": "python",
   "nbconvert_exporter": "python",
   "pygments_lexer": "ipython3",
   "version": "3.9.12"
  }
 },
 "nbformat": 4,
 "nbformat_minor": 5
}
