{
 "cells": [
  {
   "cell_type": "code",
   "execution_count": 5,
   "id": "5d53f7d3",
   "metadata": {},
   "outputs": [
    {
     "data": {
      "text/html": [
       "<div>\n",
       "<style scoped>\n",
       "    .dataframe tbody tr th:only-of-type {\n",
       "        vertical-align: middle;\n",
       "    }\n",
       "\n",
       "    .dataframe tbody tr th {\n",
       "        vertical-align: top;\n",
       "    }\n",
       "\n",
       "    .dataframe thead th {\n",
       "        text-align: right;\n",
       "    }\n",
       "</style>\n",
       "<table border=\"1\" class=\"dataframe\">\n",
       "  <thead>\n",
       "    <tr style=\"text-align: right;\">\n",
       "      <th></th>\n",
       "      <th>datesold</th>\n",
       "      <th>postcode</th>\n",
       "      <th>price</th>\n",
       "      <th>propertyType</th>\n",
       "      <th>bedrooms</th>\n",
       "    </tr>\n",
       "  </thead>\n",
       "  <tbody>\n",
       "    <tr>\n",
       "      <th>0</th>\n",
       "      <td>2007-02-07</td>\n",
       "      <td>2607</td>\n",
       "      <td>525000</td>\n",
       "      <td>house</td>\n",
       "      <td>4</td>\n",
       "    </tr>\n",
       "    <tr>\n",
       "      <th>1</th>\n",
       "      <td>2007-02-27</td>\n",
       "      <td>2906</td>\n",
       "      <td>290000</td>\n",
       "      <td>house</td>\n",
       "      <td>3</td>\n",
       "    </tr>\n",
       "    <tr>\n",
       "      <th>2</th>\n",
       "      <td>2007-03-07</td>\n",
       "      <td>2905</td>\n",
       "      <td>328000</td>\n",
       "      <td>house</td>\n",
       "      <td>3</td>\n",
       "    </tr>\n",
       "    <tr>\n",
       "      <th>3</th>\n",
       "      <td>2007-03-09</td>\n",
       "      <td>2905</td>\n",
       "      <td>380000</td>\n",
       "      <td>house</td>\n",
       "      <td>4</td>\n",
       "    </tr>\n",
       "    <tr>\n",
       "      <th>4</th>\n",
       "      <td>2007-03-21</td>\n",
       "      <td>2906</td>\n",
       "      <td>310000</td>\n",
       "      <td>house</td>\n",
       "      <td>3</td>\n",
       "    </tr>\n",
       "    <tr>\n",
       "      <th>...</th>\n",
       "      <td>...</td>\n",
       "      <td>...</td>\n",
       "      <td>...</td>\n",
       "      <td>...</td>\n",
       "      <td>...</td>\n",
       "    </tr>\n",
       "    <tr>\n",
       "      <th>29575</th>\n",
       "      <td>2019-07-25</td>\n",
       "      <td>2900</td>\n",
       "      <td>500000</td>\n",
       "      <td>unit</td>\n",
       "      <td>3</td>\n",
       "    </tr>\n",
       "    <tr>\n",
       "      <th>29576</th>\n",
       "      <td>2019-07-25</td>\n",
       "      <td>2612</td>\n",
       "      <td>560000</td>\n",
       "      <td>unit</td>\n",
       "      <td>2</td>\n",
       "    </tr>\n",
       "    <tr>\n",
       "      <th>29577</th>\n",
       "      <td>2019-07-26</td>\n",
       "      <td>2912</td>\n",
       "      <td>464950</td>\n",
       "      <td>unit</td>\n",
       "      <td>2</td>\n",
       "    </tr>\n",
       "    <tr>\n",
       "      <th>29578</th>\n",
       "      <td>2019-07-26</td>\n",
       "      <td>2601</td>\n",
       "      <td>589000</td>\n",
       "      <td>unit</td>\n",
       "      <td>2</td>\n",
       "    </tr>\n",
       "    <tr>\n",
       "      <th>29579</th>\n",
       "      <td>2019-07-26</td>\n",
       "      <td>2612</td>\n",
       "      <td>775000</td>\n",
       "      <td>unit</td>\n",
       "      <td>2</td>\n",
       "    </tr>\n",
       "  </tbody>\n",
       "</table>\n",
       "<p>29580 rows × 5 columns</p>\n",
       "</div>"
      ],
      "text/plain": [
       "        datesold  postcode   price propertyType  bedrooms\n",
       "0     2007-02-07      2607  525000        house         4\n",
       "1     2007-02-27      2906  290000        house         3\n",
       "2     2007-03-07      2905  328000        house         3\n",
       "3     2007-03-09      2905  380000        house         4\n",
       "4     2007-03-21      2906  310000        house         3\n",
       "...          ...       ...     ...          ...       ...\n",
       "29575 2019-07-25      2900  500000         unit         3\n",
       "29576 2019-07-25      2612  560000         unit         2\n",
       "29577 2019-07-26      2912  464950         unit         2\n",
       "29578 2019-07-26      2601  589000         unit         2\n",
       "29579 2019-07-26      2612  775000         unit         2\n",
       "\n",
       "[29580 rows x 5 columns]"
      ]
     },
     "execution_count": 5,
     "metadata": {},
     "output_type": "execute_result"
    }
   ],
   "source": [
    "import numpy as np\n",
    "import pandas as pd\n",
    "import matplotlib.pyplot as plt\n",
    "import matplotlib.pyplot as plt\n",
    "%matplotlib inline\n",
    "from matplotlib.pylab import rcParams\n",
    "rcParams['figure.figsize']=10,6\n",
    "\n",
    "dataset = pd.read_csv(r\"C:\\Users\\kelvin\\Downloads\\archive (30)\\raw_sales.csv\")\n",
    "dataset['datesold'] = pd.to_datetime(dataset['datesold'],infer_datetime_format=True)\n",
    "indexedDataset= dataset.set_index(['datesold'])\n",
    "# df= pd.DataFrame(indexedDataset['price'],columns=['price'])\n",
    "# df.index.name='date'\n",
    "df=dataset\n",
    "df"
   ]
  },
  {
   "cell_type": "code",
   "execution_count": 2,
   "id": "f3b02dda",
   "metadata": {},
   "outputs": [],
   "source": [
    "import statsmodels.api as sm\n",
    "from statsmodels.tsa.stattools import adfuller"
   ]
  },
  {
   "cell_type": "code",
   "execution_count": 3,
   "id": "3b5e9d09",
   "metadata": {},
   "outputs": [],
   "source": [
    "# df.reset_index(inplace=True)\n",
    "# df"
   ]
  },
  {
   "cell_type": "code",
   "execution_count": 7,
   "id": "56f39d61",
   "metadata": {},
   "outputs": [
    {
     "data": {
      "text/plain": [
       "[<matplotlib.lines.Line2D at 0x1d78c72cf40>]"
      ]
     },
     "execution_count": 7,
     "metadata": {},
     "output_type": "execute_result"
    },
    {
     "data": {
      "image/png": "[encoded data removed]",
      "text/plain": [
       "<Figure size 720x432 with 1 Axes>"
      ]
     },
     "metadata": {
      "needs_background": "light"
     },
     "output_type": "display_data"
    }
   ],
   "source": [
    "import matplotlib.pyplot as plt\n",
    "plt.plot(df['datesold'],df['price'])"
   ]
  },
  {
   "cell_type": "code",
   "execution_count": 8,
   "id": "d15a577e",
   "metadata": {},
   "outputs": [
    {
     "name": "stdout",
     "output_type": "stream",
     "text": [
      "ADF Statistic: -10.435027\n",
      "p-value: 50.000000\n",
      "Critical values:\n",
      "\t1%:-3.431\n",
      "\t5%:-2.862\n",
      "\t10%:-2.567\n",
      "Reject Ho-Time series is stationary\n"
     ]
    }
   ],
   "source": [
    "x=df['price'].values\n",
    "result = adfuller(x)\n",
    "print('ADF Statistic: %f'%result[0])\n",
    "print('p-value: %f'%result[2])\n",
    "print('Critical values:')\n",
    "for key,value in result[4].items():\n",
    "    print('\\t%s:%.3f'%(key,value))\n",
    "if result[0]<result[4]['5%']:\n",
    "    print('Reject Ho-Time series is stationary')\n",
    "else:\n",
    "    print('Failed to reject-Time series is non-stationary')"
   ]
  },
  {
   "cell_type": "code",
   "execution_count": 9,
   "id": "0d68b3d2",
   "metadata": {},
   "outputs": [],
   "source": [
    "df['Diffprice'] = df['price'].diff()\n",
    "Diffprice = df['Diffprice'].values\n",
    "y= Diffprice[~np.isnan(Diffprice)]"
   ]
  },
  {
   "cell_type": "code",
   "execution_count": 10,
   "id": "99b22ac2",
   "metadata": {},
   "outputs": [],
   "source": [
    "ts_values_orig = df['price'].values\n",
    "ts_values = ts_values_orig[:-1]"
   ]
  },
  {
   "cell_type": "code",
   "execution_count": 11,
   "id": "35571645",
   "metadata": {},
   "outputs": [],
   "source": [
    "x = sm.add_constant(ts_values)"
   ]
  },
  {
   "cell_type": "code",
   "execution_count": 12,
   "id": "d3f1b162",
   "metadata": {},
   "outputs": [],
   "source": [
    "model = sm.OLS(y,x)\n",
    "results=model.fit()"
   ]
  },
  {
   "cell_type": "code",
   "execution_count": 13,
   "id": "7f88e221",
   "metadata": {},
   "outputs": [
    {
     "name": "stdout",
     "output_type": "stream",
     "text": [
      "                            OLS Regression Results                            \n",
      "==============================================================================\n",
      "Dep. Variable:                      y   R-squared:                       0.288\n",
      "Model:                            OLS   Adj. R-squared:                  0.288\n",
      "Method:                 Least Squares   F-statistic:                 1.199e+04\n",
      "Date:                Tue, 21 Mar 2023   Prob (F-statistic):               0.00\n",
      "Time:                        22:22:14   Log-Likelihood:            -4.1023e+05\n",
      "No. Observations:               29579   AIC:                         8.205e+05\n",
      "Df Residuals:                   29577   BIC:                         8.205e+05\n",
      "Df Model:                           1                                         \n",
      "Covariance Type:            nonrobust                                         \n",
      "==============================================================================\n",
      "                 coef    std err          t      P>|t|      [0.025      0.975]\n",
      "------------------------------------------------------------------------------\n",
      "const       3.517e+05   3538.538     99.393      0.000    3.45e+05    3.59e+05\n",
      "x1            -0.5768      0.005   -109.486      0.000      -0.587      -0.566\n",
      "==============================================================================\n",
      "Omnibus:                    25847.010   Durbin-Watson:                   2.087\n",
      "Prob(Omnibus):                  0.000   Jarque-Bera (JB):          5707842.101\n",
      "Skew:                           3.471   Prob(JB):                         0.00\n",
      "Kurtosis:                      70.698   Cond. No.                     1.60e+06\n",
      "==============================================================================\n",
      "\n",
      "Notes:\n",
      "[1] Standard Errors assume that the covariance matrix of the errors is correctly specified.\n",
      "[2] The condition number is large, 1.6e+06. This might indicate that there are\n",
      "strong multicollinearity or other numerical problems.\n"
     ]
    }
   ],
   "source": [
    "print(results.summary())"
   ]
  },
  {
   "cell_type": "code",
   "execution_count": 14,
   "id": "0daaea50",
   "metadata": {},
   "outputs": [
    {
     "data": {
      "text/plain": [
       "-109.48631980360202"
      ]
     },
     "execution_count": 14,
     "metadata": {},
     "output_type": "execute_result"
    }
   ],
   "source": [
    "results.tvalues[1]"
   ]
  },
  {
   "cell_type": "code",
   "execution_count": null,
   "id": "012ea529",
   "metadata": {},
   "outputs": [],
   "source": []
  }
 ],
 "metadata": {
  "kernelspec": {
   "display_name": "Python 3 (ipykernel)",
   "language": "python",
   "name": "python3"
  },
  "language_info": {
   "codemirror_mode": {
    "name": "ipython",
    "version": 3
   },
   "file_extension": ".py",
   "mimetype": "text/x-python",
   "name": "python",
   "nbconvert_exporter": "python",
   "pygments_lexer": "ipython3",
   "version": "3.9.12"
  }
 },
 "nbformat": 4,
 "nbformat_minor": 5
}
