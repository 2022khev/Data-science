{
 "cells": [
  {
   "cell_type": "code",
   "execution_count": 1,
   "id": "a6cdd1c3",
   "metadata": {},
   "outputs": [],
   "source": [
    "import numpy as np\n",
    "import pandas as pd\n",
    "import matplotlib.pyplot as plt\n",
    "import scipy.stats as stats"
   ]
  },
  {
   "cell_type": "markdown",
   "id": "b555c216",
   "metadata": {},
   "source": [
    "#                   Analysis of Variance(ANOVA)"
   ]
  },
  {
   "cell_type": "code",
   "execution_count": 2,
   "id": "6a0fa75e",
   "metadata": {},
   "outputs": [],
   "source": [
    "races = ['asian','black','hispanic','other','white']\n",
    "voter_race = np.random.choice(a=races,\n",
    "                             p=[0.05,0.15,0.25,0.05,0.5],\n",
    "                             size=1000)\n",
    "voter_age =stats.poisson.rvs(loc=18,\n",
    "                             mu=30,\n",
    "                             size=1000)\n",
    "voter_frame=pd.DataFrame({'race':voter_race,'age':voter_age})\n",
    "groups = voter_frame.groupby('race').groups"
   ]
  },
  {
   "cell_type": "code",
   "execution_count": 3,
   "id": "f1c01e64",
   "metadata": {},
   "outputs": [],
   "source": [
    "asian = voter_age[groups['asian']]\n",
    "black = voter_age[groups['black']]\n",
    "hispanic = voter_age[groups['hispanic']]\n",
    "other= voter_age[groups['other']]\n",
    "white = voter_age[groups['white']]"
   ]
  },
  {
   "cell_type": "code",
   "execution_count": 4,
   "id": "9e07e7d0",
   "metadata": {},
   "outputs": [
    {
     "data": {
      "text/plain": [
       "F_onewayResult(statistic=0.8808626495268265, pvalue=0.47472894747384176)"
      ]
     },
     "execution_count": 4,
     "metadata": {},
     "output_type": "execute_result"
    }
   ],
   "source": [
    "stats.f_oneway(asian,black,hispanic,other,white)"
   ]
  },
  {
   "cell_type": "code",
   "execution_count": 5,
   "id": "15f259f2",
   "metadata": {},
   "outputs": [
    {
     "data": {
      "text/html": [
       "<div>\n",
       "<style scoped>\n",
       "    .dataframe tbody tr th:only-of-type {\n",
       "        vertical-align: middle;\n",
       "    }\n",
       "\n",
       "    .dataframe tbody tr th {\n",
       "        vertical-align: top;\n",
       "    }\n",
       "\n",
       "    .dataframe thead th {\n",
       "        text-align: right;\n",
       "    }\n",
       "</style>\n",
       "<table border=\"1\" class=\"dataframe\">\n",
       "  <thead>\n",
       "    <tr style=\"text-align: right;\">\n",
       "      <th></th>\n",
       "      <th>df</th>\n",
       "      <th>sum_sq</th>\n",
       "      <th>mean_sq</th>\n",
       "      <th>F</th>\n",
       "      <th>PR(&gt;F)</th>\n",
       "    </tr>\n",
       "  </thead>\n",
       "  <tbody>\n",
       "    <tr>\n",
       "      <th>race</th>\n",
       "      <td>4.0</td>\n",
       "      <td>100.994081</td>\n",
       "      <td>25.248520</td>\n",
       "      <td>0.880863</td>\n",
       "      <td>0.474729</td>\n",
       "    </tr>\n",
       "    <tr>\n",
       "      <th>Residual</th>\n",
       "      <td>995.0</td>\n",
       "      <td>28520.084919</td>\n",
       "      <td>28.663402</td>\n",
       "      <td>NaN</td>\n",
       "      <td>NaN</td>\n",
       "    </tr>\n",
       "  </tbody>\n",
       "</table>\n",
       "</div>"
      ],
      "text/plain": [
       "             df        sum_sq    mean_sq         F    PR(>F)\n",
       "race        4.0    100.994081  25.248520  0.880863  0.474729\n",
       "Residual  995.0  28520.084919  28.663402       NaN       NaN"
      ]
     },
     "execution_count": 5,
     "metadata": {},
     "output_type": "execute_result"
    }
   ],
   "source": [
    "import statsmodels.api as sm\n",
    "from statsmodels.formula.api import ols\n",
    "\n",
    "model=ols('age ~ race',\n",
    "         data=voter_frame).fit()\n",
    "anova_result = sm.stats.anova_lm(model,type=2)\n",
    "anova_result"
   ]
  },
  {
   "cell_type": "markdown",
   "id": "86910d4c",
   "metadata": {},
   "source": [
    "# p-values comparison"
   ]
  },
  {
   "cell_type": "code",
   "execution_count": 7,
   "id": "5587b314",
   "metadata": {},
   "outputs": [
    {
     "name": "stdout",
     "output_type": "stream",
     "text": [
      "asian black\n",
      "Ttest_indResult(statistic=-0.17504488874705768, pvalue=0.8612455735920191)\n",
      "asian hispanic\n",
      "Ttest_indResult(statistic=0.7660318251392396, pvalue=0.44424024780784377)\n",
      "asian other\n",
      "Ttest_indResult(statistic=-0.004762474472832836, pvalue=0.9962100960437156)\n",
      "asian white\n",
      "Ttest_indResult(statistic=0.7606882738643037, pvalue=0.4471734663170829)\n",
      "black hispanic\n",
      "Ttest_indResult(statistic=1.4605171095939593, pvalue=0.14493300246727284)\n",
      "black other\n",
      "Ttest_indResult(statistic=0.1857609217149826, pvalue=0.8528357678384882)\n",
      "black white\n",
      "Ttest_indResult(statistic=1.5447547079775192, pvalue=0.12290537286223714)\n",
      "hispanic other\n",
      "Ttest_indResult(statistic=-0.8456829453055331, pvalue=0.39836352008508125)\n",
      "hispanic white\n",
      "Ttest_indResult(statistic=-0.06920260131626474, pvalue=0.9448463897990645)\n",
      "other white\n",
      "Ttest_indResult(statistic=0.8407003048738276, pvalue=0.40087985852175334)\n"
     ]
    }
   ],
   "source": [
    "race_pairs = []\n",
    "for race1 in range(4):\n",
    "    for race2 in range(race1+1,5):\n",
    "        race_pairs.append((races[race1],races[race2]))\n",
    "        \n",
    "for race1,race2 in race_pairs:\n",
    "    print(race1,race2)\n",
    "    print(stats.ttest_ind(voter_age[groups[race1]],voter_age[groups[race2]]))"
   ]
  },
  {
   "cell_type": "markdown",
   "id": "a1e961fd",
   "metadata": {},
   "source": [
    "# TukeyHSD"
   ]
  },
  {
   "cell_type": "code",
   "execution_count": 8,
   "id": "d26791d6",
   "metadata": {},
   "outputs": [
    {
     "data": {
      "text/html": [
       "<table class=\"simpletable\">\n",
       "<caption>Multiple Comparison of Means - Tukey HSD, FWER=0.05</caption>\n",
       "<tr>\n",
       "   <th>group1</th>   <th>group2</th>  <th>meandiff</th>  <th>p-adj</th>  <th>lower</th>   <th>upper</th> <th>reject</th>\n",
       "</tr>\n",
       "<tr>\n",
       "    <td>asian</td>    <td>black</td>   <td>0.1696</td>  <td>0.9998</td> <td>-2.3725</td> <td>2.7118</td>  <td>False</td>\n",
       "</tr>\n",
       "<tr>\n",
       "    <td>asian</td>  <td>hispanic</td>  <td>-0.6662</td> <td>0.9405</td> <td>-3.0461</td> <td>1.7137</td>  <td>False</td>\n",
       "</tr>\n",
       "<tr>\n",
       "    <td>asian</td>    <td>other</td>   <td>0.0051</td>    <td>1.0</td>  <td>-2.9788</td> <td>2.9891</td>  <td>False</td>\n",
       "</tr>\n",
       "<tr>\n",
       "    <td>asian</td>    <td>white</td>   <td>-0.6384</td> <td>0.9423</td> <td>-2.9389</td> <td>1.6621</td>  <td>False</td>\n",
       "</tr>\n",
       "<tr>\n",
       "    <td>black</td>  <td>hispanic</td>  <td>-0.8358</td> <td>0.5787</td> <td>-2.3838</td> <td>0.7121</td>  <td>False</td>\n",
       "</tr>\n",
       "<tr>\n",
       "    <td>black</td>    <td>other</td>   <td>-0.1645</td> <td>0.9997</td> <td>-2.5386</td> <td>2.2096</td>  <td>False</td>\n",
       "</tr>\n",
       "<tr>\n",
       "    <td>black</td>    <td>white</td>   <td>-0.808</td>   <td>0.529</td> <td>-2.2309</td>  <td>0.615</td>  <td>False</td>\n",
       "</tr>\n",
       "<tr>\n",
       "  <td>hispanic</td>   <td>other</td>   <td>0.6714</td>   <td>0.92</td>  <td>-1.5281</td> <td>2.8708</td>  <td>False</td>\n",
       "</tr>\n",
       "<tr>\n",
       "  <td>hispanic</td>   <td>white</td>   <td>0.0279</td>    <td>1.0</td>  <td>-1.0794</td> <td>1.1351</td>  <td>False</td>\n",
       "</tr>\n",
       "<tr>\n",
       "    <td>other</td>    <td>white</td>   <td>-0.6435</td> <td>0.9206</td> <td>-2.7568</td> <td>1.4698</td>  <td>False</td>\n",
       "</tr>\n",
       "</table>"
      ],
      "text/plain": [
       "<class 'statsmodels.iolib.table.SimpleTable'>"
      ]
     },
     "execution_count": 8,
     "metadata": {},
     "output_type": "execute_result"
    },
    {
     "data": {
      "image/png": "[encoded data removed]",
      "text/plain": [
       "<Figure size 720x432 with 1 Axes>"
      ]
     },
     "metadata": {
      "needs_background": "light"
     },
     "output_type": "display_data"
    }
   ],
   "source": [
    "import matplotlib.pyplot as plt\n",
    "\n",
    "from statsmodels.stats.multicomp import pairwise_tukeyhsd\n",
    "tukey = pairwise_tukeyhsd(endog=voter_age,\n",
    "                         groups=voter_race,\n",
    "                         alpha=0.05)\n",
    "tukey.plot_simultaneous()\n",
    "plt.vlines(x=49.57,ymin=0.5,ymax=4.5,color='red')\n",
    "tukey.summary()"
   ]
  },
  {
   "cell_type": "markdown",
   "id": "3ad78fd0",
   "metadata": {},
   "source": [
    "# 1.Completely Randomized Desing(CRD)"
   ]
  },
  {
   "cell_type": "code",
   "execution_count": 27,
   "id": "fa1698b3",
   "metadata": {},
   "outputs": [
    {
     "data": {
      "text/html": [
       "<div>\n",
       "<style scoped>\n",
       "    .dataframe tbody tr th:only-of-type {\n",
       "        vertical-align: middle;\n",
       "    }\n",
       "\n",
       "    .dataframe tbody tr th {\n",
       "        vertical-align: top;\n",
       "    }\n",
       "\n",
       "    .dataframe thead th {\n",
       "        text-align: right;\n",
       "    }\n",
       "</style>\n",
       "<table border=\"1\" class=\"dataframe\">\n",
       "  <thead>\n",
       "    <tr style=\"text-align: right;\">\n",
       "      <th></th>\n",
       "      <th>Power</th>\n",
       "      <th>Rate</th>\n",
       "    </tr>\n",
       "  </thead>\n",
       "  <tbody>\n",
       "    <tr>\n",
       "      <th>0</th>\n",
       "      <td>160</td>\n",
       "      <td>575.0</td>\n",
       "    </tr>\n",
       "    <tr>\n",
       "      <th>1</th>\n",
       "      <td>160</td>\n",
       "      <td>542.0</td>\n",
       "    </tr>\n",
       "    <tr>\n",
       "      <th>2</th>\n",
       "      <td>160</td>\n",
       "      <td>530.0</td>\n",
       "    </tr>\n",
       "    <tr>\n",
       "      <th>3</th>\n",
       "      <td>160</td>\n",
       "      <td>539.0</td>\n",
       "    </tr>\n",
       "    <tr>\n",
       "      <th>4</th>\n",
       "      <td>160</td>\n",
       "      <td>570.0</td>\n",
       "    </tr>\n",
       "    <tr>\n",
       "      <th>5</th>\n",
       "      <td>180</td>\n",
       "      <td>565.0</td>\n",
       "    </tr>\n",
       "    <tr>\n",
       "      <th>6</th>\n",
       "      <td>180</td>\n",
       "      <td>593.0</td>\n",
       "    </tr>\n",
       "    <tr>\n",
       "      <th>7</th>\n",
       "      <td>180</td>\n",
       "      <td>590.0</td>\n",
       "    </tr>\n",
       "    <tr>\n",
       "      <th>8</th>\n",
       "      <td>180</td>\n",
       "      <td>579.0</td>\n",
       "    </tr>\n",
       "    <tr>\n",
       "      <th>9</th>\n",
       "      <td>180</td>\n",
       "      <td>610.0</td>\n",
       "    </tr>\n",
       "    <tr>\n",
       "      <th>10</th>\n",
       "      <td>200</td>\n",
       "      <td>600.0</td>\n",
       "    </tr>\n",
       "    <tr>\n",
       "      <th>11</th>\n",
       "      <td>200</td>\n",
       "      <td>651.0</td>\n",
       "    </tr>\n",
       "    <tr>\n",
       "      <th>12</th>\n",
       "      <td>200</td>\n",
       "      <td>610.0</td>\n",
       "    </tr>\n",
       "    <tr>\n",
       "      <th>13</th>\n",
       "      <td>200</td>\n",
       "      <td>637.0</td>\n",
       "    </tr>\n",
       "    <tr>\n",
       "      <th>14</th>\n",
       "      <td>200</td>\n",
       "      <td>629.0</td>\n",
       "    </tr>\n",
       "    <tr>\n",
       "      <th>15</th>\n",
       "      <td>220</td>\n",
       "      <td>725.0</td>\n",
       "    </tr>\n",
       "    <tr>\n",
       "      <th>16</th>\n",
       "      <td>220</td>\n",
       "      <td>700.0</td>\n",
       "    </tr>\n",
       "    <tr>\n",
       "      <th>17</th>\n",
       "      <td>220</td>\n",
       "      <td>715.0</td>\n",
       "    </tr>\n",
       "    <tr>\n",
       "      <th>18</th>\n",
       "      <td>220</td>\n",
       "      <td>685.0</td>\n",
       "    </tr>\n",
       "    <tr>\n",
       "      <th>19</th>\n",
       "      <td>220</td>\n",
       "      <td>710.0</td>\n",
       "    </tr>\n",
       "  </tbody>\n",
       "</table>\n",
       "</div>"
      ],
      "text/plain": [
       "   Power   Rate\n",
       "0    160  575.0\n",
       "1    160  542.0\n",
       "2    160  530.0\n",
       "3    160  539.0\n",
       "4    160  570.0\n",
       "5    180  565.0\n",
       "6    180  593.0\n",
       "7    180  590.0\n",
       "8    180  579.0\n",
       "9    180  610.0\n",
       "10   200  600.0\n",
       "11   200  651.0\n",
       "12   200  610.0\n",
       "13   200  637.0\n",
       "14   200  629.0\n",
       "15   220  725.0\n",
       "16   220  700.0\n",
       "17   220  715.0\n",
       "18   220  685.0\n",
       "19   220  710.0"
      ]
     },
     "execution_count": 27,
     "metadata": {},
     "output_type": "execute_result"
    }
   ],
   "source": [
    "treat = ['160','180','200','220']\n",
    "treat1= np.repeat(treat,5)\n",
    "dat = [575,542,530,539,570,\n",
    "      565,593,590,579,610,\n",
    "      600,651,610,637,629,\n",
    "      725,700,715,685,710]\n",
    "\n",
    "etch=pd.DataFrame(dat,columns=['Rate'])\n",
    "power=pd.DataFrame(treat1,columns=['Power'])\n",
    "\n",
    "df=pd.concat([power,etch],axis=1)\n",
    "df['Rate']= df['Rate'].astype('float')\n",
    "df"
   ]
  },
  {
   "cell_type": "code",
   "execution_count": 28,
   "id": "82d262e4",
   "metadata": {},
   "outputs": [
    {
     "data": {
      "text/html": [
       "<div>\n",
       "<style scoped>\n",
       "    .dataframe tbody tr th:only-of-type {\n",
       "        vertical-align: middle;\n",
       "    }\n",
       "\n",
       "    .dataframe tbody tr th {\n",
       "        vertical-align: top;\n",
       "    }\n",
       "\n",
       "    .dataframe thead th {\n",
       "        text-align: right;\n",
       "    }\n",
       "</style>\n",
       "<table border=\"1\" class=\"dataframe\">\n",
       "  <thead>\n",
       "    <tr style=\"text-align: right;\">\n",
       "      <th></th>\n",
       "      <th>df</th>\n",
       "      <th>sum_sq</th>\n",
       "      <th>mean_sq</th>\n",
       "      <th>F</th>\n",
       "      <th>PR(&gt;F)</th>\n",
       "    </tr>\n",
       "  </thead>\n",
       "  <tbody>\n",
       "    <tr>\n",
       "      <th>Power</th>\n",
       "      <td>3.0</td>\n",
       "      <td>66870.55</td>\n",
       "      <td>22290.183333</td>\n",
       "      <td>66.797073</td>\n",
       "      <td>2.882866e-09</td>\n",
       "    </tr>\n",
       "    <tr>\n",
       "      <th>Residual</th>\n",
       "      <td>16.0</td>\n",
       "      <td>5339.20</td>\n",
       "      <td>333.700000</td>\n",
       "      <td>NaN</td>\n",
       "      <td>NaN</td>\n",
       "    </tr>\n",
       "  </tbody>\n",
       "</table>\n",
       "</div>"
      ],
      "text/plain": [
       "            df    sum_sq       mean_sq          F        PR(>F)\n",
       "Power      3.0  66870.55  22290.183333  66.797073  2.882866e-09\n",
       "Residual  16.0   5339.20    333.700000        NaN           NaN"
      ]
     },
     "execution_count": 28,
     "metadata": {},
     "output_type": "execute_result"
    }
   ],
   "source": [
    "import statsmodels.api as sm\n",
    "from statsmodels.formula.api import ols\n",
    "\n",
    "model=ols('Rate ~ Power',\n",
    "         data=df).fit()\n",
    "anova_result = sm.stats.anova_lm(model,type=2)\n",
    "anova_result"
   ]
  },
  {
   "cell_type": "markdown",
   "id": "a76f4243",
   "metadata": {},
   "source": [
    "# 2.Randomized Complete Block Desing(RCBD)"
   ]
  },
  {
   "cell_type": "code",
   "execution_count": 29,
   "id": "1f4f8ae4",
   "metadata": {},
   "outputs": [
    {
     "data": {
      "text/html": [
       "<div>\n",
       "<style scoped>\n",
       "    .dataframe tbody tr th:only-of-type {\n",
       "        vertical-align: middle;\n",
       "    }\n",
       "\n",
       "    .dataframe tbody tr th {\n",
       "        vertical-align: top;\n",
       "    }\n",
       "\n",
       "    .dataframe thead th {\n",
       "        text-align: right;\n",
       "    }\n",
       "</style>\n",
       "<table border=\"1\" class=\"dataframe\">\n",
       "  <thead>\n",
       "    <tr style=\"text-align: right;\">\n",
       "      <th></th>\n",
       "      <th>Fertilizer</th>\n",
       "      <th>Watering</th>\n",
       "      <th>height</th>\n",
       "    </tr>\n",
       "  </thead>\n",
       "  <tbody>\n",
       "    <tr>\n",
       "      <th>0</th>\n",
       "      <td>daily</td>\n",
       "      <td>daily</td>\n",
       "      <td>14</td>\n",
       "    </tr>\n",
       "    <tr>\n",
       "      <th>1</th>\n",
       "      <td>daily</td>\n",
       "      <td>daily</td>\n",
       "      <td>16</td>\n",
       "    </tr>\n",
       "    <tr>\n",
       "      <th>2</th>\n",
       "      <td>daily</td>\n",
       "      <td>daily</td>\n",
       "      <td>15</td>\n",
       "    </tr>\n",
       "    <tr>\n",
       "      <th>3</th>\n",
       "      <td>daily</td>\n",
       "      <td>daily</td>\n",
       "      <td>15</td>\n",
       "    </tr>\n",
       "    <tr>\n",
       "      <th>4</th>\n",
       "      <td>daily</td>\n",
       "      <td>daily</td>\n",
       "      <td>16</td>\n",
       "    </tr>\n",
       "    <tr>\n",
       "      <th>5</th>\n",
       "      <td>daily</td>\n",
       "      <td>daily</td>\n",
       "      <td>13</td>\n",
       "    </tr>\n",
       "    <tr>\n",
       "      <th>6</th>\n",
       "      <td>daily</td>\n",
       "      <td>daily</td>\n",
       "      <td>12</td>\n",
       "    </tr>\n",
       "    <tr>\n",
       "      <th>7</th>\n",
       "      <td>daily</td>\n",
       "      <td>daily</td>\n",
       "      <td>11</td>\n",
       "    </tr>\n",
       "    <tr>\n",
       "      <th>8</th>\n",
       "      <td>daily</td>\n",
       "      <td>daily</td>\n",
       "      <td>14</td>\n",
       "    </tr>\n",
       "    <tr>\n",
       "      <th>9</th>\n",
       "      <td>daily</td>\n",
       "      <td>daily</td>\n",
       "      <td>15</td>\n",
       "    </tr>\n",
       "    <tr>\n",
       "      <th>10</th>\n",
       "      <td>daily</td>\n",
       "      <td>daily</td>\n",
       "      <td>16</td>\n",
       "    </tr>\n",
       "    <tr>\n",
       "      <th>11</th>\n",
       "      <td>daily</td>\n",
       "      <td>daily</td>\n",
       "      <td>16</td>\n",
       "    </tr>\n",
       "    <tr>\n",
       "      <th>12</th>\n",
       "      <td>daily</td>\n",
       "      <td>daily</td>\n",
       "      <td>17</td>\n",
       "    </tr>\n",
       "    <tr>\n",
       "      <th>13</th>\n",
       "      <td>daily</td>\n",
       "      <td>daily</td>\n",
       "      <td>18</td>\n",
       "    </tr>\n",
       "    <tr>\n",
       "      <th>14</th>\n",
       "      <td>daily</td>\n",
       "      <td>daily</td>\n",
       "      <td>14</td>\n",
       "    </tr>\n",
       "    <tr>\n",
       "      <th>15</th>\n",
       "      <td>weekly</td>\n",
       "      <td>weekly</td>\n",
       "      <td>13</td>\n",
       "    </tr>\n",
       "    <tr>\n",
       "      <th>16</th>\n",
       "      <td>weekly</td>\n",
       "      <td>weekly</td>\n",
       "      <td>14</td>\n",
       "    </tr>\n",
       "    <tr>\n",
       "      <th>17</th>\n",
       "      <td>weekly</td>\n",
       "      <td>weekly</td>\n",
       "      <td>14</td>\n",
       "    </tr>\n",
       "    <tr>\n",
       "      <th>18</th>\n",
       "      <td>weekly</td>\n",
       "      <td>weekly</td>\n",
       "      <td>14</td>\n",
       "    </tr>\n",
       "    <tr>\n",
       "      <th>19</th>\n",
       "      <td>weekly</td>\n",
       "      <td>weekly</td>\n",
       "      <td>15</td>\n",
       "    </tr>\n",
       "    <tr>\n",
       "      <th>20</th>\n",
       "      <td>weekly</td>\n",
       "      <td>weekly</td>\n",
       "      <td>16</td>\n",
       "    </tr>\n",
       "    <tr>\n",
       "      <th>21</th>\n",
       "      <td>weekly</td>\n",
       "      <td>weekly</td>\n",
       "      <td>16</td>\n",
       "    </tr>\n",
       "    <tr>\n",
       "      <th>22</th>\n",
       "      <td>weekly</td>\n",
       "      <td>weekly</td>\n",
       "      <td>17</td>\n",
       "    </tr>\n",
       "    <tr>\n",
       "      <th>23</th>\n",
       "      <td>weekly</td>\n",
       "      <td>weekly</td>\n",
       "      <td>18</td>\n",
       "    </tr>\n",
       "    <tr>\n",
       "      <th>24</th>\n",
       "      <td>weekly</td>\n",
       "      <td>weekly</td>\n",
       "      <td>14</td>\n",
       "    </tr>\n",
       "    <tr>\n",
       "      <th>25</th>\n",
       "      <td>weekly</td>\n",
       "      <td>weekly</td>\n",
       "      <td>13</td>\n",
       "    </tr>\n",
       "    <tr>\n",
       "      <th>26</th>\n",
       "      <td>weekly</td>\n",
       "      <td>weekly</td>\n",
       "      <td>14</td>\n",
       "    </tr>\n",
       "    <tr>\n",
       "      <th>27</th>\n",
       "      <td>weekly</td>\n",
       "      <td>weekly</td>\n",
       "      <td>14</td>\n",
       "    </tr>\n",
       "    <tr>\n",
       "      <th>28</th>\n",
       "      <td>weekly</td>\n",
       "      <td>weekly</td>\n",
       "      <td>14</td>\n",
       "    </tr>\n",
       "    <tr>\n",
       "      <th>29</th>\n",
       "      <td>weekly</td>\n",
       "      <td>weekly</td>\n",
       "      <td>15</td>\n",
       "    </tr>\n",
       "  </tbody>\n",
       "</table>\n",
       "</div>"
      ],
      "text/plain": [
       "   Fertilizer Watering  height\n",
       "0       daily    daily      14\n",
       "1       daily    daily      16\n",
       "2       daily    daily      15\n",
       "3       daily    daily      15\n",
       "4       daily    daily      16\n",
       "5       daily    daily      13\n",
       "6       daily    daily      12\n",
       "7       daily    daily      11\n",
       "8       daily    daily      14\n",
       "9       daily    daily      15\n",
       "10      daily    daily      16\n",
       "11      daily    daily      16\n",
       "12      daily    daily      17\n",
       "13      daily    daily      18\n",
       "14      daily    daily      14\n",
       "15     weekly   weekly      13\n",
       "16     weekly   weekly      14\n",
       "17     weekly   weekly      14\n",
       "18     weekly   weekly      14\n",
       "19     weekly   weekly      15\n",
       "20     weekly   weekly      16\n",
       "21     weekly   weekly      16\n",
       "22     weekly   weekly      17\n",
       "23     weekly   weekly      18\n",
       "24     weekly   weekly      14\n",
       "25     weekly   weekly      13\n",
       "26     weekly   weekly      14\n",
       "27     weekly   weekly      14\n",
       "28     weekly   weekly      14\n",
       "29     weekly   weekly      15"
      ]
     },
     "execution_count": 29,
     "metadata": {},
     "output_type": "execute_result"
    }
   ],
   "source": [
    "# Importing libraries\n",
    "import numpy as np\n",
    "import pandas as pd\n",
    "  \n",
    "# Create a dataframe\n",
    "df = pd.DataFrame({'Fertilizer': np.repeat(['daily', 'weekly'], 15),\n",
    "                          'Watering': np.repeat(['daily', 'weekly'], 15),\n",
    "                          'height': [14, 16, 15, 15, 16, 13, 12, 11, 14, \n",
    "                                     15, 16, 16, 17, 18, 14, 13, 14, 14, \n",
    "                                     14, 15, 16, 16, 17, 18, 14, 13, 14, \n",
    "                                     14, 14, 15]})\n",
    "df"
   ]
  },
  {
   "cell_type": "code",
   "execution_count": 30,
   "id": "54832a20",
   "metadata": {},
   "outputs": [
    {
     "data": {
      "text/html": [
       "<div>\n",
       "<style scoped>\n",
       "    .dataframe tbody tr th:only-of-type {\n",
       "        vertical-align: middle;\n",
       "    }\n",
       "\n",
       "    .dataframe tbody tr th {\n",
       "        vertical-align: top;\n",
       "    }\n",
       "\n",
       "    .dataframe thead th {\n",
       "        text-align: right;\n",
       "    }\n",
       "</style>\n",
       "<table border=\"1\" class=\"dataframe\">\n",
       "  <thead>\n",
       "    <tr style=\"text-align: right;\">\n",
       "      <th></th>\n",
       "      <th>sum_sq</th>\n",
       "      <th>df</th>\n",
       "      <th>F</th>\n",
       "      <th>PR(&gt;F)</th>\n",
       "    </tr>\n",
       "  </thead>\n",
       "  <tbody>\n",
       "    <tr>\n",
       "      <th>C(Fertilizer)</th>\n",
       "      <td>1.014891e-12</td>\n",
       "      <td>1.0</td>\n",
       "      <td>3.674605e-13</td>\n",
       "      <td>1.000000</td>\n",
       "    </tr>\n",
       "    <tr>\n",
       "      <th>C(Watering)</th>\n",
       "      <td>4.315476e-02</td>\n",
       "      <td>1.0</td>\n",
       "      <td>1.562500e-02</td>\n",
       "      <td>0.901417</td>\n",
       "    </tr>\n",
       "    <tr>\n",
       "      <th>C(Fertilizer):C(Watering)</th>\n",
       "      <td>3.333333e-02</td>\n",
       "      <td>1.0</td>\n",
       "      <td>1.206897e-02</td>\n",
       "      <td>0.913305</td>\n",
       "    </tr>\n",
       "    <tr>\n",
       "      <th>Residual</th>\n",
       "      <td>7.733333e+01</td>\n",
       "      <td>28.0</td>\n",
       "      <td>NaN</td>\n",
       "      <td>NaN</td>\n",
       "    </tr>\n",
       "  </tbody>\n",
       "</table>\n",
       "</div>"
      ],
      "text/plain": [
       "                                 sum_sq    df             F    PR(>F)\n",
       "C(Fertilizer)              1.014891e-12   1.0  3.674605e-13  1.000000\n",
       "C(Watering)                4.315476e-02   1.0  1.562500e-02  0.901417\n",
       "C(Fertilizer):C(Watering)  3.333333e-02   1.0  1.206897e-02  0.913305\n",
       "Residual                   7.733333e+01  28.0           NaN       NaN"
      ]
     },
     "execution_count": 30,
     "metadata": {},
     "output_type": "execute_result"
    }
   ],
   "source": [
    "# Importing libraries\n",
    "import statsmodels.api as sm\n",
    "from statsmodels.formula.api import ols\n",
    "  \n",
    "# Performing two-way ANOVA\n",
    "model = ols(\n",
    "    'height ~ C(Fertilizer) + C(Watering) +\\\n",
    "    C(Fertilizer):C(Watering)', data=df).fit()\n",
    "sm.stats.anova_lm(model, typ=2)"
   ]
  },
  {
   "cell_type": "markdown",
   "id": "dc777bb3",
   "metadata": {},
   "source": [
    "# 3.Factorial Design"
   ]
  },
  {
   "cell_type": "code",
   "execution_count": 31,
   "id": "530d7324",
   "metadata": {},
   "outputs": [
    {
     "data": {
      "text/html": [
       "<div>\n",
       "<style scoped>\n",
       "    .dataframe tbody tr th:only-of-type {\n",
       "        vertical-align: middle;\n",
       "    }\n",
       "\n",
       "    .dataframe tbody tr th {\n",
       "        vertical-align: top;\n",
       "    }\n",
       "\n",
       "    .dataframe thead th {\n",
       "        text-align: right;\n",
       "    }\n",
       "</style>\n",
       "<table border=\"1\" class=\"dataframe\">\n",
       "  <thead>\n",
       "    <tr style=\"text-align: right;\">\n",
       "      <th></th>\n",
       "      <th>Material</th>\n",
       "      <th>Temp</th>\n",
       "      <th>Result</th>\n",
       "    </tr>\n",
       "  </thead>\n",
       "  <tbody>\n",
       "    <tr>\n",
       "      <th>0</th>\n",
       "      <td>A1</td>\n",
       "      <td>l5</td>\n",
       "      <td>130</td>\n",
       "    </tr>\n",
       "    <tr>\n",
       "      <th>1</th>\n",
       "      <td>A1</td>\n",
       "      <td>l5</td>\n",
       "      <td>155</td>\n",
       "    </tr>\n",
       "    <tr>\n",
       "      <th>2</th>\n",
       "      <td>A1</td>\n",
       "      <td>70</td>\n",
       "      <td>34</td>\n",
       "    </tr>\n",
       "    <tr>\n",
       "      <th>3</th>\n",
       "      <td>A1</td>\n",
       "      <td>70</td>\n",
       "      <td>40</td>\n",
       "    </tr>\n",
       "    <tr>\n",
       "      <th>4</th>\n",
       "      <td>A1</td>\n",
       "      <td>125</td>\n",
       "      <td>20</td>\n",
       "    </tr>\n",
       "    <tr>\n",
       "      <th>5</th>\n",
       "      <td>A1</td>\n",
       "      <td>125</td>\n",
       "      <td>70</td>\n",
       "    </tr>\n",
       "    <tr>\n",
       "      <th>6</th>\n",
       "      <td>A1</td>\n",
       "      <td>l5</td>\n",
       "      <td>74</td>\n",
       "    </tr>\n",
       "    <tr>\n",
       "      <th>7</th>\n",
       "      <td>A1</td>\n",
       "      <td>l5</td>\n",
       "      <td>180</td>\n",
       "    </tr>\n",
       "    <tr>\n",
       "      <th>8</th>\n",
       "      <td>A1</td>\n",
       "      <td>70</td>\n",
       "      <td>80</td>\n",
       "    </tr>\n",
       "    <tr>\n",
       "      <th>9</th>\n",
       "      <td>A1</td>\n",
       "      <td>70</td>\n",
       "      <td>75</td>\n",
       "    </tr>\n",
       "    <tr>\n",
       "      <th>10</th>\n",
       "      <td>A1</td>\n",
       "      <td>125</td>\n",
       "      <td>82</td>\n",
       "    </tr>\n",
       "    <tr>\n",
       "      <th>11</th>\n",
       "      <td>A1</td>\n",
       "      <td>125</td>\n",
       "      <td>58</td>\n",
       "    </tr>\n",
       "    <tr>\n",
       "      <th>12</th>\n",
       "      <td>A2</td>\n",
       "      <td>l5</td>\n",
       "      <td>150</td>\n",
       "    </tr>\n",
       "    <tr>\n",
       "      <th>13</th>\n",
       "      <td>A2</td>\n",
       "      <td>l5</td>\n",
       "      <td>188</td>\n",
       "    </tr>\n",
       "    <tr>\n",
       "      <th>14</th>\n",
       "      <td>A2</td>\n",
       "      <td>70</td>\n",
       "      <td>136</td>\n",
       "    </tr>\n",
       "    <tr>\n",
       "      <th>15</th>\n",
       "      <td>A2</td>\n",
       "      <td>70</td>\n",
       "      <td>122</td>\n",
       "    </tr>\n",
       "    <tr>\n",
       "      <th>16</th>\n",
       "      <td>A2</td>\n",
       "      <td>125</td>\n",
       "      <td>25</td>\n",
       "    </tr>\n",
       "    <tr>\n",
       "      <th>17</th>\n",
       "      <td>A2</td>\n",
       "      <td>125</td>\n",
       "      <td>70</td>\n",
       "    </tr>\n",
       "    <tr>\n",
       "      <th>18</th>\n",
       "      <td>A2</td>\n",
       "      <td>l5</td>\n",
       "      <td>159</td>\n",
       "    </tr>\n",
       "    <tr>\n",
       "      <th>19</th>\n",
       "      <td>A2</td>\n",
       "      <td>l5</td>\n",
       "      <td>126</td>\n",
       "    </tr>\n",
       "    <tr>\n",
       "      <th>20</th>\n",
       "      <td>A2</td>\n",
       "      <td>70</td>\n",
       "      <td>106</td>\n",
       "    </tr>\n",
       "    <tr>\n",
       "      <th>21</th>\n",
       "      <td>A2</td>\n",
       "      <td>70</td>\n",
       "      <td>115</td>\n",
       "    </tr>\n",
       "    <tr>\n",
       "      <th>22</th>\n",
       "      <td>A2</td>\n",
       "      <td>125</td>\n",
       "      <td>58</td>\n",
       "    </tr>\n",
       "    <tr>\n",
       "      <th>23</th>\n",
       "      <td>A2</td>\n",
       "      <td>125</td>\n",
       "      <td>45</td>\n",
       "    </tr>\n",
       "    <tr>\n",
       "      <th>24</th>\n",
       "      <td>A3</td>\n",
       "      <td>l5</td>\n",
       "      <td>138</td>\n",
       "    </tr>\n",
       "    <tr>\n",
       "      <th>25</th>\n",
       "      <td>A3</td>\n",
       "      <td>l5</td>\n",
       "      <td>110</td>\n",
       "    </tr>\n",
       "    <tr>\n",
       "      <th>26</th>\n",
       "      <td>A3</td>\n",
       "      <td>70</td>\n",
       "      <td>174</td>\n",
       "    </tr>\n",
       "    <tr>\n",
       "      <th>27</th>\n",
       "      <td>A3</td>\n",
       "      <td>70</td>\n",
       "      <td>120</td>\n",
       "    </tr>\n",
       "    <tr>\n",
       "      <th>28</th>\n",
       "      <td>A3</td>\n",
       "      <td>125</td>\n",
       "      <td>96</td>\n",
       "    </tr>\n",
       "    <tr>\n",
       "      <th>29</th>\n",
       "      <td>A3</td>\n",
       "      <td>125</td>\n",
       "      <td>104</td>\n",
       "    </tr>\n",
       "    <tr>\n",
       "      <th>30</th>\n",
       "      <td>A3</td>\n",
       "      <td>l5</td>\n",
       "      <td>168</td>\n",
       "    </tr>\n",
       "    <tr>\n",
       "      <th>31</th>\n",
       "      <td>A3</td>\n",
       "      <td>l5</td>\n",
       "      <td>160</td>\n",
       "    </tr>\n",
       "    <tr>\n",
       "      <th>32</th>\n",
       "      <td>A3</td>\n",
       "      <td>70</td>\n",
       "      <td>150</td>\n",
       "    </tr>\n",
       "    <tr>\n",
       "      <th>33</th>\n",
       "      <td>A3</td>\n",
       "      <td>70</td>\n",
       "      <td>139</td>\n",
       "    </tr>\n",
       "    <tr>\n",
       "      <th>34</th>\n",
       "      <td>A3</td>\n",
       "      <td>125</td>\n",
       "      <td>82</td>\n",
       "    </tr>\n",
       "    <tr>\n",
       "      <th>35</th>\n",
       "      <td>A3</td>\n",
       "      <td>125</td>\n",
       "      <td>60</td>\n",
       "    </tr>\n",
       "  </tbody>\n",
       "</table>\n",
       "</div>"
      ],
      "text/plain": [
       "   Material Temp  Result\n",
       "0        A1   l5     130\n",
       "1        A1   l5     155\n",
       "2        A1   70      34\n",
       "3        A1   70      40\n",
       "4        A1  125      20\n",
       "5        A1  125      70\n",
       "6        A1   l5      74\n",
       "7        A1   l5     180\n",
       "8        A1   70      80\n",
       "9        A1   70      75\n",
       "10       A1  125      82\n",
       "11       A1  125      58\n",
       "12       A2   l5     150\n",
       "13       A2   l5     188\n",
       "14       A2   70     136\n",
       "15       A2   70     122\n",
       "16       A2  125      25\n",
       "17       A2  125      70\n",
       "18       A2   l5     159\n",
       "19       A2   l5     126\n",
       "20       A2   70     106\n",
       "21       A2   70     115\n",
       "22       A2  125      58\n",
       "23       A2  125      45\n",
       "24       A3   l5     138\n",
       "25       A3   l5     110\n",
       "26       A3   70     174\n",
       "27       A3   70     120\n",
       "28       A3  125      96\n",
       "29       A3  125     104\n",
       "30       A3   l5     168\n",
       "31       A3   l5     160\n",
       "32       A3   70     150\n",
       "33       A3   70     139\n",
       "34       A3  125      82\n",
       "35       A3  125      60"
      ]
     },
     "execution_count": 31,
     "metadata": {},
     "output_type": "execute_result"
    }
   ],
   "source": [
    "k = pd.DataFrame(\n",
    "    {\n",
    "    'Material':['A1','A1','A1','A1','A1','A1','A1','A1','A1','A1','A1','A1',\n",
    "            'A2','A2','A2','A2','A2','A2','A2','A2','A2','A2','A2','A2',\n",
    "            'A3','A3','A3','A3','A3','A3','A3','A3','A3','A3','A3','A3'],\n",
    "    'Temp':['l5','l5','70','70','125','125'] * 6 ,\n",
    "        \n",
    "    'Result':[130,155,34,40,20,70,\n",
    "             74,180,80,75,82,58,\n",
    "             150,188,136,122,25,70,\n",
    "             159,126,106,115,58,45,\n",
    "             138,110,174,120,96,104,\n",
    "             168,160,150,139,82,60]\n",
    "          \n",
    "    }\n",
    ")\n",
    "k"
   ]
  },
  {
   "cell_type": "code",
   "execution_count": 32,
   "id": "1e65f868",
   "metadata": {},
   "outputs": [
    {
     "data": {
      "text/html": [
       "<div>\n",
       "<style scoped>\n",
       "    .dataframe tbody tr th:only-of-type {\n",
       "        vertical-align: middle;\n",
       "    }\n",
       "\n",
       "    .dataframe tbody tr th {\n",
       "        vertical-align: top;\n",
       "    }\n",
       "\n",
       "    .dataframe thead th {\n",
       "        text-align: right;\n",
       "    }\n",
       "</style>\n",
       "<table border=\"1\" class=\"dataframe\">\n",
       "  <thead>\n",
       "    <tr style=\"text-align: right;\">\n",
       "      <th></th>\n",
       "      <th>sum_sq</th>\n",
       "      <th>df</th>\n",
       "      <th>F</th>\n",
       "      <th>PR(&gt;F)</th>\n",
       "    </tr>\n",
       "  </thead>\n",
       "  <tbody>\n",
       "    <tr>\n",
       "      <th>C(Material)</th>\n",
       "      <td>10683.722222</td>\n",
       "      <td>2.0</td>\n",
       "      <td>7.911372</td>\n",
       "      <td>1.976083e-03</td>\n",
       "    </tr>\n",
       "    <tr>\n",
       "      <th>C(Temp)</th>\n",
       "      <td>39118.722222</td>\n",
       "      <td>2.0</td>\n",
       "      <td>28.967692</td>\n",
       "      <td>1.908596e-07</td>\n",
       "    </tr>\n",
       "    <tr>\n",
       "      <th>C(Temp):C(Material)</th>\n",
       "      <td>9613.777778</td>\n",
       "      <td>4.0</td>\n",
       "      <td>3.559535</td>\n",
       "      <td>1.861117e-02</td>\n",
       "    </tr>\n",
       "    <tr>\n",
       "      <th>Residual</th>\n",
       "      <td>18230.750000</td>\n",
       "      <td>27.0</td>\n",
       "      <td>NaN</td>\n",
       "      <td>NaN</td>\n",
       "    </tr>\n",
       "  </tbody>\n",
       "</table>\n",
       "</div>"
      ],
      "text/plain": [
       "                           sum_sq    df          F        PR(>F)\n",
       "C(Material)          10683.722222   2.0   7.911372  1.976083e-03\n",
       "C(Temp)              39118.722222   2.0  28.967692  1.908596e-07\n",
       "C(Temp):C(Material)   9613.777778   4.0   3.559535  1.861117e-02\n",
       "Residual             18230.750000  27.0        NaN           NaN"
      ]
     },
     "execution_count": 32,
     "metadata": {},
     "output_type": "execute_result"
    }
   ],
   "source": [
    "# Importing libraries\n",
    "import statsmodels.api as sm\n",
    "from statsmodels.formula.api import ols\n",
    "  \n",
    "# Performing two-way ANOVA\n",
    "model = ols(\n",
    "    'Result ~ C(Material) + C(Temp) + \\\n",
    "    C(Temp):C(Material)', data=k).fit()\n",
    "sm.stats.anova_lm(model, typ=2)"
   ]
  },
  {
   "cell_type": "code",
   "execution_count": 33,
   "id": "f3fa0a3c",
   "metadata": {},
   "outputs": [
    {
     "data": {
      "image/png": "[encoded data removed]",
      "text/plain": [
       "<Figure size 432x288 with 1 Axes>"
      ]
     },
     "metadata": {
      "needs_background": "light"
     },
     "output_type": "display_data"
    }
   ],
   "source": [
    "import seaborn as sns\n",
    "ax = sns.boxplot(x='Material',y='Result',data=k)"
   ]
  },
  {
   "cell_type": "code",
   "execution_count": 34,
   "id": "fe026746",
   "metadata": {},
   "outputs": [
    {
     "data": {
      "image/png": "[encoded data removed]",
      "text/plain": [
       "<Figure size 432x288 with 1 Axes>"
      ]
     },
     "metadata": {
      "needs_background": "light"
     },
     "output_type": "display_data"
    }
   ],
   "source": [
    "import seaborn as sns\n",
    "ax = sns.boxplot(x='Temp',y='Result',data=k)"
   ]
  },
  {
   "cell_type": "code",
   "execution_count": 35,
   "id": "a367f5d4",
   "metadata": {},
   "outputs": [
    {
     "data": {
      "text/plain": [
       "<Figure size 864x432 with 0 Axes>"
      ]
     },
     "metadata": {},
     "output_type": "display_data"
    },
    {
     "data": {
      "image/png": "[encoded data removed]",
      "text/plain": [
       "<Figure size 432x288 with 1 Axes>"
      ]
     },
     "metadata": {
      "needs_background": "light"
     },
     "output_type": "display_data"
    }
   ],
   "source": [
    "from statsmodels.graphics.factorplots import interaction_plot\n",
    "from statsmodels.stats.anova import anova_lm\n",
    "import matplotlib.pyplot as plt\n",
    "\n",
    "plt.figure(figsize=(12,6))\n",
    "fig = interaction_plot(k.Temp,k.Material,k.Result,ms=10)"
   ]
  },
  {
   "cell_type": "markdown",
   "id": "3b80687b",
   "metadata": {},
   "source": [
    "#   4.  2^k Factorial Design"
   ]
  },
  {
   "cell_type": "code",
   "execution_count": 10,
   "id": "e0b9a097",
   "metadata": {},
   "outputs": [],
   "source": [
    "k=pd.DataFrame({\n",
    "             'A' : [-1,+1,-1,+1],\n",
    "             'B' : [-1,-1,+1,+1],\n",
    "              'I':[28,36,18,31],\n",
    "              'II':[25,32,19,30],\n",
    "               'III':[27,32,23,29]\n",
    "             }\n",
    "            )\n",
    "k.index = [['(1)','a','b','ab']]"
   ]
  },
  {
   "cell_type": "code",
   "execution_count": 11,
   "id": "342bec6a",
   "metadata": {},
   "outputs": [
    {
     "data": {
      "text/html": [
       "<div>\n",
       "<style scoped>\n",
       "    .dataframe tbody tr th:only-of-type {\n",
       "        vertical-align: middle;\n",
       "    }\n",
       "\n",
       "    .dataframe tbody tr th {\n",
       "        vertical-align: top;\n",
       "    }\n",
       "\n",
       "    .dataframe thead th {\n",
       "        text-align: right;\n",
       "    }\n",
       "</style>\n",
       "<table border=\"1\" class=\"dataframe\">\n",
       "  <thead>\n",
       "    <tr style=\"text-align: right;\">\n",
       "      <th></th>\n",
       "      <th>A</th>\n",
       "      <th>B</th>\n",
       "      <th>I</th>\n",
       "      <th>II</th>\n",
       "      <th>III</th>\n",
       "      <th>Total</th>\n",
       "      <th>Final</th>\n",
       "    </tr>\n",
       "  </thead>\n",
       "  <tbody>\n",
       "    <tr>\n",
       "      <th>(1)</th>\n",
       "      <td>-1</td>\n",
       "      <td>-1</td>\n",
       "      <td>28</td>\n",
       "      <td>25</td>\n",
       "      <td>27</td>\n",
       "      <td>80</td>\n",
       "      <td>80</td>\n",
       "    </tr>\n",
       "    <tr>\n",
       "      <th>a</th>\n",
       "      <td>1</td>\n",
       "      <td>-1</td>\n",
       "      <td>36</td>\n",
       "      <td>32</td>\n",
       "      <td>32</td>\n",
       "      <td>100</td>\n",
       "      <td>-100</td>\n",
       "    </tr>\n",
       "    <tr>\n",
       "      <th>b</th>\n",
       "      <td>-1</td>\n",
       "      <td>1</td>\n",
       "      <td>18</td>\n",
       "      <td>19</td>\n",
       "      <td>23</td>\n",
       "      <td>60</td>\n",
       "      <td>-60</td>\n",
       "    </tr>\n",
       "    <tr>\n",
       "      <th>ab</th>\n",
       "      <td>1</td>\n",
       "      <td>1</td>\n",
       "      <td>31</td>\n",
       "      <td>30</td>\n",
       "      <td>29</td>\n",
       "      <td>90</td>\n",
       "      <td>90</td>\n",
       "    </tr>\n",
       "  </tbody>\n",
       "</table>\n",
       "</div>"
      ],
      "text/plain": [
       "     A  B   I  II  III  Total  Final\n",
       "(1) -1 -1  28  25   27     80     80\n",
       "a    1 -1  36  32   32    100   -100\n",
       "b   -1  1  18  19   23     60    -60\n",
       "ab   1  1  31  30   29     90     90"
      ]
     },
     "execution_count": 11,
     "metadata": {},
     "output_type": "execute_result"
    }
   ],
   "source": [
    "k['Total']=k.iloc[:,2:].sum(axis=1)\n",
    "k['Final'] = k['A'] *k['B'] * k['Total']\n",
    "k"
   ]
  },
  {
   "cell_type": "markdown",
   "id": "11ff9ec6",
   "metadata": {},
   "source": [
    "# EFFECTS"
   ]
  },
  {
   "cell_type": "code",
   "execution_count": 13,
   "id": "5bf861b7",
   "metadata": {},
   "outputs": [
    {
     "name": "stdout",
     "output_type": "stream",
     "text": [
      "Effect A: -5.0\n",
      "Effect :B 8.333333333333334\n",
      "Effect : C 1.6666666666666667\n"
     ]
    }
   ],
   "source": [
    "EffectA = (k.iloc[1,-1] + k.iloc[3,-1] - k.iloc[0,-1] - k.iloc[2,-1])/(2 * 3) \n",
    "EffectB = (k.iloc[2,-1] + k.iloc[3,-1] - k.iloc[0,-1] - k.iloc[1,-1])/(2 * 3)\n",
    "EffectC = (k.iloc[3,-1] + k.iloc[0,-1] +  k.iloc[1,-1] + k.iloc[2,-1])/(2 * 3)\n",
    "\n",
    "print('Effect A:',EffectA)\n",
    "print('Effect :B',EffectB)\n",
    "print('Effect : C',EffectC)"
   ]
  },
  {
   "cell_type": "markdown",
   "id": "b5ce57da",
   "metadata": {},
   "source": [
    "# CONTRAST"
   ]
  },
  {
   "cell_type": "code",
   "execution_count": 14,
   "id": "9c1a8ab7",
   "metadata": {},
   "outputs": [],
   "source": [
    "ContrastA = (k.iloc[1,-1] + k.iloc[3,-1] - k.iloc[0,-1] - k.iloc[2,-1])\n",
    "ContrastB = (k.iloc[2,-1] + k.iloc[3,-1] - k.iloc[0,-1] - k.iloc[1,-1])\n",
    "ContrastC = (k.iloc[3,-1] + k.iloc[0,-1] +  k.iloc[1,-1] + k.iloc[2,-1])"
   ]
  },
  {
   "cell_type": "code",
   "execution_count": 15,
   "id": "58ae4e98",
   "metadata": {},
   "outputs": [
    {
     "name": "stdout",
     "output_type": "stream",
     "text": [
      "Contrast A: -30\n",
      "Contrast B 50\n",
      "Contrast C 10\n"
     ]
    }
   ],
   "source": [
    "print('Contrast A:',ContrastA)\n",
    "print('Contrast B',ContrastB)\n",
    "print('Contrast C',ContrastC)"
   ]
  },
  {
   "cell_type": "markdown",
   "id": "55372226",
   "metadata": {},
   "source": [
    "# SUM of SQUARES"
   ]
  },
  {
   "cell_type": "code",
   "execution_count": 16,
   "id": "4b6fcc7a",
   "metadata": {},
   "outputs": [],
   "source": [
    "SS_A = ((ContrastA)**2)/(3*4)\n",
    "SS_B = ((ContrastB)**2)/(3*4)\n",
    "SS_C = ((ContrastC)**2)/(3*4)"
   ]
  },
  {
   "cell_type": "code",
   "execution_count": 17,
   "id": "30df69ce",
   "metadata": {},
   "outputs": [
    {
     "name": "stdout",
     "output_type": "stream",
     "text": [
      "SS A 208.33333333333334\n",
      "SS B 75.0\n",
      "SS C 8.333333333333334\n"
     ]
    }
   ],
   "source": [
    "print('SS A',SS_B)\n",
    "print('SS B',SS_A)\n",
    "print('SS C',SS_C)"
   ]
  },
  {
   "cell_type": "markdown",
   "id": "ffa51186",
   "metadata": {},
   "source": [
    "# MEAN SQUARE ERROR"
   ]
  },
  {
   "cell_type": "code",
   "execution_count": 18,
   "id": "86b3b152",
   "metadata": {},
   "outputs": [
    {
     "name": "stdout",
     "output_type": "stream",
     "text": [
      "MS A: 208.33333333333334\n",
      "MS B: 75.0\n",
      "MS C: 8.333333333333334\n"
     ]
    }
   ],
   "source": [
    "MS_B= SS_B/1\n",
    "MS_A = SS_A/1\n",
    "MS_C = SS_C/1\n",
    "\n",
    "print('MS A:',SS_B/1)\n",
    "print('MS B:',SS_A/1)\n",
    "print('MS C:',SS_C/1)"
   ]
  },
  {
   "cell_type": "markdown",
   "id": "5b70d241",
   "metadata": {},
   "source": [
    "# SUM OF SQUARE OF TOTAL(SST)"
   ]
  },
  {
   "cell_type": "code",
   "execution_count": 19,
   "id": "6b538d89",
   "metadata": {},
   "outputs": [],
   "source": [
    "all_val = []\n",
    "for i in k.iloc[:,2:5]:\n",
    "    val = k[i].values\n",
    "    for j in val:\n",
    "        all_val.append(j)"
   ]
  },
  {
   "cell_type": "code",
   "execution_count": 20,
   "id": "21caefad",
   "metadata": {},
   "outputs": [
    {
     "name": "stdout",
     "output_type": "stream",
     "text": [
      "mean: 27.5\n",
      "Values: [28, 36, 18, 31, 25, 32, 19, 30, 27, 32, 23, 29]\n"
     ]
    }
   ],
   "source": [
    "avg = np.mean(all_val)\n",
    "print('mean:',avg)\n",
    "print('Values:',all_val)"
   ]
  },
  {
   "cell_type": "code",
   "execution_count": 21,
   "id": "0d72f1a9",
   "metadata": {},
   "outputs": [],
   "source": [
    "ds = []\n",
    "for i in all_val:\n",
    "    ds1 = np.sum((i-avg)**2)\n",
    "#     print(ds1)\n",
    "    ds.append(ds1)\n",
    "    \n",
    "sst = np.sum(ds)\n",
    "msq = np.sum(ds)/(len(all_val)-1)"
   ]
  },
  {
   "cell_type": "code",
   "execution_count": 22,
   "id": "8b41e862",
   "metadata": {},
   "outputs": [
    {
     "data": {
      "text/plain": [
       "323.0"
      ]
     },
     "execution_count": 22,
     "metadata": {},
     "output_type": "execute_result"
    }
   ],
   "source": [
    "sst"
   ]
  },
  {
   "cell_type": "code",
   "execution_count": 23,
   "id": "b855572a",
   "metadata": {},
   "outputs": [
    {
     "data": {
      "text/plain": [
       "29.363636363636363"
      ]
     },
     "execution_count": 23,
     "metadata": {},
     "output_type": "execute_result"
    }
   ],
   "source": [
    "msq"
   ]
  },
  {
   "cell_type": "markdown",
   "id": "c019cbe5",
   "metadata": {},
   "source": [
    "# SUM OF SQUARE OF ERROR"
   ]
  },
  {
   "cell_type": "code",
   "execution_count": 24,
   "id": "bf645b01",
   "metadata": {},
   "outputs": [
    {
     "data": {
      "text/plain": [
       "31.33333333333332"
      ]
     },
     "execution_count": 24,
     "metadata": {},
     "output_type": "execute_result"
    }
   ],
   "source": [
    "SSE = sst -SS_B-SS_A-SS_C\n",
    "SSE"
   ]
  },
  {
   "cell_type": "code",
   "execution_count": 25,
   "id": "f1d3184d",
   "metadata": {},
   "outputs": [
    {
     "data": {
      "text/plain": [
       "3.916666666666665"
      ]
     },
     "execution_count": 25,
     "metadata": {},
     "output_type": "execute_result"
    }
   ],
   "source": [
    "MSE = sst -SS_B-SS_A-SS_C\n",
    "MSE = SSE/8\n",
    "MSE"
   ]
  },
  {
   "cell_type": "markdown",
   "id": "189a254d",
   "metadata": {},
   "source": [
    "# ANOVA TABLE"
   ]
  },
  {
   "cell_type": "code",
   "execution_count": 26,
   "id": "94d72285",
   "metadata": {},
   "outputs": [
    {
     "data": {
      "text/html": [
       "<div>\n",
       "<style scoped>\n",
       "    .dataframe tbody tr th:only-of-type {\n",
       "        vertical-align: middle;\n",
       "    }\n",
       "\n",
       "    .dataframe tbody tr th {\n",
       "        vertical-align: top;\n",
       "    }\n",
       "\n",
       "    .dataframe thead tr th {\n",
       "        text-align: left;\n",
       "    }\n",
       "\n",
       "    .dataframe thead tr:last-of-type th {\n",
       "        text-align: right;\n",
       "    }\n",
       "</style>\n",
       "<table border=\"1\" class=\"dataframe\">\n",
       "  <thead>\n",
       "    <tr>\n",
       "      <th></th>\n",
       "      <th>Sum of Squares</th>\n",
       "      <th>Degree of Freedom</th>\n",
       "      <th>Mean square</th>\n",
       "      <th>F-Critical</th>\n",
       "      <th>P-value</th>\n",
       "    </tr>\n",
       "    <tr>\n",
       "      <th>Sources of Variation</th>\n",
       "      <th></th>\n",
       "      <th></th>\n",
       "      <th></th>\n",
       "      <th></th>\n",
       "      <th></th>\n",
       "    </tr>\n",
       "  </thead>\n",
       "  <tbody>\n",
       "    <tr>\n",
       "      <th>A</th>\n",
       "      <td>208.333333</td>\n",
       "      <td>1</td>\n",
       "      <td>208.333333</td>\n",
       "      <td>53.15</td>\n",
       "      <td>0.0001</td>\n",
       "    </tr>\n",
       "    <tr>\n",
       "      <th>B</th>\n",
       "      <td>75.000000</td>\n",
       "      <td>1</td>\n",
       "      <td>75.000000</td>\n",
       "      <td>19.13</td>\n",
       "      <td>0.0024</td>\n",
       "    </tr>\n",
       "    <tr>\n",
       "      <th>AB</th>\n",
       "      <td>8.333333</td>\n",
       "      <td>1</td>\n",
       "      <td>8.333333</td>\n",
       "      <td>2.13</td>\n",
       "      <td>0.1826</td>\n",
       "    </tr>\n",
       "    <tr>\n",
       "      <th>Error</th>\n",
       "      <td>31.333333</td>\n",
       "      <td>8</td>\n",
       "      <td>3.916667</td>\n",
       "      <td>NA</td>\n",
       "      <td>NA</td>\n",
       "    </tr>\n",
       "    <tr>\n",
       "      <th>Total</th>\n",
       "      <td>323.000000</td>\n",
       "      <td>11</td>\n",
       "      <td>25.916667</td>\n",
       "      <td>NA</td>\n",
       "      <td>NA</td>\n",
       "    </tr>\n",
       "  </tbody>\n",
       "</table>\n",
       "</div>"
      ],
      "text/plain": [
       "                     Sum of Squares Degree of Freedom Mean square F-Critical  \\\n",
       "Sources of Variation                                                           \n",
       "A                        208.333333                 1  208.333333      53.15   \n",
       "B                         75.000000                 1   75.000000      19.13   \n",
       "AB                         8.333333                 1    8.333333       2.13   \n",
       "Error                     31.333333                 8    3.916667         NA   \n",
       "Total                    323.000000                11   25.916667         NA   \n",
       "\n",
       "                     P-value  \n",
       "Sources of Variation          \n",
       "A                     0.0001  \n",
       "B                     0.0024  \n",
       "AB                    0.1826  \n",
       "Error                     NA  \n",
       "Total                     NA  "
      ]
     },
     "execution_count": 26,
     "metadata": {},
     "output_type": "execute_result"
    }
   ],
   "source": [
    "n=len(all_val)\n",
    "df=pd.DataFrame([\n",
    "    \n",
    "             [SS_B,1,SS_B/1, 53.15,0.0001],\n",
    "             [SS_A,1,SS_A/1,19.13,0.0024],\n",
    "             [SS_C,1,SS_C/1,2.13, 0.1826],\n",
    "             [SSE, 8,SSE/8, \"NA\", \"NA\"],\n",
    "             [sst,n-1,sst/n-1,'NA','NA']\n",
    "]\n",
    "\n",
    ")\n",
    "df.index = [['A',\"B\",\"AB\",\"Error\",\"Total\"]]\n",
    "df.columns= [['Sum of Squares','Degree of Freedom','Mean square','F-Critical','P-value']]\n",
    "df.index.rename('Sources of Variation',inplace=True)\n",
    "df"
   ]
  }
 ],
 "metadata": {
  "kernelspec": {
   "display_name": "Python 3 (ipykernel)",
   "language": "python",
   "name": "python3"
  },
  "language_info": {
   "codemirror_mode": {
    "name": "ipython",
    "version": 3
   },
   "file_extension": ".py",
   "mimetype": "text/x-python",
   "name": "python",
   "nbconvert_exporter": "python",
   "pygments_lexer": "ipython3",
   "version": "3.9.12"
  }
 },
 "nbformat": 4,
 "nbformat_minor": 5
}
