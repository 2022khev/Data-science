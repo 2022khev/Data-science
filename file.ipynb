{
 "cells": [
  {
   "cell_type": "code",
   "execution_count": 1,
   "id": "8848d0ee-c0ab-4a29-ad63-718e5af3a161",
   "metadata": {},
   "outputs": [],
   "source": [
    "# Write the Streamlit app code to a Python file\n",
    "with open(\"simple_streamlit_app.py\", \"w\") as f:\n",
    "    f.write('''import streamlit as st\n",
    "\n",
    "# Streamlit App Title\n",
    "st.title(\"Simple Streamlit App\")\n",
    "\n",
    "# Text input\n",
    "name = st.text_input(\"Enter your name:\")\n",
    "\n",
    "# Display input\n",
    "if name:\n",
    "    st.write(f\"Hello, {name}! Welcome to the Streamlit app.\")\n",
    "''')\n"
   ]
  }
 ],
 "metadata": {
  "kernelspec": {
   "display_name": "Python 3 (ipykernel)",
   "language": "python",
   "name": "python3"
  },
  "language_info": {
   "codemirror_mode": {
    "name": "ipython",
    "version": 3
   },
   "file_extension": ".py",
   "mimetype": "text/x-python",
   "name": "python",
   "nbconvert_exporter": "python",
   "pygments_lexer": "ipython3",
   "version": "3.12.4"
  }
 },
 "nbformat": 4,
 "nbformat_minor": 5
}
