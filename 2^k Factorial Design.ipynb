{
 "cells": [
  {
   "cell_type": "markdown",
   "id": "118ce0d9",
   "metadata": {},
   "source": [
    "# 2^K Factorial Design"
   ]
  },
  {
   "cell_type": "code",
   "execution_count": null,
   "id": "2ae0e22b",
   "metadata": {},
   "outputs": [],
   "source": [
    "import pandas as pd\n",
    "import numpy as np\n",
    "import matplotlib.pyplot as plt"
   ]
  },
  {
   "cell_type": "code",
   "execution_count": 2,
   "id": "3d7262cb",
   "metadata": {},
   "outputs": [],
   "source": [
    "k=pd.DataFrame({\n",
    "             'A' : [-1,+1,-1,+1],\n",
    "             'B' : [-1,-1,+1,+1],\n",
    "              'I':[28,36,18,31],\n",
    "              'II':[25,32,19,30],\n",
    "               'III':[27,32,23,29]\n",
    "             }\n",
    "            )\n",
    "k.index = [['(1)','a','b','ab']]"
   ]
  },
  {
   "cell_type": "code",
   "execution_count": 3,
   "id": "d0981e4b",
   "metadata": {},
   "outputs": [
    {
     "data": {
      "text/html": [
       "<div>\n",
       "<style scoped>\n",
       "    .dataframe tbody tr th:only-of-type {\n",
       "        vertical-align: middle;\n",
       "    }\n",
       "\n",
       "    .dataframe tbody tr th {\n",
       "        vertical-align: top;\n",
       "    }\n",
       "\n",
       "    .dataframe thead th {\n",
       "        text-align: right;\n",
       "    }\n",
       "</style>\n",
       "<table border=\"1\" class=\"dataframe\">\n",
       "  <thead>\n",
       "    <tr style=\"text-align: right;\">\n",
       "      <th></th>\n",
       "      <th>A</th>\n",
       "      <th>B</th>\n",
       "      <th>I</th>\n",
       "      <th>II</th>\n",
       "      <th>III</th>\n",
       "      <th>Total</th>\n",
       "      <th>Final</th>\n",
       "    </tr>\n",
       "  </thead>\n",
       "  <tbody>\n",
       "    <tr>\n",
       "      <th>(1)</th>\n",
       "      <td>-1</td>\n",
       "      <td>-1</td>\n",
       "      <td>28</td>\n",
       "      <td>25</td>\n",
       "      <td>27</td>\n",
       "      <td>80</td>\n",
       "      <td>80</td>\n",
       "    </tr>\n",
       "    <tr>\n",
       "      <th>a</th>\n",
       "      <td>1</td>\n",
       "      <td>-1</td>\n",
       "      <td>36</td>\n",
       "      <td>32</td>\n",
       "      <td>32</td>\n",
       "      <td>100</td>\n",
       "      <td>-100</td>\n",
       "    </tr>\n",
       "    <tr>\n",
       "      <th>b</th>\n",
       "      <td>-1</td>\n",
       "      <td>1</td>\n",
       "      <td>18</td>\n",
       "      <td>19</td>\n",
       "      <td>23</td>\n",
       "      <td>60</td>\n",
       "      <td>-60</td>\n",
       "    </tr>\n",
       "    <tr>\n",
       "      <th>ab</th>\n",
       "      <td>1</td>\n",
       "      <td>1</td>\n",
       "      <td>31</td>\n",
       "      <td>30</td>\n",
       "      <td>29</td>\n",
       "      <td>90</td>\n",
       "      <td>90</td>\n",
       "    </tr>\n",
       "  </tbody>\n",
       "</table>\n",
       "</div>"
      ],
      "text/plain": [
       "     A  B   I  II  III  Total  Final\n",
       "(1) -1 -1  28  25   27     80     80\n",
       "a    1 -1  36  32   32    100   -100\n",
       "b   -1  1  18  19   23     60    -60\n",
       "ab   1  1  31  30   29     90     90"
      ]
     },
     "execution_count": 3,
     "metadata": {},
     "output_type": "execute_result"
    }
   ],
   "source": [
    "k['Total']=k.iloc[:,2:].sum(axis=1)\n",
    "k['Final'] = k['A'] *k['B'] * k['Total']\n",
    "k"
   ]
  },
  {
   "cell_type": "markdown",
   "id": "e44f18e4",
   "metadata": {},
   "source": [
    "# EFFECTS"
   ]
  },
  {
   "cell_type": "code",
   "execution_count": 4,
   "id": "6cd0355c",
   "metadata": {},
   "outputs": [],
   "source": [
    "EffectA = (k.iloc[1,-1] + k.iloc[3,-1] - k.iloc[0,-1] - k.iloc[2,-1])/(2 * 3) \n",
    "EffectB = (k.iloc[2,-1] + k.iloc[3,-1] - k.iloc[0,-1] - k.iloc[1,-1])/(2 * 3)\n",
    "EffectC = (k.iloc[3,-1] + k.iloc[0,-1] +  k.iloc[1,-1] + k.iloc[2,-1])/(2 * 3)"
   ]
  },
  {
   "cell_type": "code",
   "execution_count": 5,
   "id": "1233670e",
   "metadata": {},
   "outputs": [
    {
     "name": "stdout",
     "output_type": "stream",
     "text": [
      "Effect A: -5.0\n",
      "Effect :B 8.333333333333334\n",
      "Effect : C 1.6666666666666667\n"
     ]
    }
   ],
   "source": [
    "print('Effect A:',EffectA)\n",
    "print('Effect :B',EffectB)\n",
    "print('Effect : C',EffectC)"
   ]
  },
  {
   "cell_type": "markdown",
   "id": "979f0a0f",
   "metadata": {},
   "source": [
    "# CONTRAST"
   ]
  },
  {
   "cell_type": "code",
   "execution_count": 6,
   "id": "2856036e",
   "metadata": {},
   "outputs": [],
   "source": [
    "ContrastA = (k.iloc[1,-1] + k.iloc[3,-1] - k.iloc[0,-1] - k.iloc[2,-1])\n",
    "ContrastB = (k.iloc[2,-1] + k.iloc[3,-1] - k.iloc[0,-1] - k.iloc[1,-1])\n",
    "ContrastC = (k.iloc[3,-1] + k.iloc[0,-1] +  k.iloc[1,-1] + k.iloc[2,-1])"
   ]
  },
  {
   "cell_type": "code",
   "execution_count": 7,
   "id": "d181f5f1",
   "metadata": {},
   "outputs": [
    {
     "name": "stdout",
     "output_type": "stream",
     "text": [
      "Contrast A: -30\n",
      "Contrast B 50\n",
      "Contrast C 10\n"
     ]
    }
   ],
   "source": [
    "print('Contrast A:',ContrastA)\n",
    "print('Contrast B',ContrastB)\n",
    "print('Contrast C',ContrastC)"
   ]
  },
  {
   "cell_type": "markdown",
   "id": "b5998ee9",
   "metadata": {},
   "source": [
    "# SUM OF SQUARES"
   ]
  },
  {
   "cell_type": "code",
   "execution_count": 8,
   "id": "4e698f4b",
   "metadata": {},
   "outputs": [],
   "source": [
    "SS_A = ((ContrastA)**2)/(3*4)\n",
    "SS_B = ((ContrastB)**2)/(3*4)\n",
    "SS_C = ((ContrastC)**2)/(3*4)"
   ]
  },
  {
   "cell_type": "code",
   "execution_count": 9,
   "id": "6359dd3e",
   "metadata": {},
   "outputs": [
    {
     "name": "stdout",
     "output_type": "stream",
     "text": [
      "SS A 208.33333333333334\n",
      "SS B 75.0\n",
      "SS C 8.333333333333334\n"
     ]
    }
   ],
   "source": [
    "print('SS A',SS_B)\n",
    "print('SS B',SS_A)\n",
    "print('SS C',SS_C)"
   ]
  },
  {
   "cell_type": "markdown",
   "id": "89c46108",
   "metadata": {},
   "source": [
    "# Mean Square Error"
   ]
  },
  {
   "cell_type": "code",
   "execution_count": 10,
   "id": "8f5edb50",
   "metadata": {},
   "outputs": [
    {
     "name": "stdout",
     "output_type": "stream",
     "text": [
      "MS A: 208.33333333333334\n",
      "MS B: 75.0\n",
      "MS C: 8.333333333333334\n"
     ]
    }
   ],
   "source": [
    "MS_B= SS_B/1\n",
    "MS_A = SS_A/1\n",
    "MS_C = SS_C/1\n",
    "\n",
    "print('MS A:',SS_B/1)\n",
    "print('MS B:',SS_A/1)\n",
    "print('MS C:',SS_C/1)"
   ]
  },
  {
   "cell_type": "code",
   "execution_count": 11,
   "id": "1217da56",
   "metadata": {},
   "outputs": [],
   "source": [
    "MS_A = ((ContrastA))/1\n",
    "MS_B = ((ContrastB))/1\n",
    "MS_C = ((ContrastC))/1"
   ]
  },
  {
   "cell_type": "code",
   "execution_count": 12,
   "id": "36fdf05c",
   "metadata": {},
   "outputs": [
    {
     "name": "stdout",
     "output_type": "stream",
     "text": [
      "MS A: 208.33333333333334\n",
      "MS B: 75.0\n",
      "MS C: 8.333333333333334\n"
     ]
    }
   ],
   "source": [
    "print('MS A:',SS_B/1)\n",
    "print('MS B:',SS_A/1)\n",
    "print('MS C:',SS_C/1)"
   ]
  },
  {
   "cell_type": "markdown",
   "id": "7e30b478",
   "metadata": {},
   "source": [
    "# SUM SQUARE OF TOTAL (SST)"
   ]
  },
  {
   "cell_type": "code",
   "execution_count": 13,
   "id": "e9217e3d",
   "metadata": {},
   "outputs": [],
   "source": [
    "all_val = []\n",
    "for i in k.iloc[:,2:5]:\n",
    "    val = k[i].values\n",
    "    for j in val:\n",
    "        all_val.append(j)"
   ]
  },
  {
   "cell_type": "code",
   "execution_count": 14,
   "id": "8cff9901",
   "metadata": {},
   "outputs": [
    {
     "name": "stdout",
     "output_type": "stream",
     "text": [
      "mean: 27.5\n",
      "Values: [28, 36, 18, 31, 25, 32, 19, 30, 27, 32, 23, 29]\n"
     ]
    }
   ],
   "source": [
    "avg = np.mean(all_val)\n",
    "print('mean:',avg)\n",
    "print('Values:',all_val)"
   ]
  },
  {
   "cell_type": "code",
   "execution_count": 15,
   "id": "cee00483",
   "metadata": {},
   "outputs": [],
   "source": [
    "ds = []\n",
    "for i in all_val:\n",
    "    ds1 = np.sum((i-avg)**2)\n",
    "#     print(ds1)\n",
    "    ds.append(ds1)\n",
    "    \n",
    "sst = np.sum(ds)\n",
    "msq = np.sum(ds)/(len(all_val)-1)"
   ]
  },
  {
   "cell_type": "code",
   "execution_count": 16,
   "id": "3a8669d8",
   "metadata": {},
   "outputs": [
    {
     "data": {
      "text/plain": [
       "323.0"
      ]
     },
     "execution_count": 16,
     "metadata": {},
     "output_type": "execute_result"
    }
   ],
   "source": [
    "sst"
   ]
  },
  {
   "cell_type": "code",
   "execution_count": 17,
   "id": "2a416010",
   "metadata": {},
   "outputs": [
    {
     "data": {
      "text/plain": [
       "29.363636363636363"
      ]
     },
     "execution_count": 17,
     "metadata": {},
     "output_type": "execute_result"
    }
   ],
   "source": [
    "msq"
   ]
  },
  {
   "cell_type": "markdown",
   "id": "34ea4767",
   "metadata": {},
   "source": [
    "# SUM SQUARE OF ERROR(SSE)"
   ]
  },
  {
   "cell_type": "code",
   "execution_count": 18,
   "id": "f459a1f9",
   "metadata": {},
   "outputs": [
    {
     "data": {
      "text/plain": [
       "31.33333333333332"
      ]
     },
     "execution_count": 18,
     "metadata": {},
     "output_type": "execute_result"
    }
   ],
   "source": [
    "SSE = sst -SS_B-SS_A-SS_C\n",
    "SSE"
   ]
  },
  {
   "cell_type": "code",
   "execution_count": 19,
   "id": "c8b9ca79",
   "metadata": {},
   "outputs": [
    {
     "data": {
      "text/plain": [
       "3.916666666666665"
      ]
     },
     "execution_count": 19,
     "metadata": {},
     "output_type": "execute_result"
    }
   ],
   "source": [
    "MSE = sst -SS_B-SS_A-SS_C\n",
    "MSE = SSE/8\n",
    "MSE"
   ]
  },
  {
   "cell_type": "markdown",
   "id": "132a0724",
   "metadata": {},
   "source": [
    "# ANOVA "
   ]
  },
  {
   "cell_type": "code",
   "execution_count": 21,
   "id": "4a9ccd07",
   "metadata": {},
   "outputs": [
    {
     "data": {
      "text/html": [
       "<div>\n",
       "<style scoped>\n",
       "    .dataframe tbody tr th:only-of-type {\n",
       "        vertical-align: middle;\n",
       "    }\n",
       "\n",
       "    .dataframe tbody tr th {\n",
       "        vertical-align: top;\n",
       "    }\n",
       "\n",
       "    .dataframe thead tr th {\n",
       "        text-align: left;\n",
       "    }\n",
       "\n",
       "    .dataframe thead tr:last-of-type th {\n",
       "        text-align: right;\n",
       "    }\n",
       "</style>\n",
       "<table border=\"1\" class=\"dataframe\">\n",
       "  <thead>\n",
       "    <tr>\n",
       "      <th></th>\n",
       "      <th>Sum of Squares</th>\n",
       "      <th>Degree of Freedom</th>\n",
       "      <th>Mean square</th>\n",
       "      <th>F-Critical</th>\n",
       "      <th>P-value</th>\n",
       "    </tr>\n",
       "    <tr>\n",
       "      <th>Sources of Variation</th>\n",
       "      <th></th>\n",
       "      <th></th>\n",
       "      <th></th>\n",
       "      <th></th>\n",
       "      <th></th>\n",
       "    </tr>\n",
       "  </thead>\n",
       "  <tbody>\n",
       "    <tr>\n",
       "      <th>A</th>\n",
       "      <td>208.333333</td>\n",
       "      <td>1</td>\n",
       "      <td>208.333333</td>\n",
       "      <td>53.15</td>\n",
       "      <td>0.0001</td>\n",
       "    </tr>\n",
       "    <tr>\n",
       "      <th>B</th>\n",
       "      <td>75.000000</td>\n",
       "      <td>1</td>\n",
       "      <td>75.000000</td>\n",
       "      <td>19.13</td>\n",
       "      <td>0.0024</td>\n",
       "    </tr>\n",
       "    <tr>\n",
       "      <th>AB</th>\n",
       "      <td>8.333333</td>\n",
       "      <td>1</td>\n",
       "      <td>8.333333</td>\n",
       "      <td>2.13</td>\n",
       "      <td>0.1826</td>\n",
       "    </tr>\n",
       "    <tr>\n",
       "      <th>Error</th>\n",
       "      <td>31.333333</td>\n",
       "      <td>8</td>\n",
       "      <td>3.916667</td>\n",
       "      <td>NA</td>\n",
       "      <td>NA</td>\n",
       "    </tr>\n",
       "    <tr>\n",
       "      <th>Total</th>\n",
       "      <td>323.000000</td>\n",
       "      <td>11</td>\n",
       "      <td>25.916667</td>\n",
       "      <td>NA</td>\n",
       "      <td>NA</td>\n",
       "    </tr>\n",
       "  </tbody>\n",
       "</table>\n",
       "</div>"
      ],
      "text/plain": [
       "                     Sum of Squares Degree of Freedom Mean square F-Critical  \\\n",
       "Sources of Variation                                                           \n",
       "A                        208.333333                 1  208.333333      53.15   \n",
       "B                         75.000000                 1   75.000000      19.13   \n",
       "AB                         8.333333                 1    8.333333       2.13   \n",
       "Error                     31.333333                 8    3.916667         NA   \n",
       "Total                    323.000000                11   25.916667         NA   \n",
       "\n",
       "                     P-value  \n",
       "Sources of Variation          \n",
       "A                     0.0001  \n",
       "B                     0.0024  \n",
       "AB                    0.1826  \n",
       "Error                     NA  \n",
       "Total                     NA  "
      ]
     },
     "execution_count": 21,
     "metadata": {},
     "output_type": "execute_result"
    }
   ],
   "source": [
    "n=len(all_val)\n",
    "df=pd.DataFrame([\n",
    "    \n",
    "             [SS_B,1,SS_B/1, 53.15,0.0001],\n",
    "             [SS_A,1,SS_A/1,19.13,0.0024],\n",
    "             [SS_C,1,SS_C/1,2.13, 0.1826],\n",
    "             [SSE, 8,SSE/8, \"NA\", \"NA\"],\n",
    "             [sst,n-1,sst/n-1,'NA','NA']\n",
    "]\n",
    "\n",
    ")\n",
    "df.index = [['A',\"B\",\"AB\",\"Error\",\"Total\"]]\n",
    "df.columns= [['Sum of Squares','Degree of Freedom','Mean square','F-Critical','P-value']]\n",
    "df.index.rename('Sources of Variation',inplace=True)\n",
    "df"
   ]
  }
 ],
 "metadata": {
  "kernelspec": {
   "display_name": "Python 3 (ipykernel)",
   "language": "python",
   "name": "python3"
  },
  "language_info": {
   "codemirror_mode": {
    "name": "ipython",
    "version": 3
   },
   "file_extension": ".py",
   "mimetype": "text/x-python",
   "name": "python",
   "nbconvert_exporter": "python",
   "pygments_lexer": "ipython3",
   "version": "3.9.12"
  }
 },
 "nbformat": 4,
 "nbformat_minor": 5
}
