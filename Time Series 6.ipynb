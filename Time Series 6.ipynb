{
 "cells": [
  {
   "cell_type": "code",
   "execution_count": 1,
   "id": "8aedb9c7",
   "metadata": {},
   "outputs": [],
   "source": [
    "import pandas as pd\n",
    "import numpy as np"
   ]
  },
  {
   "cell_type": "code",
   "execution_count": 2,
   "id": "c3bcf31f",
   "metadata": {},
   "outputs": [
    {
     "name": "stdout",
     "output_type": "stream",
     "text": [
      "Shape of data (29580, 4)\n"
     ]
    },
    {
     "data": {
      "text/html": [
       "<div>\n",
       "<style scoped>\n",
       "    .dataframe tbody tr th:only-of-type {\n",
       "        vertical-align: middle;\n",
       "    }\n",
       "\n",
       "    .dataframe tbody tr th {\n",
       "        vertical-align: top;\n",
       "    }\n",
       "\n",
       "    .dataframe thead th {\n",
       "        text-align: right;\n",
       "    }\n",
       "</style>\n",
       "<table border=\"1\" class=\"dataframe\">\n",
       "  <thead>\n",
       "    <tr style=\"text-align: right;\">\n",
       "      <th></th>\n",
       "      <th>postcode</th>\n",
       "      <th>price</th>\n",
       "      <th>propertyType</th>\n",
       "      <th>bedrooms</th>\n",
       "    </tr>\n",
       "    <tr>\n",
       "      <th>datesold</th>\n",
       "      <th></th>\n",
       "      <th></th>\n",
       "      <th></th>\n",
       "      <th></th>\n",
       "    </tr>\n",
       "  </thead>\n",
       "  <tbody>\n",
       "    <tr>\n",
       "      <th>2007-02-07</th>\n",
       "      <td>2607</td>\n",
       "      <td>525000</td>\n",
       "      <td>house</td>\n",
       "      <td>4</td>\n",
       "    </tr>\n",
       "    <tr>\n",
       "      <th>2007-02-27</th>\n",
       "      <td>2906</td>\n",
       "      <td>290000</td>\n",
       "      <td>house</td>\n",
       "      <td>3</td>\n",
       "    </tr>\n",
       "    <tr>\n",
       "      <th>2007-03-07</th>\n",
       "      <td>2905</td>\n",
       "      <td>328000</td>\n",
       "      <td>house</td>\n",
       "      <td>3</td>\n",
       "    </tr>\n",
       "    <tr>\n",
       "      <th>2007-03-09</th>\n",
       "      <td>2905</td>\n",
       "      <td>380000</td>\n",
       "      <td>house</td>\n",
       "      <td>4</td>\n",
       "    </tr>\n",
       "    <tr>\n",
       "      <th>2007-03-21</th>\n",
       "      <td>2906</td>\n",
       "      <td>310000</td>\n",
       "      <td>house</td>\n",
       "      <td>3</td>\n",
       "    </tr>\n",
       "  </tbody>\n",
       "</table>\n",
       "</div>"
      ],
      "text/plain": [
       "            postcode   price propertyType  bedrooms\n",
       "datesold                                           \n",
       "2007-02-07      2607  525000        house         4\n",
       "2007-02-27      2906  290000        house         3\n",
       "2007-03-07      2905  328000        house         3\n",
       "2007-03-09      2905  380000        house         4\n",
       "2007-03-21      2906  310000        house         3"
      ]
     },
     "execution_count": 2,
     "metadata": {},
     "output_type": "execute_result"
    }
   ],
   "source": [
    "data= pd.read_csv(r\"C:\\Users\\kelvin\\Downloads\\archive (30)\\raw_sales.csv\",index_col=0,parse_dates=True)\n",
    "data = data.dropna()\n",
    "print('Shape of data',data.shape)\n",
    "data.head()"
   ]
  },
  {
   "cell_type": "code",
   "execution_count": 3,
   "id": "6ee4b67f",
   "metadata": {},
   "outputs": [
    {
     "data": {
      "text/plain": [
       "<AxesSubplot:xlabel='datesold'>"
      ]
     },
     "execution_count": 3,
     "metadata": {},
     "output_type": "execute_result"
    },
    {
     "data": {
      "image/png": "[encoded data removed]",
      "text/plain": [
       "<Figure size 864x360 with 1 Axes>"
      ]
     },
     "metadata": {
      "needs_background": "light"
     },
     "output_type": "display_data"
    }
   ],
   "source": [
    "data['price'].plot(figsize=(12,5),grid=True)"
   ]
  },
  {
   "cell_type": "code",
   "execution_count": 4,
   "id": "b8d875cd",
   "metadata": {},
   "outputs": [],
   "source": [
    "from statsmodels.tsa.stattools import adfuller\n",
    "\n",
    "def ad_tes(dataset):\n",
    "    dftest = adfuller(dataset,autolag='AIC')\n",
    "    print('1.ADF:',dftest[0])\n",
    "    print('2. P-value:',dftest[1])\n",
    "    print('3. Num of lags:',dftest[2])\n",
    "    print('3. Num of the observations used for ADF Regression and critical values calculation:',dftest[3])\n",
    "    print('5. Critical values:')\n",
    "    \n",
    "    for key,val in dftest[4].items():\n",
    "        print(\"\\t\",key,\":\",val) "
   ]
  },
  {
   "cell_type": "code",
   "execution_count": 5,
   "id": "3dc27cfd",
   "metadata": {},
   "outputs": [
    {
     "name": "stdout",
     "output_type": "stream",
     "text": [
      "1.ADF: -10.435026739473482\n",
      "2. P-value: 1.5745251680571834e-18\n",
      "3. Num of lags: 50\n",
      "3. Num of the observations used for ADF Regression and critical values calculation: 29529\n",
      "5. Critical values:\n",
      "\t 1% : -3.4305714727403305\n",
      "\t 5% : -2.8616378849073927\n",
      "\t 10% : -2.566822101159092\n"
     ]
    }
   ],
   "source": [
    "ad_tes(data['price'])"
   ]
  },
  {
   "cell_type": "code",
   "execution_count": 6,
   "id": "b03e3a6e",
   "metadata": {},
   "outputs": [],
   "source": [
    "from pmdarima import auto_arima\n",
    "import warnings\n",
    "warnings.filterwarnings('ignore')"
   ]
  },
  {
   "cell_type": "code",
   "execution_count": 7,
   "id": "fb0c0073",
   "metadata": {},
   "outputs": [
    {
     "name": "stdout",
     "output_type": "stream",
     "text": [
      "Performing stepwise search to minimize aic\n",
      " ARIMA(2,1,2)(0,0,0)[0] intercept   : AIC=inf, Time=16.51 sec\n",
      " ARIMA(0,1,0)(0,0,0)[0] intercept   : AIC=830524.053, Time=0.96 sec\n",
      " ARIMA(1,1,0)(0,0,0)[0] intercept   : AIC=826383.319, Time=1.26 sec\n",
      " ARIMA(0,1,1)(0,0,0)[0] intercept   : AIC=821716.073, Time=7.34 sec\n",
      " ARIMA(0,1,0)(0,0,0)[0]             : AIC=830522.053, Time=0.70 sec\n",
      " ARIMA(1,1,1)(0,0,0)[0] intercept   : AIC=inf, Time=14.61 sec\n",
      " ARIMA(0,1,2)(0,0,0)[0] intercept   : AIC=inf, Time=15.35 sec\n",
      " ARIMA(1,1,2)(0,0,0)[0] intercept   : AIC=inf, Time=23.53 sec\n",
      " ARIMA(0,1,1)(0,0,0)[0]             : AIC=821712.805, Time=6.59 sec\n",
      " ARIMA(1,1,1)(0,0,0)[0]             : AIC=inf, Time=9.72 sec\n",
      " ARIMA(0,1,2)(0,0,0)[0]             : AIC=inf, Time=9.51 sec\n",
      " ARIMA(1,1,0)(0,0,0)[0]             : AIC=826381.319, Time=1.03 sec\n",
      " ARIMA(1,1,2)(0,0,0)[0]             : AIC=inf, Time=14.77 sec\n",
      "\n",
      "Best model:  ARIMA(0,1,1)(0,0,0)[0]          \n",
      "Total fit time: 122.022 seconds\n"
     ]
    },
    {
     "data": {
      "text/html": [
       "<table class=\"simpletable\">\n",
       "<caption>SARIMAX Results</caption>\n",
       "<tr>\n",
       "  <th>Dep. Variable:</th>           <td>y</td>        <th>  No. Observations:  </th>    <td>29580</td>   \n",
       "</tr>\n",
       "<tr>\n",
       "  <th>Model:</th>           <td>SARIMAX(0, 1, 1)</td> <th>  Log Likelihood     </th> <td>-410854.402</td>\n",
       "</tr>\n",
       "<tr>\n",
       "  <th>Date:</th>            <td>Mon, 03 Apr 2023</td> <th>  AIC                </th> <td>821712.805</td> \n",
       "</tr>\n",
       "<tr>\n",
       "  <th>Time:</th>                <td>22:59:01</td>     <th>  BIC                </th> <td>821729.395</td> \n",
       "</tr>\n",
       "<tr>\n",
       "  <th>Sample:</th>                  <td>0</td>        <th>  HQIC               </th> <td>821718.131</td> \n",
       "</tr>\n",
       "<tr>\n",
       "  <th></th>                     <td> - 29580</td>     <th>                     </th>      <td> </td>     \n",
       "</tr>\n",
       "<tr>\n",
       "  <th>Covariance Type:</th>        <td>opg</td>       <th>                     </th>      <td> </td>     \n",
       "</tr>\n",
       "</table>\n",
       "<table class=\"simpletable\">\n",
       "<tr>\n",
       "     <td></td>       <th>coef</th>     <th>std err</th>      <th>z</th>      <th>P>|z|</th>  <th>[0.025</th>    <th>0.975]</th>  \n",
       "</tr>\n",
       "<tr>\n",
       "  <th>ma.L1</th>  <td>   -0.9874</td> <td>    0.001</td> <td>-1394.110</td> <td> 0.000</td> <td>   -0.989</td> <td>   -0.986</td>\n",
       "</tr>\n",
       "<tr>\n",
       "  <th>sigma2</th> <td> 7.354e+10</td> <td> 2.28e-15</td> <td> 3.23e+25</td> <td> 0.000</td> <td> 7.35e+10</td> <td> 7.35e+10</td>\n",
       "</tr>\n",
       "</table>\n",
       "<table class=\"simpletable\">\n",
       "<tr>\n",
       "  <th>Ljung-Box (L1) (Q):</th>     <td>2946.89</td> <th>  Jarque-Bera (JB):  </th> <td>6030100.07</td>\n",
       "</tr>\n",
       "<tr>\n",
       "  <th>Prob(Q):</th>                 <td>0.00</td>   <th>  Prob(JB):          </th>    <td>0.00</td>   \n",
       "</tr>\n",
       "<tr>\n",
       "  <th>Heteroskedasticity (H):</th>  <td>1.17</td>   <th>  Skew:              </th>    <td>4.86</td>   \n",
       "</tr>\n",
       "<tr>\n",
       "  <th>Prob(H) (two-sided):</th>     <td>0.00</td>   <th>  Kurtosis:          </th>    <td>72.27</td>  \n",
       "</tr>\n",
       "</table><br/><br/>Warnings:<br/>[1] Covariance matrix calculated using the outer product of gradients (complex-step).<br/>[2] Covariance matrix is singular or near-singular, with condition number 7.16e+38. Standard errors may be unstable."
      ],
      "text/plain": [
       "<class 'statsmodels.iolib.summary.Summary'>\n",
       "\"\"\"\n",
       "                               SARIMAX Results                                \n",
       "==============================================================================\n",
       "Dep. Variable:                      y   No. Observations:                29580\n",
       "Model:               SARIMAX(0, 1, 1)   Log Likelihood             -410854.402\n",
       "Date:                Mon, 03 Apr 2023   AIC                         821712.805\n",
       "Time:                        22:59:01   BIC                         821729.395\n",
       "Sample:                             0   HQIC                        821718.131\n",
       "                              - 29580                                         \n",
       "Covariance Type:                  opg                                         \n",
       "==============================================================================\n",
       "                 coef    std err          z      P>|z|      [0.025      0.975]\n",
       "------------------------------------------------------------------------------\n",
       "ma.L1         -0.9874      0.001  -1394.110      0.000      -0.989      -0.986\n",
       "sigma2      7.354e+10   2.28e-15   3.23e+25      0.000    7.35e+10    7.35e+10\n",
       "===================================================================================\n",
       "Ljung-Box (L1) (Q):                2946.89   Jarque-Bera (JB):           6030100.07\n",
       "Prob(Q):                              0.00   Prob(JB):                         0.00\n",
       "Heteroskedasticity (H):               1.17   Skew:                             4.86\n",
       "Prob(H) (two-sided):                  0.00   Kurtosis:                        72.27\n",
       "===================================================================================\n",
       "\n",
       "Warnings:\n",
       "[1] Covariance matrix calculated using the outer product of gradients (complex-step).\n",
       "[2] Covariance matrix is singular or near-singular, with condition number 7.16e+38. Standard errors may be unstable.\n",
       "\"\"\""
      ]
     },
     "execution_count": 7,
     "metadata": {},
     "output_type": "execute_result"
    }
   ],
   "source": [
    "stepwise_fit = auto_arima(data['price'],trace=True,suppress_warnings = True)\n",
    "\n",
    "stepwise_fit.summary()"
   ]
  },
  {
   "cell_type": "code",
   "execution_count": 8,
   "id": "e5ac68fc",
   "metadata": {},
   "outputs": [],
   "source": [
    "from statsmodels.tsa.arima.model import ARIMA\n"
   ]
  },
  {
   "cell_type": "code",
   "execution_count": 9,
   "id": "12349181",
   "metadata": {},
   "outputs": [
    {
     "name": "stdout",
     "output_type": "stream",
     "text": [
      "(29580, 4)\n",
      "(29550, 4) (30, 4)\n"
     ]
    }
   ],
   "source": [
    "print(data.shape)\n",
    "train = data.iloc[:-30]\n",
    "test = data.iloc[-30:]\n",
    "print(train.shape,test.shape)"
   ]
  },
  {
   "cell_type": "code",
   "execution_count": 21,
   "id": "d60af19b",
   "metadata": {},
   "outputs": [],
   "source": [
    "# from statsmodels.tsa.arima.model import ARIMA\n",
    "\n",
    "# mod = sm.tsa.arima.ARIMA(endog,order=(1,0,0))\n",
    "# res = mod.fit()\n",
    "# print(res.summary())"
   ]
  },
  {
   "cell_type": "code",
   "execution_count": 10,
   "id": "6e6c1f85",
   "metadata": {},
   "outputs": [
    {
     "data": {
      "text/html": [
       "<table class=\"simpletable\">\n",
       "<caption>SARIMAX Results</caption>\n",
       "<tr>\n",
       "  <th>Dep. Variable:</th>         <td>price</td>      <th>  No. Observations:  </th>    <td>29550</td>   \n",
       "</tr>\n",
       "<tr>\n",
       "  <th>Model:</th>            <td>ARIMA(0, 0, 1)</td>  <th>  Log Likelihood     </th> <td>-410544.146</td>\n",
       "</tr>\n",
       "<tr>\n",
       "  <th>Date:</th>            <td>Mon, 03 Apr 2023</td> <th>  AIC                </th> <td>821094.292</td> \n",
       "</tr>\n",
       "<tr>\n",
       "  <th>Time:</th>                <td>22:59:06</td>     <th>  BIC                </th> <td>821119.174</td> \n",
       "</tr>\n",
       "<tr>\n",
       "  <th>Sample:</th>                  <td>0</td>        <th>  HQIC               </th> <td>821102.282</td> \n",
       "</tr>\n",
       "<tr>\n",
       "  <th></th>                     <td> - 29550</td>     <th>                     </th>      <td> </td>     \n",
       "</tr>\n",
       "<tr>\n",
       "  <th>Covariance Type:</th>        <td>opg</td>       <th>                     </th>      <td> </td>     \n",
       "</tr>\n",
       "</table>\n",
       "<table class=\"simpletable\">\n",
       "<tr>\n",
       "     <td></td>       <th>coef</th>     <th>std err</th>      <th>z</th>      <th>P>|z|</th>  <th>[0.025</th>    <th>0.975]</th>  \n",
       "</tr>\n",
       "<tr>\n",
       "  <th>const</th>  <td> 6.099e+05</td> <td> 2290.790</td> <td>  266.255</td> <td> 0.000</td> <td> 6.05e+05</td> <td> 6.14e+05</td>\n",
       "</tr>\n",
       "<tr>\n",
       "  <th>ma.L1</th>  <td>    0.3389</td> <td>    0.002</td> <td>  177.015</td> <td> 0.000</td> <td>    0.335</td> <td>    0.343</td>\n",
       "</tr>\n",
       "<tr>\n",
       "  <th>sigma2</th> <td> 7.036e+10</td> <td>    0.025</td> <td>  2.8e+12</td> <td> 0.000</td> <td> 7.04e+10</td> <td> 7.04e+10</td>\n",
       "</tr>\n",
       "</table>\n",
       "<table class=\"simpletable\">\n",
       "<tr>\n",
       "  <th>Ljung-Box (L1) (Q):</th>     <td>137.87</td> <th>  Jarque-Bera (JB):  </th> <td>5013953.92</td>\n",
       "</tr>\n",
       "<tr>\n",
       "  <th>Prob(Q):</th>                 <td>0.00</td>  <th>  Prob(JB):          </th>    <td>0.00</td>   \n",
       "</tr>\n",
       "<tr>\n",
       "  <th>Heteroskedasticity (H):</th>  <td>1.34</td>  <th>  Skew:              </th>    <td>3.96</td>   \n",
       "</tr>\n",
       "<tr>\n",
       "  <th>Prob(H) (two-sided):</th>     <td>0.00</td>  <th>  Kurtosis:          </th>    <td>66.32</td>  \n",
       "</tr>\n",
       "</table><br/><br/>Warnings:<br/>[1] Covariance matrix calculated using the outer product of gradients (complex-step).<br/>[2] Covariance matrix is singular or near-singular, with condition number 4.84e+25. Standard errors may be unstable."
      ],
      "text/plain": [
       "<class 'statsmodels.iolib.summary.Summary'>\n",
       "\"\"\"\n",
       "                               SARIMAX Results                                \n",
       "==============================================================================\n",
       "Dep. Variable:                  price   No. Observations:                29550\n",
       "Model:                 ARIMA(0, 0, 1)   Log Likelihood             -410544.146\n",
       "Date:                Mon, 03 Apr 2023   AIC                         821094.292\n",
       "Time:                        22:59:06   BIC                         821119.174\n",
       "Sample:                             0   HQIC                        821102.282\n",
       "                              - 29550                                         \n",
       "Covariance Type:                  opg                                         \n",
       "==============================================================================\n",
       "                 coef    std err          z      P>|z|      [0.025      0.975]\n",
       "------------------------------------------------------------------------------\n",
       "const       6.099e+05   2290.790    266.255      0.000    6.05e+05    6.14e+05\n",
       "ma.L1          0.3389      0.002    177.015      0.000       0.335       0.343\n",
       "sigma2      7.036e+10      0.025    2.8e+12      0.000    7.04e+10    7.04e+10\n",
       "===================================================================================\n",
       "Ljung-Box (L1) (Q):                 137.87   Jarque-Bera (JB):           5013953.92\n",
       "Prob(Q):                              0.00   Prob(JB):                         0.00\n",
       "Heteroskedasticity (H):               1.34   Skew:                             3.96\n",
       "Prob(H) (two-sided):                  0.00   Kurtosis:                        66.32\n",
       "===================================================================================\n",
       "\n",
       "Warnings:\n",
       "[1] Covariance matrix calculated using the outer product of gradients (complex-step).\n",
       "[2] Covariance matrix is singular or near-singular, with condition number 4.84e+25. Standard errors may be unstable.\n",
       "\"\"\""
      ]
     },
     "execution_count": 10,
     "metadata": {},
     "output_type": "execute_result"
    }
   ],
   "source": [
    "model = ARIMA(train['price'],order=(0,0,1))\n",
    "model = model.fit()\n",
    "model.summary()"
   ]
  },
  {
   "cell_type": "code",
   "execution_count": 11,
   "id": "f39a6e42",
   "metadata": {},
   "outputs": [
    {
     "name": "stdout",
     "output_type": "stream",
     "text": [
      "datesold\n",
      "2019-07-12    559279.214462\n",
      "2019-07-15    609934.581591\n",
      "2019-07-16    609934.581591\n",
      "2019-07-17    609934.581591\n",
      "2019-07-17    609934.581591\n",
      "2019-07-17    609934.581591\n",
      "2019-07-17    609934.581591\n",
      "2019-07-18    609934.581591\n",
      "2019-07-18    609934.581591\n",
      "2019-07-18    609934.581591\n",
      "2019-07-18    609934.581591\n",
      "2019-07-19    609934.581591\n",
      "2019-07-23    609934.581591\n",
      "2019-07-23    609934.581591\n",
      "2019-07-23    609934.581591\n",
      "2019-07-23    609934.581591\n",
      "2019-07-23    609934.581591\n",
      "2019-07-23    609934.581591\n",
      "2019-07-24    609934.581591\n",
      "2019-07-24    609934.581591\n",
      "2019-07-25    609934.581591\n",
      "2019-07-25    609934.581591\n",
      "2019-07-25    609934.581591\n",
      "2019-07-25    609934.581591\n",
      "2019-07-25    609934.581591\n",
      "2019-07-25    609934.581591\n",
      "2019-07-25    609934.581591\n",
      "2019-07-26    609934.581591\n",
      "2019-07-26    609934.581591\n",
      "2019-07-26    609934.581591\n",
      "Name: predicted_mean, dtype: float64\n"
     ]
    }
   ],
   "source": [
    "start = len(train)\n",
    "end = len(train)+len(test)-1\n",
    "pred = model.predict(start=start,end=end,type='levels')\n",
    "\n",
    "pred.index = data.index[start:end+1]\n",
    "\n",
    "print(pred)"
   ]
  },
  {
   "cell_type": "code",
   "execution_count": 12,
   "id": "35ea17f5",
   "metadata": {},
   "outputs": [
    {
     "data": {
      "text/plain": [
       "<AxesSubplot:xlabel='datesold'>"
      ]
     },
     "execution_count": 12,
     "metadata": {},
     "output_type": "execute_result"
    },
    {
     "data": {
      "image/png": "[encoded data removed]",
      "text/plain": [
       "<Figure size 720x360 with 1 Axes>"
      ]
     },
     "metadata": {
      "needs_background": "light"
     },
     "output_type": "display_data"
    }
   ],
   "source": [
    "import matplotlib.pyplot as plt\n",
    "pred.plot(legend=True,figsize=(10,5))\n",
    "# plt.figure(figsize=(18,8))\n",
    "test['price'].plot(legend=True)"
   ]
  },
  {
   "cell_type": "code",
   "execution_count": 13,
   "id": "dd55f2a7",
   "metadata": {},
   "outputs": [
    {
     "data": {
      "text/plain": [
       "414391.6666666667"
      ]
     },
     "execution_count": 13,
     "metadata": {},
     "output_type": "execute_result"
    }
   ],
   "source": [
    "test['price'].mean()"
   ]
  },
  {
   "cell_type": "code",
   "execution_count": 14,
   "id": "380b4f50",
   "metadata": {},
   "outputs": [
    {
     "name": "stdout",
     "output_type": "stream",
     "text": [
      "236409.95380512928\n"
     ]
    }
   ],
   "source": [
    "from sklearn.metrics import mean_squared_error\n",
    "from math import sqrt\n",
    "rmse = sqrt(mean_squared_error(pred,test['price']))\n",
    "print(rmse)"
   ]
  },
  {
   "cell_type": "code",
   "execution_count": 15,
   "id": "4d04039e",
   "metadata": {},
   "outputs": [
    {
     "data": {
      "text/html": [
       "<div>\n",
       "<style scoped>\n",
       "    .dataframe tbody tr th:only-of-type {\n",
       "        vertical-align: middle;\n",
       "    }\n",
       "\n",
       "    .dataframe tbody tr th {\n",
       "        vertical-align: top;\n",
       "    }\n",
       "\n",
       "    .dataframe thead th {\n",
       "        text-align: right;\n",
       "    }\n",
       "</style>\n",
       "<table border=\"1\" class=\"dataframe\">\n",
       "  <thead>\n",
       "    <tr style=\"text-align: right;\">\n",
       "      <th></th>\n",
       "      <th>postcode</th>\n",
       "      <th>price</th>\n",
       "      <th>propertyType</th>\n",
       "      <th>bedrooms</th>\n",
       "    </tr>\n",
       "    <tr>\n",
       "      <th>datesold</th>\n",
       "      <th></th>\n",
       "      <th></th>\n",
       "      <th></th>\n",
       "      <th></th>\n",
       "    </tr>\n",
       "  </thead>\n",
       "  <tbody>\n",
       "    <tr>\n",
       "      <th>2019-07-25</th>\n",
       "      <td>2900</td>\n",
       "      <td>500000</td>\n",
       "      <td>unit</td>\n",
       "      <td>3</td>\n",
       "    </tr>\n",
       "    <tr>\n",
       "      <th>2019-07-25</th>\n",
       "      <td>2612</td>\n",
       "      <td>560000</td>\n",
       "      <td>unit</td>\n",
       "      <td>2</td>\n",
       "    </tr>\n",
       "    <tr>\n",
       "      <th>2019-07-26</th>\n",
       "      <td>2912</td>\n",
       "      <td>464950</td>\n",
       "      <td>unit</td>\n",
       "      <td>2</td>\n",
       "    </tr>\n",
       "    <tr>\n",
       "      <th>2019-07-26</th>\n",
       "      <td>2601</td>\n",
       "      <td>589000</td>\n",
       "      <td>unit</td>\n",
       "      <td>2</td>\n",
       "    </tr>\n",
       "    <tr>\n",
       "      <th>2019-07-26</th>\n",
       "      <td>2612</td>\n",
       "      <td>775000</td>\n",
       "      <td>unit</td>\n",
       "      <td>2</td>\n",
       "    </tr>\n",
       "  </tbody>\n",
       "</table>\n",
       "</div>"
      ],
      "text/plain": [
       "            postcode   price propertyType  bedrooms\n",
       "datesold                                           \n",
       "2019-07-25      2900  500000         unit         3\n",
       "2019-07-25      2612  560000         unit         2\n",
       "2019-07-26      2912  464950         unit         2\n",
       "2019-07-26      2601  589000         unit         2\n",
       "2019-07-26      2612  775000         unit         2"
      ]
     },
     "execution_count": 15,
     "metadata": {},
     "output_type": "execute_result"
    }
   ],
   "source": [
    "model1 = ARIMA(data['price'],order = (0,0,1))\n",
    "model1 = model1.fit()\n",
    "data.tail()"
   ]
  },
  {
   "cell_type": "code",
   "execution_count": 16,
   "id": "43fc62f8",
   "metadata": {},
   "outputs": [],
   "source": [
    "index_future_dates = pd.date_range(start='2018-12-30',end='2019-01-29')\n",
    "pred = model1.predict(start=len(data),end=len(data) + 30,type = 'levels').rename('ARIMA Predictions')\n",
    "pred.index = index_future_dates"
   ]
  },
  {
   "cell_type": "code",
   "execution_count": 17,
   "id": "3bc71cb5",
   "metadata": {},
   "outputs": [
    {
     "data": {
      "text/plain": [
       "<AxesSubplot:>"
      ]
     },
     "execution_count": 17,
     "metadata": {},
     "output_type": "execute_result"
    },
    {
     "data": {
      "image/png": "[encoded data removed]",
      "text/plain": [
       "<Figure size 864x360 with 1 Axes>"
      ]
     },
     "metadata": {
      "needs_background": "light"
     },
     "output_type": "display_data"
    }
   ],
   "source": [
    "pred.plot(figsize=(12,5),legend=True)"
   ]
  }
 ],
 "metadata": {
  "kernelspec": {
   "display_name": "Python 3 (ipykernel)",
   "language": "python",
   "name": "python3"
  },
  "language_info": {
   "codemirror_mode": {
    "name": "ipython",
    "version": 3
   },
   "file_extension": ".py",
   "mimetype": "text/x-python",
   "name": "python",
   "nbconvert_exporter": "python",
   "pygments_lexer": "ipython3",
   "version": "3.9.12"
  }
 },
 "nbformat": 4,
 "nbformat_minor": 5
}
