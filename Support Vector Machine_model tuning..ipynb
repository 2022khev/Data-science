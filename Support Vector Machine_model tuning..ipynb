{
 "cells": [
  {
   "cell_type": "code",
   "execution_count": 1,
   "id": "7313882f",
   "metadata": {},
   "outputs": [],
   "source": [
    "import pandas as pd\n",
    "import numpy as np\n",
    "import matplotlib.pyplot as plt\n",
    "\n",
    "from sklearn.datasets import make_classification\n",
    "\n",
    "from sklearn.preprocessing import StandardScaler\n",
    "import category_encoders as ce\n",
    "\n",
    "from sklearn.model_selection import train_test_split,cross_val_score, GridSearchCV\n",
    "from sklearn.pipeline import make_pipeline,Pipeline\n",
    "\n",
    "from sklearn.svm import SVC\n",
    "from sklearn.ensemble import GradientBoostingClassifier\n",
    "\n",
    "from sklearn.metrics import confusion_matrix,accuracy_score,classification_report"
   ]
  },
  {
   "cell_type": "code",
   "execution_count": 2,
   "id": "6ce98739",
   "metadata": {},
   "outputs": [
    {
     "name": "stdout",
     "output_type": "stream",
     "text": [
      "(400, 10)\n"
     ]
    },
    {
     "data": {
      "text/plain": [
       "(400,)"
      ]
     },
     "execution_count": 2,
     "metadata": {},
     "output_type": "execute_result"
    }
   ],
   "source": [
    "X,y = make_classification(n_classes=2,n_samples = 400,n_features=10,n_redundant =2)\n",
    "print(X.shape)\n",
    "y.shape"
   ]
  },
  {
   "cell_type": "code",
   "execution_count": 3,
   "id": "2eed9680",
   "metadata": {},
   "outputs": [
    {
     "name": "stdout",
     "output_type": "stream",
     "text": [
      "(320, 10)\n",
      "(80, 10)\n",
      "(320,)\n",
      "(80,)\n"
     ]
    }
   ],
   "source": [
    "X_train,X_test,y_train,y_test = train_test_split(X,y,test_size=0.2,random_state=42)\n",
    "print(X_train.shape)\n",
    "print(X_test.shape)\n",
    "print(y_train.shape)\n",
    "print(y_test.shape)"
   ]
  },
  {
   "cell_type": "code",
   "execution_count": 4,
   "id": "2d5a93c0",
   "metadata": {},
   "outputs": [],
   "source": [
    "from sklearn.linear_model import LogisticRegression"
   ]
  },
  {
   "cell_type": "code",
   "execution_count": 5,
   "id": "6b0a7471",
   "metadata": {},
   "outputs": [
    {
     "name": "stdout",
     "output_type": "stream",
     "text": [
      "l1\n",
      "gb\n",
      "svm\n"
     ]
    }
   ],
   "source": [
    "pip = {\n",
    "#     'l1':make_pipeline(StandardScaler(),  LogisticRegression(penalty='l1',random_state=42, solver = 'liblinear')),\n",
    "#     'gb': make_pipeline(StandardScaler(), GradientBoostingClassifier(random_state=1)),    \n",
    "#     'svm':make_pipeline(StandardScaler(), SVC(random_state=42))    \n",
    "    'l1':make_pipeline( LogisticRegression(penalty='l1',random_state=42, solver = 'liblinear')),\n",
    "    'gb': make_pipeline(GradientBoostingClassifier(random_state=1)),    \n",
    "    'svm':make_pipeline( SVC(random_state=42))    \n",
    "}\n",
    "for key in pip.keys():\n",
    "    print(key)"
   ]
  },
  {
   "cell_type": "code",
   "execution_count": 6,
   "id": "430de682",
   "metadata": {},
   "outputs": [],
   "source": [
    "gb_hyperparameters = {\n",
    "    'gradientboostingclassifier__n_estimators' : [100, 200],\n",
    "    'gradientboostingclassifier__learning_rate' : [0.05, 0.1, 0.2], #0.05,0.1,0.2\n",
    "    'gradientboostingclassifier__max_depth' : [1, 3, 5]\n",
    "}\n",
    "\n",
    "\n",
    "log_hyper = {\n",
    "    'logisticregression__C':[0,1,10]\n",
    "           }\n",
    "\n",
    "param_grid = {\n",
    "              'svc__C': [0.1, 1, 10, 100, 1000], \n",
    "              'svc__gamma': [1, 0.1, 0.01, 0.001, 0.0001],\n",
    "              'svc__kernel': ['linear','sigmoid','poly','rbf'],\n",
    "               'svc__degree': [1,3,5,7]\n",
    "             } "
   ]
  },
  {
   "cell_type": "code",
   "execution_count": 7,
   "id": "060ac5f7",
   "metadata": {},
   "outputs": [
    {
     "data": {
      "text/plain": [
       "{'gb': {'gradientboostingclassifier__n_estimators': [100, 200],\n",
       "  'gradientboostingclassifier__learning_rate': [0.05, 0.1, 0.2],\n",
       "  'gradientboostingclassifier__max_depth': [1, 3, 5]},\n",
       " 'l1': {'logisticregression__C': [0, 1, 10]},\n",
       " 'svm': {'svc__C': [0.1, 1, 10, 100, 1000],\n",
       "  'svc__gamma': [1, 0.1, 0.01, 0.001, 0.0001],\n",
       "  'svc__kernel': ['linear', 'sigmoid', 'poly', 'rbf'],\n",
       "  'svc__degree': [1, 3, 5, 7]}}"
      ]
     },
     "execution_count": 7,
     "metadata": {},
     "output_type": "execute_result"
    }
   ],
   "source": [
    "hyperparameters = {\n",
    "  'gb'    :gb_hyperparameters,\n",
    "  'l1'    :log_hyper,\n",
    "  'svm'   :param_grid\n",
    "    \n",
    "}\n",
    "hyperparameters"
   ]
  },
  {
   "cell_type": "code",
   "execution_count": 8,
   "id": "237aa1a9",
   "metadata": {},
   "outputs": [
    {
     "name": "stdout",
     "output_type": "stream",
     "text": [
      "gb\n",
      "l1\n",
      "svm\n"
     ]
    }
   ],
   "source": [
    "for key in hyperparameters.keys():\n",
    "    print(key)"
   ]
  },
  {
   "cell_type": "code",
   "execution_count": 9,
   "id": "3ccded69",
   "metadata": {},
   "outputs": [],
   "source": [
    "md = {}\n",
    "for key in pip.keys():\n",
    "    md[key]= GridSearchCV( pip[key],hyperparameters[key],cv=5)"
   ]
  },
  {
   "cell_type": "code",
   "execution_count": 10,
   "id": "0257ee50",
   "metadata": {},
   "outputs": [
    {
     "name": "stderr",
     "output_type": "stream",
     "text": [
      "D:\\Stats_software\\Anaconda\\lib\\site-packages\\sklearn\\model_selection\\_validation.py:372: FitFailedWarning: \n",
      "5 fits failed out of a total of 15.\n",
      "The score on these train-test partitions for these parameters will be set to nan.\n",
      "If these failures are not expected, you can try to debug them by setting error_score='raise'.\n",
      "\n",
      "Below are more details about the failures:\n",
      "--------------------------------------------------------------------------------\n",
      "5 fits failed with the following error:\n",
      "Traceback (most recent call last):\n",
      "  File \"D:\\Stats_software\\Anaconda\\lib\\site-packages\\sklearn\\model_selection\\_validation.py\", line 680, in _fit_and_score\n",
      "    estimator.fit(X_train, y_train, **fit_params)\n",
      "  File \"D:\\Stats_software\\Anaconda\\lib\\site-packages\\sklearn\\pipeline.py\", line 394, in fit\n",
      "    self._final_estimator.fit(Xt, y, **fit_params_last_step)\n",
      "  File \"D:\\Stats_software\\Anaconda\\lib\\site-packages\\sklearn\\linear_model\\_logistic.py\", line 1528, in fit\n",
      "    self.coef_, self.intercept_, n_iter_ = _fit_liblinear(\n",
      "  File \"D:\\Stats_software\\Anaconda\\lib\\site-packages\\sklearn\\svm\\_base.py\", line 1186, in _fit_liblinear\n",
      "    raw_coef_, n_iter_ = liblinear.train_wrap(\n",
      "  File \"sklearn\\svm\\_liblinear.pyx\", line 52, in sklearn.svm._liblinear.train_wrap\n",
      "ValueError: b'C <= 0'\n",
      "\n",
      "  warnings.warn(some_fits_failed_message, FitFailedWarning)\n",
      "D:\\Stats_software\\Anaconda\\lib\\site-packages\\sklearn\\model_selection\\_search.py:969: UserWarning: One or more of the test scores are non-finite: [     nan 0.878125 0.88125 ]\n",
      "  warnings.warn(\n"
     ]
    },
    {
     "name": "stdout",
     "output_type": "stream",
     "text": [
      "l1  is trained and tuned.\n",
      "gb  is trained and tuned.\n",
      "svm  is trained and tuned.\n"
     ]
    }
   ],
   "source": [
    "for key in md.keys():\n",
    "    md[key].fit(X_train, y_train)\n",
    "    print(key, ' is trained and tuned.')"
   ]
  },
  {
   "cell_type": "code",
   "execution_count": 11,
   "id": "35e5298b",
   "metadata": {},
   "outputs": [
    {
     "data": {
      "text/plain": [
       "{'svc__C': 1, 'svc__degree': 1, 'svc__gamma': 0.1, 'svc__kernel': 'rbf'}"
      ]
     },
     "execution_count": 11,
     "metadata": {},
     "output_type": "execute_result"
    }
   ],
   "source": [
    "md[key].best_params_"
   ]
  },
  {
   "cell_type": "code",
   "execution_count": 12,
   "id": "aed21e4f",
   "metadata": {},
   "outputs": [
    {
     "data": {
      "text/plain": [
       "0.8875"
      ]
     },
     "execution_count": 12,
     "metadata": {},
     "output_type": "execute_result"
    }
   ],
   "source": [
    "md[key].best_score_"
   ]
  },
  {
   "cell_type": "code",
   "execution_count": 13,
   "id": "31636453",
   "metadata": {},
   "outputs": [
    {
     "name": "stdout",
     "output_type": "stream",
     "text": [
      "\n",
      "-----------------Support Vector Machine------------------------------\n",
      "Confusion Matrix: \n",
      " [[36  5]\n",
      " [ 4 35]]\n",
      "\n",
      "Accuracy_score: \n",
      " 0.8875\n",
      "\n",
      "classification_report\n",
      "               precision    recall  f1-score   support\n",
      "\n",
      "           0       0.90      0.88      0.89        41\n",
      "           1       0.88      0.90      0.89        39\n",
      "\n",
      "    accuracy                           0.89        80\n",
      "   macro avg       0.89      0.89      0.89        80\n",
      "weighted avg       0.89      0.89      0.89        80\n",
      "\n"
     ]
    }
   ],
   "source": [
    "from sklearn.metrics import confusion_matrix,accuracy_score\n",
    "print('\\n-----------------Support Vector Machine------------------------------')\n",
    "print('Confusion Matrix: \\n',confusion_matrix(y_test,md['svm'].predict(X_test)))\n",
    "print('\\nAccuracy_score: \\n',accuracy_score(y_test,md['svm'].predict(X_test)))\n",
    "print('\\nclassification_report\\n',classification_report(y_test,md['svm'].predict(X_test)))"
   ]
  },
  {
   "cell_type": "code",
   "execution_count": 14,
   "id": "1d5b1118",
   "metadata": {},
   "outputs": [
    {
     "name": "stdout",
     "output_type": "stream",
     "text": [
      "\n",
      "-----------------Logistic Regression------------------------------\n",
      "Confusion Matrix: \n",
      " [[38  3]\n",
      " [ 8 31]]\n",
      "\n",
      "Accuracy_score: \n",
      " 0.8625\n",
      "\n",
      "classification_report\n",
      "               precision    recall  f1-score   support\n",
      "\n",
      "           0       0.83      0.93      0.87        41\n",
      "           1       0.91      0.79      0.85        39\n",
      "\n",
      "    accuracy                           0.86        80\n",
      "   macro avg       0.87      0.86      0.86        80\n",
      "weighted avg       0.87      0.86      0.86        80\n",
      "\n"
     ]
    }
   ],
   "source": [
    "from sklearn.metrics import confusion_matrix,accuracy_score\n",
    "print('\\n-----------------Logistic Regression------------------------------')\n",
    "print('Confusion Matrix: \\n',confusion_matrix(y_test,md['l1'].predict(X_test)))\n",
    "print('\\nAccuracy_score: \\n',accuracy_score(y_test,md['l1'].predict(X_test)))\n",
    "print('\\nclassification_report\\n',classification_report(y_test,md['l1'].predict(X_test)))"
   ]
  },
  {
   "cell_type": "code",
   "execution_count": 15,
   "id": "19326452",
   "metadata": {},
   "outputs": [
    {
     "name": "stdout",
     "output_type": "stream",
     "text": [
      "\n",
      "-----------------Gradient Boosting------------------------------\n",
      "Confusion Matrix: \n",
      " [[39  2]\n",
      " [ 8 31]]\n",
      "\n",
      "Accuracy_score: \n",
      " 0.875\n",
      "\n",
      "classification_report\n",
      "               precision    recall  f1-score   support\n",
      "\n",
      "           0       0.83      0.95      0.89        41\n",
      "           1       0.94      0.79      0.86        39\n",
      "\n",
      "    accuracy                           0.88        80\n",
      "   macro avg       0.88      0.87      0.87        80\n",
      "weighted avg       0.88      0.88      0.87        80\n",
      "\n"
     ]
    }
   ],
   "source": [
    "from sklearn.metrics import confusion_matrix,accuracy_score\n",
    "print('\\n-----------------Gradient Boosting------------------------------')\n",
    "print('Confusion Matrix: \\n',confusion_matrix(y_test,md['gb'].predict(X_test)))\n",
    "print('\\nAccuracy_score: \\n',accuracy_score(y_test,md['gb'].predict(X_test)))\n",
    "print('\\nclassification_report\\n',classification_report(y_test,md['gb'].predict(X_test)))"
   ]
  },
  {
   "cell_type": "code",
   "execution_count": 16,
   "id": "a6d1e01e",
   "metadata": {},
   "outputs": [],
   "source": [
    "clf = SVC(random_state=1\n",
    "         )"
   ]
  },
  {
   "cell_type": "code",
   "execution_count": 17,
   "id": "15b2b238",
   "metadata": {},
   "outputs": [
    {
     "data": {
      "text/plain": [
       "{'kernel': ['linear', 'poly', 'sigmoid', 'rbf'],\n",
       " 'degree': array([0, 1, 2, 3, 4, 5, 6, 7, 8, 9]),\n",
       " 'gamma': [0.01, 1, 10],\n",
       " 'C': [0.1, 1, 10, 100, 1000]}"
      ]
     },
     "execution_count": 17,
     "metadata": {},
     "output_type": "execute_result"
    }
   ],
   "source": [
    "param = {\n",
    "      'kernel':['linear','poly','sigmoid','rbf'],\n",
    "     'degree' : np.arange(0,10,1),\n",
    "      'gamma' : [0.01,1,10],\n",
    "    'C': [0.1, 1, 10, 100, 1000],\n",
    " }\n",
    "param"
   ]
  },
  {
   "cell_type": "code",
   "execution_count": 18,
   "id": "4cc67ec6",
   "metadata": {},
   "outputs": [],
   "source": [
    "model = GridSearchCV(clf,param,cv=5)"
   ]
  },
  {
   "cell_type": "code",
   "execution_count": 19,
   "id": "057e9221",
   "metadata": {},
   "outputs": [],
   "source": [
    "# model.fit(X_train,y_train)"
   ]
  },
  {
   "cell_type": "code",
   "execution_count": 20,
   "id": "5a06fcf5",
   "metadata": {},
   "outputs": [],
   "source": [
    "# model.best_params_"
   ]
  },
  {
   "cell_type": "code",
   "execution_count": 21,
   "id": "d400e61d",
   "metadata": {},
   "outputs": [],
   "source": [
    "# model.best_score_"
   ]
  },
  {
   "cell_type": "code",
   "execution_count": 22,
   "id": "8b5f8dbe",
   "metadata": {},
   "outputs": [],
   "source": [
    "param_grid = {'C': [0.1, 1, 10, 100, 1000], \n",
    "              'gamma': [1, 0.1, 0.01, 0.001, 0.0001],\n",
    "              'kernel': ['rbf']} "
   ]
  },
  {
   "cell_type": "code",
   "execution_count": 23,
   "id": "c7c22858",
   "metadata": {},
   "outputs": [],
   "source": [
    "# {'svc__C': 100, 'svc__degree': 1, 'svc__gamma': 0.01, 'svc__kernel': 'rbf'}"
   ]
  },
  {
   "cell_type": "code",
   "execution_count": 24,
   "id": "d9159906",
   "metadata": {},
   "outputs": [
    {
     "data": {
      "text/plain": [
       "SVC(C=100, degree=1, gamma=0.01, kernel='linear')"
      ]
     },
     "execution_count": 24,
     "metadata": {},
     "output_type": "execute_result"
    }
   ],
   "source": [
    "md1 = SVC(kernel='linear',C =100,gamma=0.01, degree = 1)\n",
    "md1"
   ]
  },
  {
   "cell_type": "code",
   "execution_count": 25,
   "id": "90540244",
   "metadata": {},
   "outputs": [
    {
     "data": {
      "text/plain": [
       "SVC(C=100, degree=1, gamma=0.01, kernel='linear')"
      ]
     },
     "execution_count": 25,
     "metadata": {},
     "output_type": "execute_result"
    }
   ],
   "source": [
    "md1.fit(X_train,y_train)"
   ]
  },
  {
   "cell_type": "code",
   "execution_count": 26,
   "id": "bb0e520a",
   "metadata": {},
   "outputs": [
    {
     "name": "stdout",
     "output_type": "stream",
     "text": [
      "\n",
      "-----------------Final SVM------------------------------\n",
      "Confusion Matrix: \n",
      " [[37  4]\n",
      " [ 5 34]]\n",
      "\n",
      "Accuracy_score: \n",
      " 0.8875\n",
      "\n",
      "classification_report\n",
      "               precision    recall  f1-score   support\n",
      "\n",
      "           0       0.88      0.90      0.89        41\n",
      "           1       0.89      0.87      0.88        39\n",
      "\n",
      "    accuracy                           0.89        80\n",
      "   macro avg       0.89      0.89      0.89        80\n",
      "weighted avg       0.89      0.89      0.89        80\n",
      "\n"
     ]
    }
   ],
   "source": [
    "from sklearn.metrics import confusion_matrix,accuracy_score\n",
    "print('\\n-----------------Final SVM------------------------------')\n",
    "print('Confusion Matrix: \\n',confusion_matrix(y_test,md1.predict(X_test)))\n",
    "print('\\nAccuracy_score: \\n',accuracy_score(y_test,md1.predict(X_test)))\n",
    "print('\\nclassification_report\\n',classification_report(y_test,md1.predict(X_test)))"
   ]
  },
  {
   "cell_type": "code",
   "execution_count": 27,
   "id": "b6e2b6e1",
   "metadata": {},
   "outputs": [
    {
     "data": {
      "image/png": "[encoded data removed]",
      "text/plain": [
       "<Figure size 432x288 with 1 Axes>"
      ]
     },
     "metadata": {
      "needs_background": "light"
     },
     "output_type": "display_data"
    }
   ],
   "source": [
    "plt.scatter(X_train[:,0],X_train[:,1],c =y_train,cmap='winter');"
   ]
  },
  {
   "cell_type": "code",
   "execution_count": 28,
   "id": "a5dc3db3",
   "metadata": {},
   "outputs": [],
   "source": [
    "w = md1.coef_[0]\n",
    "a = -w[0]/w[1]\n",
    "xx = np.linspace(5,30)\n",
    "\n",
    "b = md1.support_vectors_[0]\n",
    "yy_down = a * xx + (b[1] - a* b[0])\n",
    "b = md1.support_vectors_[-1]\n",
    "yy_up = a * xx + (b[1] - a *b[0])"
   ]
  },
  {
   "cell_type": "code",
   "execution_count": 29,
   "id": "a005c961",
   "metadata": {},
   "outputs": [],
   "source": [
    "import seaborn as sns"
   ]
  },
  {
   "cell_type": "code",
   "execution_count": 30,
   "id": "e7b919a5",
   "metadata": {},
   "outputs": [
    {
     "data": {
      "text/plain": [
       "[<matplotlib.lines.Line2D at 0x21f1bc43340>]"
      ]
     },
     "execution_count": 30,
     "metadata": {},
     "output_type": "execute_result"
    },
    {
     "data": {
      "image/png": "[encoded data removed]",
      "text/plain": [
       "<Figure size 432x288 with 1 Axes>"
      ]
     },
     "metadata": {
      "needs_background": "light"
     },
     "output_type": "display_data"
    }
   ],
   "source": [
    "pred = md1.predict(X_test)\n",
    "plt.scatter(X_train[:,0],X_train[:,1],c =y_train,s=50,cmap='winter');\n",
    "\n",
    "plt.plot(xx,yy_down,linewidth=2,color='black')"
   ]
  },
  {
   "cell_type": "code",
   "execution_count": 31,
   "id": "aad4f863",
   "metadata": {},
   "outputs": [],
   "source": [
    "#A dash of data"
   ]
  }
 ],
 "metadata": {
  "kernelspec": {
   "display_name": "Python 3 (ipykernel)",
   "language": "python",
   "name": "python3"
  },
  "language_info": {
   "codemirror_mode": {
    "name": "ipython",
    "version": 3
   },
   "file_extension": ".py",
   "mimetype": "text/x-python",
   "name": "python",
   "nbconvert_exporter": "python",
   "pygments_lexer": "ipython3",
   "version": "3.9.12"
  }
 },
 "nbformat": 4,
 "nbformat_minor": 5
}
